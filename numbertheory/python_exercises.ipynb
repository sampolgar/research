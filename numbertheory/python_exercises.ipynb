{
 "cells": [
  {
   "cell_type": "code",
   "execution_count": 2,
   "metadata": {},
   "outputs": [],
   "source": [
    "import numpy as np"
   ]
  },
  {
   "cell_type": "code",
   "execution_count": 3,
   "metadata": {},
   "outputs": [],
   "source": [
    "A = [[1,2,3],[4,5,6],[7,8,9]]\n",
    "B = [[1,1,1],[2,2,2],[3,3,3]]\n",
    "C = [[2,3,4],[6,7,8],[10,11,12]]\n",
    "\n",
    "def add_arrays(A, B):\n",
    "    C = []\n",
    "    for i in range(len(A)):\n",
    "        temp = []\n",
    "        C.append(temp)\n",
    "        for j in range(len(A[i])):\n",
    "            temp.append(A[i][j] + B[i][j])\n",
    "    return C\n",
    "\n",
    "assert (add_arrays(A, B) == np.array(C)).all()"
   ]
  },
  {
   "cell_type": "code",
   "execution_count": 8,
   "metadata": {},
   "outputs": [
    {
     "name": "stdout",
     "output_type": "stream",
     "text": [
      "x is\n",
      "[[ 0  2  4  6  8]\n",
      " [10 12 14 16 18]\n",
      " [20 22 24 26 28]\n",
      " [30 32 34 36 38]\n",
      " [40 42 44 46 48]]\n",
      "\n",
      "y is\n",
      "[[2. 0. 0. 0. 0.]\n",
      " [0. 2. 0. 0. 0.]\n",
      " [0. 0. 2. 0. 0.]\n",
      " [0. 0. 0. 2. 0.]\n",
      " [0. 0. 0. 0. 2.]]\n",
      "\n",
      "np.dot(x,y) is matrix multiplication\n",
      "[[ 0.  4.  8. 12. 16.]\n",
      " [20. 24. 28. 32. 36.]\n",
      " [40. 44. 48. 52. 56.]\n",
      " [60. 64. 68. 72. 76.]\n",
      " [80. 84. 88. 92. 96.]]\n",
      "\n",
      "np.matmul(x,y) is matrix multiplication\n",
      "[[ 0.  4.  8. 12. 16.]\n",
      " [20. 24. 28. 32. 36.]\n",
      " [40. 44. 48. 52. 56.]\n",
      " [60. 64. 68. 72. 76.]\n",
      " [80. 84. 88. 92. 96.]]\n",
      "\n",
      "np.multiply(x,y) is element-wise multiplication\n",
      "[[ 0.  0.  0.  0.  0.]\n",
      " [ 0. 24.  0.  0.  0.]\n",
      " [ 0.  0. 48.  0.  0.]\n",
      " [ 0.  0.  0. 72.  0.]\n",
      " [ 0.  0.  0.  0. 96.]]\n"
     ]
    }
   ],
   "source": [
    "x, y = np.arange(0,50,2).reshape(5,5), 2*np.eye(5)\n",
    "print(\"x is\" + \"\\n\" + str(x))\n",
    "print(\"\")\n",
    "print(\"y is\" + \"\\n\" + str(y))\n",
    "print(\"\")\n",
    "print(\"np.dot(x,y) is matrix multiplication\")\n",
    "print(np.dot(x,y))\n",
    "print(\"\")\n",
    "print(\"np.matmul(x,y) is matrix multiplication\")\n",
    "print(np.matmul(x,y))\n",
    "print(\"\")\n",
    "print(\"np.multiply(x,y) is element-wise multiplication\")\n",
    "print(np.multiply(x,y))"
   ]
  },
  {
   "cell_type": "code",
   "execution_count": 9,
   "metadata": {},
   "outputs": [],
   "source": [
    "def linearCombination(A, B, a, b):\n",
    "    alinear = np.multiply(A,a)\n",
    "    blinear = np.multiply(B,b)\n",
    "    return alinear + blinear\n",
    "    pass\n",
    "\n",
    "vector1 = np.array([1,2])\n",
    "vector2 = np.array([5,6])\n",
    "scalar1 = 3\n",
    "scalar2 = 10\n",
    "\n",
    "assert (np.array([53, 66]) == linearCombination(vector1, vector2, scalar1, scalar2)).all()"
   ]
  },
  {
   "cell_type": "code",
   "execution_count": 11,
   "metadata": {},
   "outputs": [
    {
     "name": "stdout",
     "output_type": "stream",
     "text": [
      "[[2]\n",
      " [5]\n",
      " [8]]\n",
      "\n",
      "[[7 8 9]]\n"
     ]
    }
   ],
   "source": [
    "def get_column_as_1d(A, col_number):\n",
    "    data = np.array(A)\n",
    "    return data[:, col_number:col_number+1]\n",
    "    pass\n",
    "\n",
    "def get_row_as_1d(A, row_number):\n",
    "    data = np.array(A)\n",
    "    return data[row_number:row_number+1]\n",
    "    pass\n",
    "\n",
    "A = [[1,2,3],[4,5,6],[7,8,9]] \n",
    "print(get_column_as_1d(A, 1)) # [2,5,8]\n",
    "print(\"\")\n",
    "print(get_row_as_1d(A, 2)) # [7,8,9]"
   ]
  },
  {
   "cell_type": "markdown",
   "metadata": {},
   "source": [
    "Modulo essentials"
   ]
  },
  {
   "cell_type": "code",
   "execution_count": 12,
   "metadata": {},
   "outputs": [
    {
     "name": "stdout",
     "output_type": "stream",
     "text": [
      "calculating 1590868 took 3.44 seconds\n"
     ]
    }
   ],
   "source": [
    "import time\n",
    "\n",
    "s = time.time()\n",
    "ans = 1002583 ** 939001 % 2003951\n",
    "t = time.time()\n",
    "\n",
    "print(\"calculating {} took {:.2f} seconds\".format(ans, t-s))"
   ]
  },
  {
   "cell_type": "code",
   "execution_count": 13,
   "metadata": {},
   "outputs": [
    {
     "name": "stdout",
     "output_type": "stream",
     "text": [
      "calculating 1590868 operation took 0.00 seconds\n"
     ]
    }
   ],
   "source": [
    "s = time.time()\n",
    "ans = pow(1002583,939001,2003951)\n",
    "t = time.time()\n",
    "\n",
    "print(\"calculating {} operation took {:.2f} seconds\".format(ans, t - s))"
   ]
  }
 ],
 "metadata": {
  "kernelspec": {
   "display_name": "base",
   "language": "python",
   "name": "python3"
  },
  "language_info": {
   "codemirror_mode": {
    "name": "ipython",
    "version": 3
   },
   "file_extension": ".py",
   "mimetype": "text/x-python",
   "name": "python",
   "nbconvert_exporter": "python",
   "pygments_lexer": "ipython3",
   "version": "3.11.5"
  }
 },
 "nbformat": 4,
 "nbformat_minor": 2
}
