{
 "cells": [
  {
   "cell_type": "markdown",
   "metadata": {},
   "source": [
    "Many exercises from \n",
    "- https://www.rareskills.io/zk-book\n",
    "- Why and How zk-SNARK works: https://arxiv.org/pdf/1906.07221.pdf"
   ]
  },
  {
   "cell_type": "code",
   "execution_count": 2,
   "metadata": {},
   "outputs": [
    {
     "name": "stdout",
     "output_type": "stream",
     "text": [
      "941162282\n",
      "310677131\n",
      "196430175\n",
      "True\n"
     ]
    }
   ],
   "source": [
    "# encrypted add exponents\n",
    "\n",
    "n = 1000004119\n",
    "g = 5\n",
    "a = 7907\n",
    "b = 7919\n",
    "c = a + b\n",
    "print(pow(g, a, n))\n",
    "print(pow(g, b, n))\n",
    "print(pow(g, c, n))\n",
    "# 7907\t7919\n",
    "\n",
    "print((pow(g, a) * pow(g, b))%n == pow(g, a+b, n))"
   ]
  },
  {
   "cell_type": "code",
   "execution_count": 6,
   "metadata": {},
   "outputs": [],
   "source": [
    "# encrypted subtraction of exponents\n",
    "g = 57\n",
    "n = 101\n",
    "a = 22\n",
    "pow(g, a, n) * pow(g, -a, n) % n == 1\n",
    "\n",
    "a_inv = a ** (n - 2) % n\n",
    "assert(a_inv * a % n == 1)\n"
   ]
  },
  {
   "cell_type": "code",
   "execution_count": 7,
   "metadata": {},
   "outputs": [
    {
     "data": {
      "text/plain": [
       "True"
      ]
     },
     "execution_count": 7,
     "metadata": {},
     "output_type": "execute_result"
    }
   ],
   "source": [
    "# encrypted multiplication of exponents\n",
    "# g^4a = g^a * g^a * g^a * g^a\n",
    "pow(g, a, n) * pow(g, a, n) * pow(g, a, n) * pow(g, a, n) % n == pow(g, a * 4, n)\n",
    "pow(pow(g, a, n), 4 , n) == pow(g, a * 4, n)"
   ]
  },
  {
   "cell_type": "code",
   "execution_count": 9,
   "metadata": {},
   "outputs": [
    {
     "name": "stdout",
     "output_type": "stream",
     "text": [
      "514\n"
     ]
    }
   ],
   "source": [
    "# encrypted addition of rational exponents\n",
    "import math\n",
    "\n",
    "g = 57\n",
    "xnum = 53\n",
    "xdem = pow(192,-1,1033)\n",
    "x = xnum * xdem % 1033\n",
    "\n",
    "ynum = 61\n",
    "ydem = pow(511,-1,1033)\n",
    "y = ynum * ydem % 1033\n",
    "\n",
    "result = (xnum*xdem +  ynum*ydem) % 1033\n",
    "print(result)"
   ]
  }
 ],
 "metadata": {
  "kernelspec": {
   "display_name": "base",
   "language": "python",
   "name": "python3"
  },
  "language_info": {
   "codemirror_mode": {
    "name": "ipython",
    "version": 3
   },
   "file_extension": ".py",
   "mimetype": "text/x-python",
   "name": "python",
   "nbconvert_exporter": "python",
   "pygments_lexer": "ipython3",
   "version": "3.11.5"
  }
 },
 "nbformat": 4,
 "nbformat_minor": 2
}
