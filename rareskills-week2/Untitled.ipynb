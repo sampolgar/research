{
 "cells": [
  {
   "cell_type": "markdown",
   "id": "5aab9929",
   "metadata": {},
   "source": [
    "Implement ECDSA\n",
    "- use py_ecc & secp256k1 y^2 = x^3 + 7 mod(n)\\n\n",
    "message = 420\\n\n",
    "private_key = 12345689\\n\n",
    "public_key = private * G\\n\n",
    "\n",
    "\n",
    "Key Gen\n",
    "Sign\n",
    "Verify\n",
    "Recover (bonus)\n",
    "\n",
    "1. create elliptic curve and generator G on the curve\n",
    "2. select private key d from [1, n-1] where n is the order of G\n",
    "3. compute public key = d * G\n",
    "\n",
    "Sign\n",
    "\n",
    "\n",
    "\n",
    "In ECDSA (Elliptic Curve Digital Signature Algorithm), the main functions you'll need to implement are:\n",
    "\n",
    "1. **Key Generation**: Generate a public-private key pair.\n",
    "2. **Signing**: Create a digital signature for a given message using the private key.\n",
    "3. **Verification**: Verify the digital signature using the public key.\n",
    "\n",
    "Here's a quick breakdown:\n",
    "\n",
    "### Key Generation\n",
    "1. Select an elliptic curve and a base point \\( G \\) on that curve.\n",
    "2. Choose a private key \\( d \\) randomly from \\( [1, n-1] \\) where \\( n \\) is the order of \\( G \\).\n",
    "3. Compute the public key \\( Q = d \\times G \\).\n",
    "\n",
    "### Signing\n",
    "1. Choose a random integer \\( k \\) from \\( [1, n-1] \\).\n",
    "2. Compute \\( P = k \\times G \\) and let \\( r \\) be the \\( x \\)-coordinate of \\( P \\).\n",
    "3. Compute \\( s = k^{-1} (H(m) + d \\times r) \\mod n \\) where \\( H(m) \\) is the hash of the message \\( m \\).\n",
    "4. The signature is \\( (r, s) \\).\n",
    "\n",
    "### Verification\n",
    "1. Compute \\( w = s^{-1} \\mod n \\).\n",
    "2. Compute \\( u_1 = H(m) \\times w \\mod n \\) and \\( u_2 = r \\times w \\mod n \\).\n",
    "3. Compute \\( P = u_1 \\times G + u_2 \\times Q \\).\n",
    "4. If \\( P \\) is \\( \\text{O} \\) or \\( r \\neq x \\)-coordinate of \\( P \\), the signature is invalid.\n",
    "\n",
    "In terms of cryptography, ECDSA provides a way to ensure both the integrity and the origin of a message, which is crucial in secure communications.\n",
    "\n",
    "Would you like code examples or mathematical details for any of these steps?"
   ]
  },
  {
   "cell_type": "markdown",
   "id": "088ac95b",
   "metadata": {},
   "source": [
    "https://github.com/tlsfuzzer/python-ecdsa/blob/master/src/ecdsa/numbertheory.py"
   ]
  }
 ],
 "metadata": {
  "kernelspec": {
   "display_name": "Python 3 (ipykernel)",
   "language": "python",
   "name": "python3"
  },
  "language_info": {
   "codemirror_mode": {
    "name": "ipython",
    "version": 3
   },
   "file_extension": ".py",
   "mimetype": "text/x-python",
   "name": "python",
   "nbconvert_exporter": "python",
   "pygments_lexer": "ipython3",
   "version": "3.11.4"
  }
 },
 "nbformat": 4,
 "nbformat_minor": 5
}
