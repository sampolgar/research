{
 "cells": [
  {
   "cell_type": "markdown",
   "id": "9e1f626d",
   "metadata": {},
   "source": [
    "Implement ECDSA\n",
    "- use py_ecc & secp256k1 y^2 = x^3 + 7 mod(n)\n",
    "message = 420\n",
    "private_key = 12345689\n",
    "public_key = private * G"
   ]
  },
  {
   "cell_type": "code",
   "execution_count": null,
   "id": "dcb93921",
   "metadata": {},
   "outputs": [],
   "source": []
  }
 ],
 "metadata": {
  "kernelspec": {
   "display_name": "Python 3 (ipykernel)",
   "language": "python",
   "name": "python3"
  },
  "language_info": {
   "codemirror_mode": {
    "name": "ipython",
    "version": 3
   },
   "file_extension": ".py",
   "mimetype": "text/x-python",
   "name": "python",
   "nbconvert_exporter": "python",
   "pygments_lexer": "ipython3",
   "version": "3.11.4"
  }
 },
 "nbformat": 4,
 "nbformat_minor": 5
}
