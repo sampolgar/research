{
 "cells": [
  {
   "cell_type": "code",
   "execution_count": 4,
   "metadata": {},
   "outputs": [],
   "source": [
    "from py_ecc.bn128 import G1, G2, multiply, add, curve_order, Z1, pairing, neg, final_exponentiate, FQ12, is_inf, eq\n",
    "import galois \n",
    "GF = galois.GF(curve_order)"
   ]
  },
  {
   "cell_type": "code",
   "execution_count": 12,
   "metadata": {},
   "outputs": [
    {
     "name": "stdout",
     "output_type": "stream",
     "text": [
      "(4444740815889402603535294170722302758225367627362056425101568584910268024244, 10537263096529483164618820017164668921386457028564663708352735080900270541420)\n",
      "(15012325621026644184045762978738412474442356583800543712126643990481298861813, 4267645508599519784673821560899175235932113169305747217206520518895142237067, 9605640887275982760085549877660272063759559624642361043769680838843663043844, 8527741798530570213140864223260614549490569205971543935479128986436935408273, 3170521800353213563435582240280934964129520522016748396998905395639804700884, 15282487952147349684932496442330344938300434905305660692548652058262012064788, 16971187067415765975504500253678755801792873843756283646571921697442136261102, 2076609033601584171799205032777989933146098390599741370266542789167810974568, 9956083666476842555094238955126296965718717241344979949561504280208798934772, 16599042560360271747366000606825634311946267556726426502310580624294554695499, 4754180242998611194659901576356075436720659925499469126121262195274010096072, 8506116078619111915017588317196675174068043321310924689396647807061593583064)\n"
     ]
    }
   ],
   "source": [
    "# simple scale demo\n",
    "a = 10\n",
    "A = multiply(G1, 10)\n",
    "print(A)\n",
    "# (4444740815889402603535294170722302758225367627362056425101568584910268024244, 10537263096529483164618820017164668921386457028564663708352735080900270541420)\n",
    "\n",
    "# given A, DLOG says you can't find \"a\" \n",
    "\n",
    "# test random pairing\n",
    "test = pairing(\n",
    "    multiply(G2,1),\n",
    "    multiply(G1, 2)\n",
    ")\n",
    "\n",
    "print(test)\n",
    "# G12: (15012325621026644184045762978738412474442356583800543712126643990481298861813, 4267645508599519784673821560899175235932113169305747217206520518895142237067, 9605640887275982760085549877660272063759559624642361043769680838843663043844, 8527741798530570213140864223260614549490569205971543935479128986436935408273, 3170521800353213563435582240280934964129520522016748396998905395639804700884, 15282487952147349684932496442330344938300434905305660692548652058262012064788, 16971187067415765975504500253678755801792873843756283646571921697442136261102, 2076609033601584171799205032777989933146098390599741370266542789167810974568, 9956083666476842555094238955126296965718717241344979949561504280208798934772, 16599042560360271747366000606825634311946267556726426502310580624294554695499, 4754180242998611194659901576356075436720659925499469126121262195274010096072, 8506116078619111915017588317196675174068043321310924689396647807061593583064)\n",
    "# given ^ G12 point, pairing says we can't find the G1, G2 points that produce it\n",
    "\n",
    "\n",
    "# but we can verify G12 points by giving the same scalars\n",
    "\n",
    "# pairing requires powers e(a * b) = e()^ab\n",
    "# let lhs = (10, 5)... let rhs = (50,1)\n",
    "# 10 * 5 = 50...... 50 * 1 = 50\n",
    "\n",
    "lhs = pairing(\n",
    "    multiply(G2,10),\n",
    "    multiply(G1, 5)\n",
    ")\n",
    "\n",
    "rhs = pairing(\n",
    "    multiply(G2,50),\n",
    "    multiply(G1,1)\n",
    ")\n",
    "\n",
    "assert eq(lhs,rhs), \"not equal\""
   ]
  },
  {
   "cell_type": "code",
   "execution_count": 9,
   "metadata": {},
   "outputs": [],
   "source": [
    "# This script demonstrates evaluating a polynomial at a random number is the same as \n",
    "# we see that evaluating a polyomial at tau is the same as computing the inner product of the poly coefficients and the powers of tau\n",
    "tau = GF(20)\n",
    "\n",
    "\n",
    "# unencrypted evaluation\n",
    "# Create polynomial 4x^4 + 10x^3 + 7x^2 + 7x + 2\n",
    "# evaluate at tau = 20 i.e. 4(20)^4 + 10(20)^3 + 7(20)^2 + 7(20) + 2 = 722942\n",
    "\n",
    "poly = galois.Poly([4,2,3,1], field=GF) * galois.Poly([1,2], field=GF)\n",
    "# poly = 4x^4 + 10x^3 + 7x^2 + 7x + 2\n",
    "\n",
    "# Evaluate the poly at tau.\n",
    "unencrypted_p_tau = poly(tau)\n",
    "# = 722942\n",
    "\n",
    "unencrypted_p_tau_G1 = multiply(G1, int(unencrypted_p_tau))\n",
    "# = 722942 * G1\n",
    "\n",
    "\n",
    "\n",
    "\n",
    "# encrypted evaluation\n",
    "# generate powers of tau (1 for each coeff) for 4x^4 + 10x^3 + 7x^2 + 7x + 2\n",
    "# i.e. [τ^4 G1],[τ^3 G1],[τ^2 G1],[τ^1 G1],[τ^0 G1]\n",
    "# inner product powers of tau with poly coeffs\n",
    "# i.e. 4 * [τ^4 G1] + 10 * [τ^3 G1] + 7 * [τ^2 G1] + 7 * [τ^1 G1] + 2 * [τ^0 G1]\n",
    "# result should be equal to \n",
    "\n",
    "def generate_powers_of_tau(tau, degree):\n",
    "    \"\"\"Computes and prints the powers of tau up to the specified degree and returns them\n",
    "    as elliptic curve points by multiplying each power by the base point G1.\"\"\"\n",
    "    powers_of_tau = []\n",
    "    for i in range(degree+1):\n",
    "        powers_of_tau.append(multiply(G1, int(tau**i)))\n",
    "    return powers_of_tau\n",
    "\n",
    "# create [τ^0 G1],[τ^1 G1][τ^2 G1]...[τ^degree +1 G1]\n",
    "powers_of_tau = generate_powers_of_tau(tau, poly.degree)\n",
    "\n",
    "def inner_product(powers_of_tau, coeffs):\n",
    "    \"\"\"Computes the elliptic curve point representing the inner product of the reversed poly coefficients\n",
    "    and the powers of tau points.\"\"\"\n",
    "    accumulator = Z1\n",
    "    for tau_power, coeff in zip(powers_of_tau, coeffs):\n",
    "        term = multiply(tau_power, int(coeff))\n",
    "        accumulator = add(accumulator, term)\n",
    "    return accumulator\n",
    "\n",
    "encrypted_p_tau_G1 = inner_product(powers_of_tau, poly.coeffs[::-1])\n",
    "\n",
    "# test that the encrypted = unencrypted\n",
    "assert eq(encrypted_p_tau_G1, unencrypted_p_tau_G1), \"doesn't match\"\n",
    "\n",
    "\n"
   ]
  }
 ],
 "metadata": {
  "kernelspec": {
   "display_name": "base",
   "language": "python",
   "name": "python3"
  },
  "language_info": {
   "codemirror_mode": {
    "name": "ipython",
    "version": 3
   },
   "file_extension": ".py",
   "mimetype": "text/x-python",
   "name": "python",
   "nbconvert_exporter": "python",
   "pygments_lexer": "ipython3",
   "version": "3.11.5"
  }
 },
 "nbformat": 4,
 "nbformat_minor": 2
}
