{
 "cells": [
  {
   "cell_type": "code",
   "execution_count": 1,
   "metadata": {},
   "outputs": [],
   "source": [
    "from py_ecc.bn128 import G1, G2, multiply, add, curve_order, eq, Z1, pairing, neg\n",
    "import numpy as np\n",
    "import galois   \n",
    "import random"
   ]
  },
  {
   "cell_type": "code",
   "execution_count": 2,
   "metadata": {},
   "outputs": [],
   "source": [
    "GF = galois.GF(curve_order)\n",
    "# takes about 2 minutes"
   ]
  },
  {
   "cell_type": "code",
   "execution_count": 3,
   "metadata": {},
   "outputs": [
    {
     "name": "stdout",
     "output_type": "stream",
     "text": [
      "1 97 5 10 25 125 100 1250\n"
     ]
    }
   ],
   "source": [
    "x = GF(5)#random.randint(1,10)\n",
    "y = GF(10)#random.randint(1,15)\n",
    "\n",
    "v1 = x * x\n",
    "v2 = v1 * x\n",
    "v3 = y * y\n",
    "v4 = v2 * y\n",
    "out = v2 + GF(2) * v4 - GF(5) * x * v3 - GF(3) * y + GF(2)\n",
    "print(1,out,x,y,v1,v2,v3,v4)\n",
    "\n",
    "Lgf = GF(np.array([\n",
    "    [0,0,1,0,0,0,0,0],\n",
    "    [0,0,0,0,1,0,0,0],\n",
    "    [0,0,0,1,0,0,0,0],\n",
    "    [0,0,0,0,0,1,0,0],\n",
    "    [0,0,curve_order - 5,0,0,0,0,0] # 113 - 5 = 108\n",
    "    ]))\n",
    "\n",
    "Rgf = GF(np.array([\n",
    "    [0,0,1,0,0,0,0,0],\n",
    "    [0,0,1,0,0,0,0,0],\n",
    "    [0,0,0,1,0,0,0,0],\n",
    "    [0,0,0,1,0,0,0,0],\n",
    "    [0,0,0,0,0,0,1,0]\n",
    "    ]))\n",
    "\n",
    "Ogf = GF(np.array([\n",
    "    [0,0,0,0,1,0,0,0],\n",
    "    [0,0,0,0,0,1,0,0],\n",
    "    [0,0,0,0,0,0,1,0],\n",
    "    [0,0,0,0,0,0,0,1],\n",
    "    [curve_order-2,1,0,3,0,curve_order-1,0,curve_order-2] # 113 - 2 = 111\n",
    "    ]))\n",
    "\n",
    "wgf = GF(np.array([GF(1),out,x,y,v1,v2,v3,v4]))\n",
    "\n",
    "# assert all(np.multiply(np.dot(L,w), np.dot(R,w)) == np.dot(O,w)), \"result contains an inequality\"\n",
    "result = Ogf.dot(wgf) == np.multiply(Lgf.dot(wgf),Rgf.dot(wgf))\n",
    "assert result.all(), \"result contains an inequality\"\n"
   ]
  },
  {
   "cell_type": "code",
   "execution_count": 4,
   "metadata": {},
   "outputs": [],
   "source": [
    "target_poly = GF(np.array([1,2,3,4,5]))\n",
    "# for each column in the matrix, compute the lagrange polynomial, resulting in a vector of polynomials\n",
    "def interpolate_columns(column):\n",
    "    return galois.lagrange_poly(target_poly,column)\n",
    "\n",
    "L_vector_of_poly = np.apply_along_axis(interpolate_columns, 0, Lgf)\n",
    "R_vector_of_poly = np.apply_along_axis(interpolate_columns, 0, Rgf)\n",
    "O_vector_of_poly = np.apply_along_axis(interpolate_columns, 0, Ogf)\n",
    "# print(L_vector_of_poly)"
   ]
  },
  {
   "cell_type": "code",
   "execution_count": 5,
   "metadata": {},
   "outputs": [],
   "source": [
    "def reduce_polynomials_to_1(vector_of_poly, witness):\n",
    "    sum = GF(0)\n",
    "    for i in range(len(vector_of_poly)):\n",
    "        sum += vector_of_poly[i]*witness[i]\n",
    "    return sum\n",
    "\n",
    "Ux = reduce_polynomials_to_1(L_vector_of_poly,wgf)\n",
    "Vx = reduce_polynomials_to_1(R_vector_of_poly,wgf)\n",
    "Wx = reduce_polynomials_to_1(O_vector_of_poly,wgf)"
   ]
  },
  {
   "cell_type": "markdown",
   "metadata": {},
   "source": [
    "Sample output from the above steps\n",
    "\n",
    "7296080957279758407415468581752425029516121466805344781232734728858602831849x^4 + 3648040478639879203707734290876212514758060733402672390616367364429301416197x^3 + 3648040478639879203707734290876212514758060733402672390616367364429301414937x^2 + 7296080957279758407415468581752425029516121466805344781232734728858602833414x + 21888242871839275222246405745257275088548364400416034343698204186575808494842\n",
    "13680151794899547013904003590785796930342727750260021464811377616609880309765x^4 + 9120101196599698009269335727190531286895151833506680976540918411073253539795x^3 + 8208091076939728208342402154471478158205636650156012878886826569965928186022x^2 + 12768141675239577212977070018066743801653212566909353367157285775502554955532x + 125\n",
    "6384070837619788606488535009033371900826606283454676683578642887751277477581x^4 + 9120101196599698009269335727190531286895151833506680976540918411073253543130x^3 + 15504172034219486615757870736223903187721758116961357660119561298824531005611x^2 + 12768141675239577212977070018066743801653212566909353367157285775502554973812x + 21888242871839275222246405745257275088548364400416034343698204186575808486742"
   ]
  },
  {
   "cell_type": "code",
   "execution_count": 6,
   "metadata": {},
   "outputs": [],
   "source": [
    "UxVx = Ux*Vx   \n",
    "Tx = galois.Poly(np.flip(np.polynomial.polynomial.polyfromroots([1,2,3,4])).astype(int),  field=GF)\n",
    "Hx, remainder = divmod(((Ux*Vx) - Wx), Tx)\n",
    "assert remainder == 0, \"remainder is not 0\"\n",
    "\n",
    "# Check Tx and Hx balances the polynomial correctly\n",
    "lhs = Ux*Vx\n",
    "rhs = Hx*Tx + Wx\n",
    "assert lhs == rhs, \"result is not balanced across LHS and RHS\""
   ]
  },
  {
   "cell_type": "markdown",
   "metadata": {},
   "source": [
    "Preventing forgery, introduce $\\alpha$ and $\\beta$\n",
    "\n",
    "### Pairing LHS:\n",
    "$(\\alpha + \\sum_{i=0}^m a_iu_i(x))$ $(\\beta + \\sum_{i=0}^m a_iv_i(x))$\n",
    "\n",
    "### Pairing RHS:\n",
    "Previously, $C$ = $\\sum_{i=0}^m a_iw_i(X)$ + $h(x)t(x)$\n",
    "\n",
    "We need to adapt for $\\alpha \\, and \\, \\beta$ $\\sum_{i=0}^m a_i(\\beta u_i(x) + \\alpha v_i(x) +  w_i(x) )$ + $h(x)t(x)$  \n",
    "\n",
    "Which equals: $\\sum_{i=0}^m a_i\\beta u_i(x) + a_i\\alpha v_i(x) +  a_iw_i(x)$ + $h(x)t(x)$"
   ]
  },
  {
   "cell_type": "code",
   "execution_count": 8,
   "metadata": {},
   "outputs": [
    {
     "name": "stdout",
     "output_type": "stream",
     "text": [
      "(7231593109241136996379804975294316287077409790236125900914040946802458790156, 2243199413637058191742357464895766628691785712428269937786752457704964437849)\n",
      "((6687769990805907354780494181282853495775531704669382891331850594658479351500, 19116992951627598582317588856198769755469416288530602659351917964741210768765), (15787594042206970808240085135298324499426108722248997381539398767980414201574, 19814467509690106414989851308094880700571204308097873205060921740317127423242))\n"
     ]
    }
   ],
   "source": [
    "from functools import reduce\n",
    "import random\n",
    "\n",
    "tau = GF(8)\n",
    "# tau = GF(random.randint(1,curve_order-1))\n",
    "\n",
    "def generate_powers_of_tau_G1(tau, degree):\n",
    "    \"\"\"\n",
    "    tau is a random num between 1 and curve_order, degree is the highest d of the polynomial\n",
    "    this generates the powers of tau, i.e. tau^0, tau^1, tau^2, tau^3, tau^4, tau^5\n",
    "    \"\"\"\n",
    "    return [multiply(G1, int(tau ** i)) for i in range(degree + 1)]\n",
    "\n",
    "def generate_powers_of_tau_G2(tau, degree):\n",
    "    \"\"\"\n",
    "    same for G2\n",
    "    \"\"\"\n",
    "    return [multiply(G2, int(tau ** i)) for i in range(degree + 1)]\n",
    "\n",
    "def inner_product(ec_points, coeffs):\n",
    "    \"\"\"\n",
    "    ec_points is the powers of tao, i.e. [G1, tau*G1, tau^2*G1, tau^3*G1, ...]\n",
    "    coeffs are the coefficients of the polynomial after lagrange\n",
    "    this computes the inner product of the 2 vectors\n",
    "    i.e. Ux[0] * tau^0 + Ux[1] + tau^1..\n",
    "    e.g. 123*tau^0*G1 + 456*tau^1*G1 + 789*tau^2*G1 + 123*tau^3*G1\n",
    "    e.g. multiply(G1, 123*tau^0) pointadd multiply(G1, 456*tau^1) pointadd multiply(G1, 789*tau^2) \n",
    "    the result is 1 point on the curve representing the whole polynomial\n",
    "    Z1 is the identity element\n",
    "    \"\"\"\n",
    "    return reduce(add, (multiply(point, int(coeff)) for point, coeff in zip(ec_points, coeffs)), Z1)\n",
    "\n",
    "# evaluate then convert\n",
    "powers_of_tau_G1 = generate_powers_of_tau_G1(tau, 2 * Tx.degree)\n",
    "powers_of_tau_G2 = generate_powers_of_tau_G2(tau, 2 * Tx.degree)\n",
    "# print(powers_of_tau_G1)\n",
    "\n",
    "# Trusted Setup\n",
    "alpha1 = multiply(G1, 2)\n",
    "beta2 = multiply(G2, 3)\n",
    "\n",
    "\n",
    "\n",
    "# Prover generating AB\n",
    "A_1_old = inner_product(powers_of_tau_G1, Ux.coeffs[::-1])\n",
    "B_2_old = inner_product(powers_of_tau_G2, Vx.coeffs[::-1])\n",
    "\n",
    "\n",
    "A_1_new = add(A_1_old, alpha1)\n",
    "B_2_new = add(B_2_old, beta2)\n",
    "lhs = pairing(B_2_new,A_1_new)\n",
    "\n",
    "# Aold Bold = C\n",
    "# A = Aold + alpha, B = Bold + beta\n",
    "# AB = alpha beta + C\n",
    "# AB = alpha beta + [alpha b + beta a] + AoldBold\n",
    "# C needs to be a G1 point\n",
    "\n",
    "\n",
    "alpha = 2\n",
    "beta = 3\n",
    "\n",
    "# Trusted Setup for C\n",
    "Ux_prime = alpha * Ux\n",
    "Vx_prime = beta * Vx\n",
    "trusted_setup_beta_G1 = inner_product(powers_of_tau_G1, Ux_prime.coeffs[::-1])\n",
    "trusted_setup_alpha_G1 = inner_product(powers_of_tau_G1, Vx_prime.coeffs[::-1])\n",
    "\n",
    "\n",
    "# print(C_1prime)\n",
    "# print(Wx)\n",
    "\n",
    "\n",
    "# A_1new = add(A_1, alpha1)\n",
    "# B_2new = add(B_2, beta2)\n",
    "# lhs = pairing(B_2new, A_1new)\n",
    "\n",
    "# rhs = pairing(G2,C_1prime)\n",
    "\n",
    "# if(eq(lhs,rhs)):\n",
    "#     print(\"true\")\n",
    "# else:\n",
    "#     print(\"false\")\n",
    "\n",
    "\n",
    "\n",
    "\n",
    "\n",
    "\n",
    "\n",
    "\n",
    "# # Introducing alpha and beta to either side of pairing equation\n",
    "# # 2 and 3 are arbitrary numbers chosen\n",
    "# alpha1 = multiply(G1, 2)\n",
    "# beta2 = multiply(G2, 3)\n",
    "\n",
    "# A_1new = add(A_1, alpha1)\n",
    "# B_2new = add(B_2, beta2)\n",
    "\n",
    "# lhs = pairing(B_2new, A_1new)\n",
    "\n",
    "# # RHS\n",
    "# rhs_1 = pairing(beta2, alpha1)\n",
    "# rhs_2 = pairing(beta2,A_1)\n",
    "# rhs_3 = pairing(B_2, alpha1)\n",
    "# rhs_4 = pairing(G2, C_1)\n",
    "# rhs = rhs_1 * rhs_2 * rhs_3 * rhs_4\n",
    "\n",
    "# if(eq(lhs,rhs)):\n",
    "#     print(\"true\")\n",
    "# else:\n",
    "#     print(\"false\")"
   ]
  },
  {
   "cell_type": "code",
   "execution_count": null,
   "metadata": {},
   "outputs": [],
   "source": []
  }
 ],
 "metadata": {
  "kernelspec": {
   "display_name": "base",
   "language": "python",
   "name": "python3"
  },
  "language_info": {
   "codemirror_mode": {
    "name": "ipython",
    "version": 3
   },
   "file_extension": ".py",
   "mimetype": "text/x-python",
   "name": "python",
   "nbconvert_exporter": "python",
   "pygments_lexer": "ipython3",
   "version": "3.11.5"
  }
 },
 "nbformat": 4,
 "nbformat_minor": 2
}
