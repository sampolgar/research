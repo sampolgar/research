{
 "cells": [
  {
   "cell_type": "code",
   "execution_count": 1,
   "metadata": {},
   "outputs": [],
   "source": [
    "from py_ecc.bn128 import G1, G2, multiply, add, curve_order, eq, Z1, pairing, neg\n",
    "import numpy as np\n",
    "import galois   \n",
    "import random"
   ]
  },
  {
   "cell_type": "code",
   "execution_count": 2,
   "metadata": {},
   "outputs": [],
   "source": [
    "GF = galois.GF(curve_order)\n",
    "# takes about 2 minutes"
   ]
  },
  {
   "cell_type": "code",
   "execution_count": 3,
   "metadata": {},
   "outputs": [
    {
     "name": "stdout",
     "output_type": "stream",
     "text": [
      "1 97 5 10 25 125 100 1250\n"
     ]
    }
   ],
   "source": [
    "x = GF(5)#random.randint(1,10)\n",
    "y = GF(10)#random.randint(1,15)\n",
    "\n",
    "v1 = x * x\n",
    "v2 = v1 * x\n",
    "v3 = y * y\n",
    "v4 = v2 * y\n",
    "out = v2 + GF(2) * v4 - GF(5) * x * v3 - GF(3) * y + GF(2)\n",
    "print(1,out,x,y,v1,v2,v3,v4)\n",
    "\n",
    "Lgf = GF(np.array([\n",
    "    [0,0,1,0,0,0,0,0],\n",
    "    [0,0,0,0,1,0,0,0],\n",
    "    [0,0,0,1,0,0,0,0],\n",
    "    [0,0,0,0,0,1,0,0],\n",
    "    [0,0,curve_order - 5,0,0,0,0,0] # 113 - 5 = 108\n",
    "    ]))\n",
    "\n",
    "Rgf = GF(np.array([\n",
    "    [0,0,1,0,0,0,0,0],\n",
    "    [0,0,1,0,0,0,0,0],\n",
    "    [0,0,0,1,0,0,0,0],\n",
    "    [0,0,0,1,0,0,0,0],\n",
    "    [0,0,0,0,0,0,1,0]\n",
    "    ]))\n",
    "\n",
    "Ogf = GF(np.array([\n",
    "    [0,0,0,0,1,0,0,0],\n",
    "    [0,0,0,0,0,1,0,0],\n",
    "    [0,0,0,0,0,0,1,0],\n",
    "    [0,0,0,0,0,0,0,1],\n",
    "    [curve_order-2,1,0,3,0,curve_order-1,0,curve_order-2] # 113 - 2 = 111\n",
    "    ]))\n",
    "\n",
    "wgf = GF(np.array([GF(1),out,x,y,v1,v2,v3,v4]))\n",
    "\n",
    "# assert all(np.multiply(np.dot(L,w), np.dot(R,w)) == np.dot(O,w)), \"result contains an inequality\"\n",
    "result = Ogf.dot(wgf) == np.multiply(Lgf.dot(wgf),Rgf.dot(wgf))\n",
    "assert result.all(), \"result contains an inequality\"\n"
   ]
  },
  {
   "cell_type": "code",
   "execution_count": 4,
   "metadata": {},
   "outputs": [],
   "source": [
    "target_poly = GF(np.array([1,2,3,4,5]))\n",
    "# for each column in the matrix, compute the lagrange polynomial, resulting in a vector of polynomials\n",
    "def interpolate_columns(column):\n",
    "    return galois.lagrange_poly(target_poly,column)\n",
    "\n",
    "L_vector_of_poly = np.apply_along_axis(interpolate_columns, 0, Lgf)\n",
    "R_vector_of_poly = np.apply_along_axis(interpolate_columns, 0, Rgf)\n",
    "O_vector_of_poly = np.apply_along_axis(interpolate_columns, 0, Ogf)\n",
    "# print(L_vector_of_poly)"
   ]
  },
  {
   "cell_type": "code",
   "execution_count": 5,
   "metadata": {},
   "outputs": [
    {
     "name": "stdout",
     "output_type": "stream",
     "text": [
      "7296080957279758407415468581752425029516121466805344781232734728858602831849x^4 + 3648040478639879203707734290876212514758060733402672390616367364429301416197x^3 + 3648040478639879203707734290876212514758060733402672390616367364429301414937x^2 + 7296080957279758407415468581752425029516121466805344781232734728858602833414x + 21888242871839275222246405745257275088548364400416034343698204186575808494842\n",
      "13680151794899547013904003590785796930342727750260021464811377616609880309765x^4 + 9120101196599698009269335727190531286895151833506680976540918411073253539795x^3 + 8208091076939728208342402154471478158205636650156012878886826569965928186022x^2 + 12768141675239577212977070018066743801653212566909353367157285775502554955532x + 125\n",
      "6384070837619788606488535009033371900826606283454676683578642887751277477581x^4 + 9120101196599698009269335727190531286895151833506680976540918411073253543130x^3 + 15504172034219486615757870736223903187721758116961357660119561298824531005611x^2 + 12768141675239577212977070018066743801653212566909353367157285775502554973812x + 21888242871839275222246405745257275088548364400416034343698204186575808486742\n"
     ]
    }
   ],
   "source": [
    "def reduce_polynomials_to_1(vector_of_poly, witness):\n",
    "    sum = GF(0)\n",
    "    for i in range(len(vector_of_poly)):\n",
    "        sum += vector_of_poly[i]*witness[i]\n",
    "    return sum\n",
    "\n",
    "Ux = reduce_polynomials_to_1(L_vector_of_poly,wgf)\n",
    "Vx = reduce_polynomials_to_1(R_vector_of_poly,wgf)\n",
    "Wx = reduce_polynomials_to_1(O_vector_of_poly,wgf)\n",
    "print(Ux)\n",
    "print(Vx)\n",
    "print(Wx)"
   ]
  },
  {
   "cell_type": "code",
   "execution_count": 36,
   "metadata": {},
   "outputs": [
    {
     "name": "stdout",
     "output_type": "stream",
     "text": [
      "7296080957279758407415468581752425029516121466805344781232734728858602831849x^4 + 3648040478639879203707734290876212514758060733402672390616367364429301416197x^3 + 3648040478639879203707734290876212514758060733402672390616367364429301414937x^2 + 7296080957279758407415468581752425029516121466805344781232734728858602833414x + 21888242871839275222246405745257275088548364400416034343698204186575808494842\n",
      "13680151794899547013904003590785796930342727750260021464811377616609880309765x^4 + 9120101196599698009269335727190531286895151833506680976540918411073253539795x^3 + 8208091076939728208342402154471478158205636650156012878886826569965928186022x^2 + 12768141675239577212977070018066743801653212566909353367157285775502554955532x + 125\n"
     ]
    }
   ],
   "source": [
    "print(Ux)\n",
    "print(Vx)\n",
    "UxVx = Ux*Vx   \n",
    "Tx = galois.Poly(np.flip(np.polynomial.polynomial.polyfromroots([1,2,3,4])).astype(int),  field=GF)\n",
    "Hx, remainder = divmod(((Ux*Vx) - Wx), Tx)\n",
    "assert remainder == 0, \"remainder is not 0\"\n",
    "\n",
    "# Check Tx and Hx balances the polynomial correctly\n",
    "lhs = Ux*Vx\n",
    "rhs = Hx*Tx + Wx\n",
    "assert lhs == rhs, \"result is not balanced across LHS and RHS\""
   ]
  },
  {
   "cell_type": "code",
   "execution_count": 30,
   "metadata": {},
   "outputs": [
    {
     "name": "stdout",
     "output_type": "stream",
     "text": [
      "true\n"
     ]
    }
   ],
   "source": [
    "# Compute Generator points and add together\n",
    "# Uses py_ecc to scale both G1 and G2 points\n",
    "\n",
    "from functools import reduce\n",
    "import random\n",
    "\n",
    "tau = GF(8)\n",
    "# tau = GF(random.randint(1,curve_order-1))\n",
    "\n",
    "\n",
    "def generate_powers_of_tau_G1(tau, degree):\n",
    "    \"\"\"\n",
    "    tau is a random num between 1 and curve_order, degree is the highest d of the polynomial\n",
    "    this generates the powers of tau, i.e. tau^0, tau^1, tau^2, tau^3, tau^4, tau^5\n",
    "    \"\"\"\n",
    "    return [multiply(G1, int(tau ** i)) for i in range(degree + 1)]\n",
    "\n",
    "def generate_powers_of_tau_G2(tau, degree):\n",
    "    \"\"\"\n",
    "    same for G2\n",
    "    \"\"\"\n",
    "    return [multiply(G2, int(tau ** i)) for i in range(degree + 1)]\n",
    "\n",
    "def inner_product(ec_points, coeffs):\n",
    "    \"\"\"\n",
    "    ec_points is the powers of tao, i.e. [G1, tau*G1, tau^2*G1, tau^3*G1, ...]\n",
    "    coeffs are the coefficients of the polynomial after lagrange\n",
    "    this computes the inner product of the 2 vectors i.e. Ux[0] * tau^0 + Ux[1] + tau^1..\n",
    "    the result is 1 point on the curve representing the whole polynomial\n",
    "    Z1 is the identity element\n",
    "    \"\"\"\n",
    "    return reduce(add, (multiply(point, int(coeff)) for point, coeff in zip(ec_points, coeffs)), Z1)\n",
    "\n",
    "# evaluate then convert\n",
    "powers_of_tau_G1 = generate_powers_of_tau_G1(tau, 2 * Tx.degree)\n",
    "powers_of_tau_G2 = generate_powers_of_tau_G2(tau, 2 * Tx.degree)\n",
    "\n",
    "A_1 = inner_product(powers_of_tau_G1, Ux.coeffs[::-1])\n",
    "B_2 = inner_product(powers_of_tau_G2, Vx.coeffs[::-1])\n",
    "\n",
    "C_1prime = inner_product(powers_of_tau_G1, Wx.coeffs[::-1])\n",
    "\n",
    "\n",
    "HxTx = Hx * Tx\n",
    "HT_1 = inner_product(powers_of_tau_G1, HxTx.coeffs[::-1])\n",
    "C_1 = add(C_1prime, HT_1)\n",
    "\n",
    "if(eq(pairing(B_2, A_1), pairing(G2, C_1))):\n",
    "    print(\"true\")\n",
    "else:\n",
    "    print(\"false\")"
   ]
  },
  {
   "cell_type": "code",
   "execution_count": 40,
   "metadata": {},
   "outputs": [
    {
     "name": "stdout",
     "output_type": "stream",
     "text": [
      "pairing  passed\n",
      "(9803898041702540398160399645357731287355673031201538372853932511322884805726, 11128470719875790280392317650402252169371234851254677264720753199598729681805, 3922336409574034748806025359114522142156112867204506803595562760816189675412, 12103664419819719285415081611082887607177241021950955534834794153469449851663, 21393184659913303681899401918166326190753948641447241793691520389835092674413, 19535821784611606792780085735564386101368586564020070386556619502951170479609, 11333106631692212530106699936344503816040307425920626666808893901192855977537, 4466360961371775234272455930475294001402775361245741563119014251976201180202, 15786600933801901754870420252482901985470971732436902458010064357307325624115, 13277702811638405414828998499559108506532345211078092599995336971953230772593, 4573420354668234593286718810657012735027939719642973636613237055779744740193, 9566692064094025186722918762284664627156465359168744850808088701668406737813)\n",
      "(15460495852512770990468430530735396517718761232645031322562196266583821516773, 15093839921537932614477358144401376413665502695485644115763855771720917276246, 6658284845544158589743764519887936428912909594024433490534664008200923889311, 6550547539655549247369295570946360277643019667014313379903032901212927709587, 17715736501007459435422433874662764946983297338807155330847975441637358861915, 13020334263748563248514781052966606268823066511916592745112241297066367398646, 5886512865786528251282636226572922153829065228010158830908465594840434523117, 2365766032149235738402902696045062062916951683043179046612312410656033058682, 502081039714570659282406380863978152540676513323215954750681026904105774487, 2793723163687075037719263056958371726048516227445682757215427400820073550854, 16827729421308738952811736042650904464752725474139467777640282905495166337156, 17958316224972684933348687889055189444612894104079427226562411064165011379828)\n"
     ]
    },
    {
     "ename": "AssertionError",
     "evalue": "pairing is not equal",
     "output_type": "error",
     "traceback": [
      "\u001b[0;31m---------------------------------------------------------------------------\u001b[0m",
      "\u001b[0;31mAssertionError\u001b[0m                            Traceback (most recent call last)",
      "\u001b[1;32m/Users/spolgar/Documents/projects/research/zkp-groth16/g16-1.ipynb Cell 8\u001b[0m line \u001b[0;36m2\n\u001b[1;32m     <a href='vscode-notebook-cell:/Users/spolgar/Documents/projects/research/zkp-groth16/g16-1.ipynb#W6sZmlsZQ%3D%3D?line=23'>24</a>\u001b[0m rhs \u001b[39m=\u001b[39m pairing(Beta2, Alpha1) \u001b[39m*\u001b[39m pairing(alphaScaleB2, betaScaleA1) \u001b[39m*\u001b[39m pairing(G2, C_1)\n\u001b[1;32m     <a href='vscode-notebook-cell:/Users/spolgar/Documents/projects/research/zkp-groth16/g16-1.ipynb#W6sZmlsZQ%3D%3D?line=24'>25</a>\u001b[0m \u001b[39mprint\u001b[39m(rhs)\n\u001b[0;32m---> <a href='vscode-notebook-cell:/Users/spolgar/Documents/projects/research/zkp-groth16/g16-1.ipynb#W6sZmlsZQ%3D%3D?line=26'>27</a>\u001b[0m \u001b[39massert\u001b[39;00m eq(lhs, rhs), \u001b[39m\"\u001b[39m\u001b[39mpairing is not equal\u001b[39m\u001b[39m\"\u001b[39m\n",
      "\u001b[0;31mAssertionError\u001b[0m: pairing is not equal"
     ]
    }
   ],
   "source": [
    "\n",
    "# Introduce Toxic Waste\n",
    "# alpha = random.randint(1,curve_order)\n",
    "# beta = random.randint(1,curve_order)\n",
    "\n",
    "assert eq(pairing(B_2, A_1), pairing(G2, C_1)), \"pairing is not equal\"\n",
    "print(\"pairing  passed\")\n",
    "\n",
    "alpha = 2 #This is a random field element\n",
    "beta = 3 #This is a random field element\n",
    "\n",
    "\n",
    "Alpha1 = multiply(G1, alpha)\n",
    "Beta2 = multiply(G2, beta)\n",
    "A_11 = add(A_1, Alpha1)\n",
    "B_22 = add(B_2, Beta2) \n",
    "\n",
    "betaScaleA1 = multiply(A_1, beta)\n",
    "alphaScaleB2 = multiply(B_2, alpha)\n",
    "\n",
    "lhs = pairing(B_22, A_11)\n",
    "print(lhs)\n",
    "rhs = pairing(Beta2, Alpha1) * pairing(alphaScaleB2, betaScaleA1) * pairing(G2, C_1)\n",
    "print(rhs)\n",
    "\n",
    "assert eq(lhs, rhs), \"pairing is not equal\"\n"
   ]
  },
  {
   "cell_type": "code",
   "execution_count": null,
   "metadata": {},
   "outputs": [],
   "source": []
  }
 ],
 "metadata": {
  "kernelspec": {
   "display_name": "base",
   "language": "python",
   "name": "python3"
  },
  "language_info": {
   "codemirror_mode": {
    "name": "ipython",
    "version": 3
   },
   "file_extension": ".py",
   "mimetype": "text/x-python",
   "name": "python",
   "nbconvert_exporter": "python",
   "pygments_lexer": "ipython3",
   "version": "3.11.5"
  }
 },
 "nbformat": 4,
 "nbformat_minor": 2
}
