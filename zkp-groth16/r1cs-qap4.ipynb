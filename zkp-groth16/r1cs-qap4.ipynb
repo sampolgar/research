{
 "cells": [
  {
   "cell_type": "code",
   "execution_count": 1,
   "metadata": {},
   "outputs": [],
   "source": [
    "from py_ecc.bn128 import G1, G2, multiply, add, curve_order, eq, Z1, pairing, neg\n",
    "import numpy as np\n",
    "import galois   "
   ]
  },
  {
   "cell_type": "code",
   "execution_count": 2,
   "metadata": {},
   "outputs": [],
   "source": [
    "GF = galois.GF(curve_order)\n",
    "# takes about 2 minutes"
   ]
  },
  {
   "cell_type": "code",
   "execution_count": 3,
   "metadata": {},
   "outputs": [
    {
     "name": "stdout",
     "output_type": "stream",
     "text": [
      "1 97 5 10 25 125 100 1250\n"
     ]
    }
   ],
   "source": [
    "x = GF(5)#random.randint(1,10)\n",
    "y = GF(10)#random.randint(1,15)\n",
    "\n",
    "v1 = x * x\n",
    "v2 = v1 * x\n",
    "v3 = y * y\n",
    "v4 = v2 * y\n",
    "out = v2 + GF(2) * v4 - GF(5) * x * v3 - GF(3) * y + GF(2)\n",
    "print(1,out,x,y,v1,v2,v3,v4)\n",
    "\n",
    "Lgf = GF(np.array([\n",
    "    [0,0,1,0,0,0,0,0],\n",
    "    [0,0,0,0,1,0,0,0],\n",
    "    [0,0,0,1,0,0,0,0],\n",
    "    [0,0,0,0,0,1,0,0],\n",
    "    [0,0,curve_order - 5,0,0,0,0,0] # 113 - 5 = 108\n",
    "    ]))\n",
    "\n",
    "Rgf = GF(np.array([\n",
    "    [0,0,1,0,0,0,0,0],\n",
    "    [0,0,1,0,0,0,0,0],\n",
    "    [0,0,0,1,0,0,0,0],\n",
    "    [0,0,0,1,0,0,0,0],\n",
    "    [0,0,0,0,0,0,1,0]\n",
    "    ]))\n",
    "\n",
    "Ogf = GF(np.array([\n",
    "    [0,0,0,0,1,0,0,0],\n",
    "    [0,0,0,0,0,1,0,0],\n",
    "    [0,0,0,0,0,0,1,0],\n",
    "    [0,0,0,0,0,0,0,1],\n",
    "    [curve_order-2,1,0,3,0,curve_order-1,0,curve_order-2] # 113 - 2 = 111\n",
    "    ]))\n",
    "\n",
    "wgf = GF(np.array([GF(1),out,x,y,v1,v2,v3,v4]))\n",
    "\n",
    "# assert all(np.multiply(np.dot(L,w), np.dot(R,w)) == np.dot(O,w)), \"result contains an inequality\"\n",
    "result = Ogf.dot(wgf) == np.multiply(Lgf.dot(wgf),Rgf.dot(wgf))\n",
    "assert result.all(), \"result contains an inequality\"\n"
   ]
  },
  {
   "cell_type": "code",
   "execution_count": 4,
   "metadata": {},
   "outputs": [
    {
     "name": "stdout",
     "output_type": "stream",
     "text": [
      "[Poly(0, GF(21888242871839275222246405745257275088548364400416034343698204186575808495617))\n",
      " Poly(0, GF(21888242871839275222246405745257275088548364400416034343698204186575808495617))\n",
      " Poly(3648040478639879203707734290876212514758060733402672390616367364429301415936x^4 + 10944121435919637611123202872628637544274182200208017171849102093287904247810x^3 + 7296080957279758407415468581752425029516121466805344781232734728858602831868x^2 + 4x, GF(21888242871839275222246405745257275088548364400416034343698204186575808495617))\n",
      " Poly(16416182153879456416684804308942956316411273300312025757773653139931856371713x^4 + 21888242871839275222246405745257275088548364400416034343698204186575808495614x^3 + 16416182153879456416684804308942956316411273300312025757773653139931856371725x^2 + 10944121435919637611123202872628637544274182200208017171849102093287904247789x + 10, GF(21888242871839275222246405745257275088548364400416034343698204186575808495617))\n",
      " Poly(3648040478639879203707734290876212514758060733402672390616367364429301415936x^4 + 18240202393199396018538671454381062573790303667013361953081836822146507079683x^3 + 18240202393199396018538671454381062573790303667013361953081836822146507079671x^2 + 3648040478639879203707734290876212514758060733402672390616367364429301415954x + 21888242871839275222246405745257275088548364400416034343698204186575808495607, GF(21888242871839275222246405745257275088548364400416034343698204186575808495617))\n",
      " Poly(3648040478639879203707734290876212514758060733402672390616367364429301415936x^4 + 3648040478639879203707734290876212514758060733402672390616367364429301415938x^3 + 18240202393199396018538671454381062573790303667013361953081836822146507079674x^2 + 18240202393199396018538671454381062573790303667013361953081836822146507079691x + 21888242871839275222246405745257275088548364400416034343698204186575808495612, GF(21888242871839275222246405745257275088548364400416034343698204186575808495617))\n",
      " Poly(0, GF(21888242871839275222246405745257275088548364400416034343698204186575808495617))\n",
      " Poly(0, GF(21888242871839275222246405745257275088548364400416034343698204186575808495617))]\n"
     ]
    }
   ],
   "source": [
    "target_poly = GF(np.array([1,2,3,4,5]))\n",
    "# for each column in the matrix, compute the lagrange polynomial, resulting in a vector of polynomials\n",
    "def interpolate_columns(column):\n",
    "    return galois.lagrange_poly(target_poly,column)\n",
    "\n",
    "L_vector_of_poly = np.apply_along_axis(interpolate_columns, 0, Lgf)\n",
    "R_vector_of_poly = np.apply_along_axis(interpolate_columns, 0, Rgf)\n",
    "O_vector_of_poly = np.apply_along_axis(interpolate_columns, 0, Ogf)\n",
    "print(R_vector_of_poly)"
   ]
  },
  {
   "cell_type": "code",
   "execution_count": 31,
   "metadata": {},
   "outputs": [
    {
     "name": "stdout",
     "output_type": "stream",
     "text": [
      "13680151794899547013904003590785796930342727750260021464811377616609880309765x^4 + 9120101196599698009269335727190531286895151833506680976540918411073253539795x^3 + 8208091076939728208342402154471478158205636650156012878886826569965928186022x^2 + 12768141675239577212977070018066743801653212566909353367157285775502554955532x + 125\n"
     ]
    }
   ],
   "source": [
    "def reduce_polynomials_to_1(vector_of_poly, witness):\n",
    "    sum = GF(0)\n",
    "    for i in range(len(vector_of_poly)):\n",
    "        sum += vector_of_poly[i]*witness[i]\n",
    "    return sum\n",
    "\n",
    "Ua = reduce_polynomials_to_1(L_vector_of_poly,wgf)\n",
    "Va = reduce_polynomials_to_1(R_vector_of_poly,wgf)\n",
    "Wa = reduce_polynomials_to_1(O_vector_of_poly,wgf)\n",
    "# print(Ua)\n",
    "print(Va)\n",
    "# print(Wa)"
   ]
  },
  {
   "cell_type": "code",
   "execution_count": 70,
   "metadata": {},
   "outputs": [
    {
     "name": "stdout",
     "output_type": "stream",
     "text": [
      "(15408243139265932337676760254044817568949149914733382727758642401124772145172, 10707466251951667763649266781350499983831580247483887965971176433260431209127)\n",
      "true\n"
     ]
    }
   ],
   "source": [
    "# Compute Generator points and add together\n",
    "# Uses py_ecc to scale both G1 and G2 points\n",
    "from functools import reduce\n",
    "import random\n",
    "\n",
    "tau = GF(9)\n",
    "# tau = GF(random.randint(1,curve_order-1))\n",
    "\n",
    "def generate_powers_of_tau_G1(tau, degree):\n",
    "    \"\"\"\n",
    "    tau is a random num between 1 and curve_order, degree is the highest d of the polynomial\n",
    "    this generates the powers of tau, i.e. tau^0, tau^1, tau^2, tau^3, tau^4, tau^5\n",
    "    \"\"\"\n",
    "    return [multiply(G1, int(tau ** i)) for i in range(degree + 1)]\n",
    "\n",
    "def generate_powers_of_tau_G2(tau, degree):\n",
    "    \"\"\"\n",
    "    same for G2\n",
    "    \"\"\"\n",
    "    return [multiply(G2, int(tau ** i)) for i in range(degree + 1)]\n",
    "\n",
    "def inner_product(ec_points, coeffs):\n",
    "    \"\"\"\n",
    "    ec_points is the powers of tao, i.e. [G1, tau*G1, tau^2*G1, tau^3*G1, ...]\n",
    "    coeffs are the coefficients of the polynomial after lagrange\n",
    "    this computes the inner product of the 2 vectors i.e. Ux[0] * tau^0 + Ux[1] + tau^1..\n",
    "    the result is 1 point on the curve representing the whole polynomial\n",
    "    Z1 is the identity element\n",
    "    \"\"\"\n",
    "    return reduce(add, (multiply(point, int(coeff)) for point, coeff in zip(ec_points, coeffs)), Z1)\n",
    "\n",
    "# generate target polynomial (x-1)(x-2)... \n",
    "target_poly_x = galois.Poly(np.flip(np.polynomial.polynomial.polyfromroots([1,2,3,4])).astype(int),  field=GF)\n",
    "\n",
    "# Public Trusted Setup for powers of tau G1, G2\n",
    "powers_of_tau_G1 = generate_powers_of_tau_G1(tau, 2 * target_poly_x.degree)\n",
    "powers_of_tau_G2 = generate_powers_of_tau_G2(tau, 2 * target_poly_x.degree)\n",
    "\n",
    "# inner product of R1CS matrix and Witness Vector, computed by Prover\n",
    "inner_product_ua_and_tau = inner_product(powers_of_tau_G1, Ua.coeffs[::-1])\n",
    "inner_product_va_and_tau = inner_product(powers_of_tau_G2, Va.coeffs[::-1])\n",
    "inner_product_wa_and_tau = inner_product(powers_of_tau_G1, Wa.coeffs[::-1])\n",
    "\n",
    "# [A][B] = [C] + h(x)t(x)\n",
    "A1 = inner_product_ua_and_tau\n",
    "B2 = inner_product_va_and_tau\n",
    "\n",
    "# h(x) = Ua * Va - Wa // target_poly_x computed by prover\n",
    "hx, remainder = divmod((Ua * Va - Wa), target_poly_x)\n",
    "assert remainder == 0, \"remainder is not 0\"\n",
    "\n",
    "ht = hx * target_poly_x\n",
    "inner_product_ht_and_tau = inner_product(powers_of_tau_G1, ht.coeffs[::-1])\n",
    "C1 = add(inner_product_wa_and_tau, inner_product_ht_and_tau)\n",
    "print(C1)\n",
    "\n",
    "if(eq(pairing(B2,A1), pairing(G2,C1))):\n",
    "    print(\"true\")\n",
    "else:\n",
    "    print(\"false\")\n"
   ]
  },
  {
   "cell_type": "code",
   "execution_count": 74,
   "metadata": {},
   "outputs": [
    {
     "name": "stdout",
     "output_type": "stream",
     "text": [
      "5472060717959818805561601436314318772137091100104008585924551046643952113138x^4 + 10944121435919637611123202872628637544274182200208017171849102093287904368215x^3 + 16416182153879456416684804308942956316411273300312025757773653139931855912274x^2 + 10944121435919637611123202872628637544274182200208017171849102093287904951253x + 21888242871839275222246405745257275088548364400416034343698204186575808142052\n",
      "(9326956671834866868468699811816534810103024654683332412025578094365989586332, 4331078678490706627067589576256765366988401669845479238880291071712418357445)\n",
      "(10058941465250107733086766383700277733512738938144443928941160957396381143837, 8819704791670307923985668120646765434900169523120333769019554546763301791772)\n"
     ]
    }
   ],
   "source": [
    "# Trusted Setup\n",
    "alpha = 2\n",
    "beta = 3\n",
    "alpha1 = multiply(G1, alpha)\n",
    "beta2 = multiply(G2, beta)\n",
    "\n",
    "\n",
    "def generate_powers_of_tau_c(tau, degree):\n",
    "    return [int(tau ** i) for i in range(degree)]\n",
    "\n",
    "powers_of_tau = generate_powers_of_tau_c(tau,len(wgf))\n",
    "\n",
    "def reduce_polynomials_to_1(vector_of_poly, powers_of_tau):\n",
    "    sum = GF(0)\n",
    "    for i in range(len(vector_of_poly)):\n",
    "        sum += vector_of_poly[i] * powers_of_tau[i]\n",
    "    return sum\n",
    "\n",
    "Utau = reduce_polynomials_to_1(L_vector_of_poly, powers_of_tau)\n",
    "Vtau = reduce_polynomials_to_1(R_vector_of_poly, powers_of_tau)\n",
    "Wtau = reduce_polynomials_to_1(O_vector_of_poly, powers_of_tau)\n",
    "print(Utau)\n",
    "\n",
    "beta_utau = beta * Utau\n",
    "alpha_vtau = alpha * Vtau\n",
    "\n",
    "combined_powers_of_tau_for_c = beta_utau + alpha_vtau + Wtau\n",
    "\n",
    "# evaluate at tau with inner product and G1\n",
    "inner_product_powers_of_tau_for_c = inner_product(powers_of_tau_G1, combined_powers_of_tau_for_c.coeffs[::-1])\n",
    "print(inner_product_powers_of_tau_for_c)\n",
    "\n",
    "# target polynomial evaluated at tau\n",
    "target_poly_tau_G1 = inner_product(powers_of_tau_G1,target_poly_x.coeffs[::-1])\n",
    "print(target_poly_tau_G1)\n",
    "\n",
    "\n",
    "\n",
    "\n",
    "\n",
    "# powers of tau for h(tau)t(tau)\n",
    "# t(tau) = target polynomial evaluated at tau"
   ]
  },
  {
   "cell_type": "code",
   "execution_count": null,
   "metadata": {},
   "outputs": [],
   "source": []
  }
 ],
 "metadata": {
  "kernelspec": {
   "display_name": "base",
   "language": "python",
   "name": "python3"
  },
  "language_info": {
   "codemirror_mode": {
    "name": "ipython",
    "version": 3
   },
   "file_extension": ".py",
   "mimetype": "text/x-python",
   "name": "python",
   "nbconvert_exporter": "python",
   "pygments_lexer": "ipython3",
   "version": "3.11.5"
  }
 },
 "nbformat": 4,
 "nbformat_minor": 2
}
