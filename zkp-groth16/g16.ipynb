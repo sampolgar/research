{
 "cells": [
  {
   "cell_type": "code",
   "execution_count": 272,
   "metadata": {},
   "outputs": [],
   "source": [
    "from py_ecc.bn128 import G1, G2, multiply, add, curve_order, eq, Z1, pairing, neg, FQ, final_exponentiate, FQ12\n",
    "import numpy as np\n",
    "import galois   "
   ]
  },
  {
   "cell_type": "code",
   "execution_count": 273,
   "metadata": {},
   "outputs": [],
   "source": [
    "GF = galois.GF(curve_order)\n",
    "# takes about 2 minutes"
   ]
  },
  {
   "cell_type": "code",
   "execution_count": 274,
   "metadata": {},
   "outputs": [
    {
     "name": "stdout",
     "output_type": "stream",
     "text": [
      "Polynomial: 4x^4 + 10x^3 + 7x^2 + 7x + 2\n",
      "Polynomial evaluated at tau: 3962\n",
      "i = 0, tau**i = 1, tau_power_G1 = (1, 2)\n",
      "i = 1, tau**i = 5, tau_power_G1 = (10744596414106452074759370245733544594153395043370666422502510773307029471145, 848677436511517736191562425154572367705380862894644942948681172815252343932)\n",
      "i = 2, tau**i = 25, tau_power_G1 = (20765039372871530718554589730410158162413780974122112544611863764810626751360, 2444183914824638066910831265243126275246160293098948571390980460351548298384)\n",
      "i = 3, tau**i = 125, tau_power_G1 = (401978602110496381074453603102128333214265165139113426216634730340407351423, 12084390642472120358442724381421408623274349577217648002291952443608077749768)\n",
      "i = 4, tau**i = 625, tau_power_G1 = (5527101163656315346960364963545370964626232799933256760464143148793261937308, 5380388670064483190479346872818688372396976240663815701649018878271631274675)\n",
      "Reversed polynomial coefficients: [ 2  7  7 10  4]\n"
     ]
    }
   ],
   "source": [
    "# This script demonstrates the polynomial evaluations with powers of tau\n",
    "# we see that evaluating a polyomial at tau is the same as computing the inner product of the polynomial coefficients and the powers of tau\n",
    "\n",
    "tau_testing = GF(5)\n",
    "\n",
    "# (4x^3 + 2x^2 + 3x + 1) * (x+2)\n",
    "polynomial = galois.Poly([4,2,3,1], field=GF) * galois.Poly([1,2], field=GF)\n",
    "print(f\"Polynomial: {polynomial}\")  # Outputs: 4x^4 + 10x^3 + 7x^2 + 7x + 2\n",
    "\n",
    "# Evaluate the polynomial at tau.\n",
    "p_eval_at_tau = polynomial(tau_testing)\n",
    "print(f\"Polynomial evaluated at tau: {p_eval_at_tau}\") # Outputs: 3962\n",
    "p_eval_at_tau_G1 = multiply(G1, int(p_eval_at_tau))\n",
    "\n",
    "def powers_of_tau_test(tau, degree):\n",
    "    powers_of_tau_testing = []\n",
    "    for i in range(degree+1):\n",
    "        print(f\"i = {i}, tau**i = {tau**i}\")\n",
    "        powers_of_tau_testing.append(multiply(G1, int(tau**i)))\n",
    "    return powers_of_tau_testing\n",
    "\n",
    "def compute_powers_of_tau_test(tau, degree):\n",
    "    \"\"\"Computes and prints the powers of tau up to the specified degree and returns them\n",
    "    as elliptic curve points by multiplying each power by the base point G1.\"\"\"\n",
    "    powers_of_tau = []\n",
    "    for i in range(degree + 1):\n",
    "        tau_power = tau ** i\n",
    "        tau_power_G1 = multiply(G1, int(tau_power))\n",
    "        powers_of_tau.append(tau_power_G1)\n",
    "        print(f\"i = {i}, tau**i = {tau_power}, tau_power_G1 = {tau_power_G1}\")\n",
    "    return powers_of_tau\n",
    "\n",
    "\n",
    "# create [τ^0 G1],[τ^1 G1][τ^2 G1]...[τ^degree +1 G1]\n",
    "powers_of_tau_testing = compute_powers_of_tau_test(tau_testing, polynomial.degree)\n",
    "\n",
    "# reverse the polynomial coefficients for 4x^4 + 10x^3 + 7x^2 + 7x + 2  to [2, 7, 7, 10, 4]\n",
    "reversed_polynomial_coeffs = polynomial.coeffs[::-1]\n",
    "print(f\"Reversed polynomial coefficients: {reversed_polynomial_coeffs}\")\n",
    "\n",
    "def inner_product_test(powers_of_tau, coeffs):\n",
    "    \"\"\"Computes the elliptic curve point representing the inner product of the reversed polynomial coefficients\n",
    "    and the powers of tau points.\"\"\"\n",
    "    accumulator = Z1\n",
    "    for tau_power, coeff in zip(powers_of_tau, coeffs):\n",
    "        term = multiply(tau_power, int(coeff))\n",
    "        accumulator = add(accumulator, term)\n",
    "    return accumulator\n",
    "\n",
    "assert inner_product_test(powers_of_tau_testing, reversed_polynomial_coeffs) == p_eval_at_tau_G1, \"doesn't match\""
   ]
  },
  {
   "cell_type": "code",
   "execution_count": 275,
   "metadata": {},
   "outputs": [
    {
     "name": "stdout",
     "output_type": "stream",
     "text": [
      "m=8, n=5\n",
      "witness= <class 'galois.GF(21888242871839275222246405745257275088548364400416034343698204186575808495617)'>\n",
      "generated L, R, O R1CS matrices and witness vector\n",
      "verifying that L.w * R.w == O.w\n",
      "verified\n"
     ]
    }
   ],
   "source": [
    "# R1CS\n",
    "\n",
    "x = GF(5)#random.randint(1,10)\n",
    "y = GF(10)#random.randint(1,15)\n",
    "\n",
    "v1 = x * x\n",
    "v2 = v1 * x\n",
    "v3 = y * y\n",
    "v4 = v2 * y\n",
    "out = v2 + GF(2) * v4 - GF(5) * x * v3 - GF(3) * y + GF(2)\n",
    "\n",
    "L = GF(np.array([\n",
    "    [0,0,1,0,0,0,0,0],\n",
    "    [0,0,0,0,1,0,0,0],\n",
    "    [0,0,0,1,0,0,0,0],\n",
    "    [0,0,0,0,0,1,0,0],\n",
    "    [0,0,curve_order - 5,0,0,0,0,0] # 113 - 5 = 108\n",
    "    ]))\n",
    "\n",
    "R = GF(np.array([\n",
    "    [0,0,1,0,0,0,0,0],\n",
    "    [0,0,1,0,0,0,0,0],\n",
    "    [0,0,0,1,0,0,0,0],\n",
    "    [0,0,0,1,0,0,0,0],\n",
    "    [0,0,0,0,0,0,1,0]\n",
    "    ]))\n",
    "\n",
    "O = GF(np.array([\n",
    "    [0,0,0,0,1,0,0,0],\n",
    "    [0,0,0,0,0,1,0,0],\n",
    "    [0,0,0,0,0,0,1,0],\n",
    "    [0,0,0,0,0,0,0,1],\n",
    "    [curve_order-2,1,0,3,0,curve_order-1,0,curve_order-2] # 113 - 2 = 111\n",
    "    ]))\n",
    "\n",
    "# m = number of columns\n",
    "# n = number of rows\n",
    "m = L.shape[1]\n",
    "n = L.shape[0]\n",
    "print(f\"m={m}, n={n}\")\n",
    "\n",
    "witness = GF(np.array([GF(1),out,x,y,v1,v2,v3,v4]))\n",
    "print(f\"witness= {type(witness)}\")\n",
    "print(f\"generated L, R, O R1CS matrices and witness vector\")\n",
    "print(f\"verifying that L.w * R.w == O.w\")\n",
    "result = O.dot(witness) == np.multiply(L.dot(witness),R.dot(witness))\n",
    "assert result.all(), \"result contains an inequality\"\n",
    "print(f\"verified\")"
   ]
  },
  {
   "cell_type": "code",
   "execution_count": 276,
   "metadata": {},
   "outputs": [
    {
     "name": "stdout",
     "output_type": "stream",
     "text": [
      "Ua= [Poly(0, GF(21888242871839275222246405745257275088548364400416034343698204186575808495617))\n",
      " Poly(0, GF(21888242871839275222246405745257275088548364400416034343698204186575808495617))\n",
      " Poly(3648040478639879203707734290876212514758060733402672390616367364429301415936x^4 + 10944121435919637611123202872628637544274182200208017171849102093287904247810x^3 + 7296080957279758407415468581752425029516121466805344781232734728858602831868x^2 + 4x, GF(21888242871839275222246405745257275088548364400416034343698204186575808495617))\n",
      " Poly(16416182153879456416684804308942956316411273300312025757773653139931856371713x^4 + 21888242871839275222246405745257275088548364400416034343698204186575808495614x^3 + 16416182153879456416684804308942956316411273300312025757773653139931856371725x^2 + 10944121435919637611123202872628637544274182200208017171849102093287904247789x + 10, GF(21888242871839275222246405745257275088548364400416034343698204186575808495617))\n",
      " Poly(3648040478639879203707734290876212514758060733402672390616367364429301415936x^4 + 18240202393199396018538671454381062573790303667013361953081836822146507079683x^3 + 18240202393199396018538671454381062573790303667013361953081836822146507079671x^2 + 3648040478639879203707734290876212514758060733402672390616367364429301415954x + 21888242871839275222246405745257275088548364400416034343698204186575808495607, GF(21888242871839275222246405745257275088548364400416034343698204186575808495617))\n",
      " Poly(3648040478639879203707734290876212514758060733402672390616367364429301415936x^4 + 3648040478639879203707734290876212514758060733402672390616367364429301415938x^3 + 18240202393199396018538671454381062573790303667013361953081836822146507079674x^2 + 18240202393199396018538671454381062573790303667013361953081836822146507079691x + 21888242871839275222246405745257275088548364400416034343698204186575808495612, GF(21888242871839275222246405745257275088548364400416034343698204186575808495617))\n",
      " Poly(0, GF(21888242871839275222246405745257275088548364400416034343698204186575808495617))\n",
      " Poly(0, GF(21888242871839275222246405745257275088548364400416034343698204186575808495617))]\n",
      "lhs = rhs so they are the same\n",
      "when evaluated at random number tau, theyare the same\n"
     ]
    }
   ],
   "source": [
    "# R1CS => QAP\n",
    "target_coeffs = GF(np.array([1,2,3,4,5]))\n",
    "target_polynomial = galois.Poly(np.flip(np.polynomial.polynomial.polyfromroots([1,2,3,4,5])).astype(int),  field=GF)\n",
    "\n",
    "def matrix_to_vector_of_polynomials(matrix):\n",
    "    return np.apply_along_axis(interpolate_columns, 0, matrix)\n",
    "\n",
    "def interpolate_columns(column):\n",
    "    return galois.lagrange_poly(target_coeffs, column)\n",
    "\n",
    "# Once interpolation is finished, L, R, O = U.a, V.a, W.a\n",
    "U_vector_of_poly_x = matrix_to_vector_of_polynomials(L)\n",
    "V_vector_of_poly_x = matrix_to_vector_of_polynomials(R)\n",
    "W_vector_of_poly_x = matrix_to_vector_of_polynomials(O)\n",
    "\n",
    "def aggregate_vector_of_polynomials_with_witness(vector_of_poly, witness):\n",
    "    sum = GF(0)\n",
    "    for i in range(len(vector_of_poly)):\n",
    "        sum += vector_of_poly[i]*witness[i]\n",
    "    return sum\n",
    "\n",
    "# This is a polynomial of the inner product of Matrix and Witness\n",
    "Ua = aggregate_vector_of_polynomials_with_witness(U_vector_of_poly_x, witness)\n",
    "Va = aggregate_vector_of_polynomials_with_witness(V_vector_of_poly_x, witness)\n",
    "Wa = aggregate_vector_of_polynomials_with_witness(W_vector_of_poly_x, witness)\n",
    "\n",
    "print(f\"Ua= {U_vector_of_poly_x}\")\n",
    "\n",
    "# We can now create h(x)t(x)\n",
    "hx, remainder = divmod(((Ua*Va) - Wa), target_polynomial)\n",
    "assert remainder == 0, \"remainder is not 0\"\n",
    "Ua * Va == Wa + hx * target_polynomial \n",
    "print(f\"lhs = rhs so they are the same\")\n",
    "\n",
    "tau = GF(9)\n",
    "Ua(tau) * Va(tau) == Wa(tau) + hx(tau) * target_polynomial(tau)\n",
    "print(f\"when evaluated at random number tau, theyare the same\")"
   ]
  },
  {
   "cell_type": "code",
   "execution_count": 277,
   "metadata": {},
   "outputs": [
    {
     "name": "stdout",
     "output_type": "stream",
     "text": [
      "5  eq?  5\n",
      "Iteration: 0, Coeff: 21888242871839275222246405745257275088548364400416034343698204186575808494842, Point: (1, 2)\n",
      "Iteration: 1, Coeff: 7296080957279758407415468581752425029516121466805344781232734728858602833414, Point: (1624070059937464756887933993293429854168590106605707304006200119738501412969, 3269329550605213075043232856820720631601935657990457502777101397807070461336)\n",
      "Iteration: 2, Coeff: 3648040478639879203707734290876212514758060733402672390616367364429301414937, Point: (11744864753805541320111181058240501346617548818795024075343453303706881344088, 17221384307920533803726063289029126335755140866379809678854881527846933441919)\n",
      "Iteration: 3, Coeff: 3648040478639879203707734290876212514758060733402672390616367364429301416197, Point: (16614481781419548918333901639087520596453061129401013916352956947099837560149, 6870598320119603643560241397292776091544668466385678757129689863273377343756)\n",
      "Iteration: 4, Coeff: 7296080957279758407415468581752425029516121466805344781232734728858602831849, Point: (20524137291192142473453794825059764983616394658900507628404688782815983067318, 10777421981167141915367072362265446873927631718869375922147591851415446501221)\n",
      "5  eq?  5\n",
      "Iteration: 0, Coeff: 125, Point: ((10857046999023057135944570762232829481370756359578518086990519993285655852781, 11559732032986387107991004021392285783925812861821192530917403151452391805634), (8495653923123431417604973247489272438418190587263600148770280649306958101930, 4082367875863433681332203403145435568316851327593401208105741076214120093531))\n",
      "Iteration: 1, Coeff: 12768141675239577212977070018066743801653212566909353367157285775502554955532, Point: ((13193736976255674115506271204866518055492249136949196233486205080643750676277, 4821341333500639427117806840255663771228880693152568023710381392280915109763), (18281872490245496509379794148214936771631698359916681711594256455596877716636, 5830427496645529367349790160167113194176899755997018131088404969293864912751))\n",
      "Iteration: 2, Coeff: 8208091076939728208342402154471478158205636650156012878886826569965928186022, Point: ((16621799346272210026343549475271716351145663275628082082149246529924691535286, 17209229855946633839287787639977806764757654722021396315202990340314065760605), (18691380413001418831610295589526281105207343539823307272882936320684591261581, 19804048179825298238513094452658153917411919556425435275980370246876488975696))\n",
      "Iteration: 3, Coeff: 9120101196599698009269335727190531286895151833506680976540918411073253539795, Point: ((18798297706527975198188118991480149428063178145603391217728634632398726573773, 1799422565238929783215709160019111484979326094016313209150728879645722474663), (947824533569569073074774545492644440082002948033606602755116864246151650961, 2940113759661503802651675746592826795876771453803075940373166241724556091320))\n",
      "Iteration: 4, Coeff: 13680151794899547013904003590785796930342727750260021464811377616609880309765, Point: ((2406982145963166579826979661002962058435153721712859583803639610620724087638, 13613108198803028471746480392600668642233404947599552122065161786553491013272), (21549748670354952648469156279523613434996562525865234017925139382989953056144, 19433120025410103371114654108216656342673086688115265881676111853128967793158))\n",
      "5  eq?  5\n",
      "Iteration: 0, Coeff: 21888242871839275222246405745257275088548364400416034343698204186575808486742, Point: (1, 2)\n",
      "Iteration: 1, Coeff: 12768141675239577212977070018066743801653212566909353367157285775502554973812, Point: (1624070059937464756887933993293429854168590106605707304006200119738501412969, 3269329550605213075043232856820720631601935657990457502777101397807070461336)\n",
      "Iteration: 2, Coeff: 15504172034219486615757870736223903187721758116961357660119561298824531005611, Point: (11744864753805541320111181058240501346617548818795024075343453303706881344088, 17221384307920533803726063289029126335755140866379809678854881527846933441919)\n",
      "Iteration: 3, Coeff: 9120101196599698009269335727190531286895151833506680976540918411073253543130, Point: (16614481781419548918333901639087520596453061129401013916352956947099837560149, 6870598320119603643560241397292776091544668466385678757129689863273377343756)\n",
      "Iteration: 4, Coeff: 6384070837619788606488535009033371900826606283454676683578642887751277477581, Point: (20524137291192142473453794825059764983616394658900507628404688782815983067318, 10777421981167141915367072362265446873927631718869375922147591851415446501221)\n",
      "5  eq?  4\n",
      "Iteration: 0, Coeff: 14592161914559516814830937163504850059032242933610689562465469457717205664478, Point: (5136651340476158641347135049229561641726208279354069871203792715805161747619, 16837433065819275595889503804681160417798134875894572923630286174257983651115)\n",
      "Iteration: 1, Coeff: 16720185527099446350327115499849307359307778361428915123658350420300964821680, Point: (3608579351209469348262127153708096808392613689835619023906463782259078105056, 3310375785466101551127454278243891483882707756475491387369621652605804389332)\n",
      "Iteration: 2, Coeff: 8360092763549723175163557749924653679653889180714457561829175210150482412190, Point: (11915336422199313298718358060786965387251113444580415413551829178725539816878, 7169495198210300587774633191981028215643087614161813916934543087769490869999)\n",
      "Iteration: 3, Coeff: 1824020239319939601853867145438106257379030366701336195308183682214650707866, Point: (9948826538126424923441269225378406087889288481114770962871891348388998446354, 595268035525692565983940729933479190255995194486049690773911652150141327966)\n"
     ]
    },
    {
     "data": {
      "text/plain": [
       "True"
      ]
     },
     "execution_count": 277,
     "metadata": {},
     "output_type": "execute_result"
    }
   ],
   "source": [
    "# Trusted Setup\n",
    "from functools import reduce\n",
    "tau = GF(9)\n",
    "\n",
    "powers_of_tau_G1 = [multiply(G1, int(tau) ** i) for i in range(0,n)]\n",
    "powers_of_tau_G2 = [multiply(G2, int(tau) ** i) for i in range(0,n)]\n",
    "t_of_tau = target_polynomial(tau)\n",
    "target_powers_of_tau_G1 = [multiply(G1, int(tau) ** i * int(t_of_tau)) for i in range(0,target_polynomial.degree)]\n",
    "\n",
    "# Prover evaluate QAP at Tau\n",
    "# This is not encrypted\n",
    "Ua_tau = Ua(tau)\n",
    "Va_tau = Va(tau)\n",
    "Wa_tau = Wa(tau)\n",
    "hx_tau = hx(tau)\n",
    "tx_tau = target_polynomial(tau)\n",
    "assert Ua_tau * Va_tau == Wa_tau + hx_tau * tx_tau, \"Ua_tau * Va_tau != Wa_tau + hx_tau * tx_tau\"\n",
    "\n",
    "def inner_product(powers_of_tau, coeffs):\n",
    "    return reduce(add, (multiply(point, int(coeff)) for point, coeff in zip(powers_of_tau, coeffs)), Z1)\n",
    "\n",
    "def inner_product_iterable(powers_of_tau, coeffs):\n",
    "    print(len(powers_of_tau_G1), \" eq? \", len(coeffs))\n",
    "    result = Z1\n",
    "    for i, (point, coeff) in enumerate(zip(powers_of_tau, coeffs)):\n",
    "        print(f\"Iteration: {i}, Coeff: {coeff}, Point: {point}\")\n",
    "        result = add(result, multiply(point, int(coeff)))\n",
    "    return result\n",
    " \n",
    "Ua_tau_G1 = inner_product_iterable(powers_of_tau_G1, Ua.coeffs[::-1])\n",
    "Va_tau_G2 = inner_product_iterable(powers_of_tau_G2, Va.coeffs[::-1])\n",
    "Wa_tau_G1 = inner_product_iterable(powers_of_tau_G1, Wa.coeffs[::-1])\n",
    "\n",
    "ht_tau = inner_product_iterable(target_powers_of_tau_G1[0:hx.degree + 1], hx.coeffs[::-1])\n",
    "\n",
    "A = pairing(Va_tau_G2, neg(Ua_tau_G1))\n",
    "B = pairing(G2, add(Wa_tau_G1, ht_tau))\n",
    "final_exponentiate(A * B) == FQ12.one()"
   ]
  },
  {
   "cell_type": "code",
   "execution_count": 278,
   "metadata": {},
   "outputs": [
    {
     "name": "stdout",
     "output_type": "stream",
     "text": [
      "iteration = 0, U_vector_of_poly_x[i] = 0, evaluated at tau = 0, evaluated at tau**i = 1 \n",
      "iteration = 1, U_vector_of_poly_x[i] = 0, evaluated at tau = 0, evaluated at tau**i = 0 \n",
      "iteration = 2, U_vector_of_poly_x[i] = 3648040478639879203707734290876212514758060733402672390616367364429301415936x^4 + 10944121435919637611123202872628637544274182200208017171849102093287904247810x^3 + 7296080957279758407415468581752425029516121466805344781232734728858602831868x^2 + 4x, evaluated at tau = 21888242871839275222246405745257275088548364400416034343698204186575808495302, evaluated at tau**i = 99225 \n",
      "iteration = 3, U_vector_of_poly_x[i] = 16416182153879456416684804308942956316411273300312025757773653139931856371713x^4 + 21888242871839275222246405745257275088548364400416034343698204186575808495614x^3 + 16416182153879456416684804308942956316411273300312025757773653139931856371725x^2 + 10944121435919637611123202872628637544274182200208017171849102093287904247789x + 10, evaluated at tau = 280, evaluated at tau**i = 21952000 \n",
      "powers_of_tau_C_G1 = [None, (1498339796778307471365624041433540006436600402203263068984044382637138627232, 16602075090262163391842937953477689188383027283447549643521873518378054630844), (19713731097331214556946270407996655093938624249746801813868484970177446250827, 7915450358416394160244865461310067414026740581724236031233817127847290564398), (18802409903743233850598038877913051077699318360879489910323138544374008671560, 6018002251046286340202980904321527968652906953492375385565894913798893110620)]\n",
      "length: powers_of_tau_C_G1 = 4\n",
      "not verified\n"
     ]
    }
   ],
   "source": [
    "# shift lhs and rhs by alpha and beta\n",
    "# Trusted Setup\n",
    "alpha = GF(2)\n",
    "beta = GF(3)\n",
    "AlphaG1 = multiply(G1, int(alpha))\n",
    "BetaG2 = multiply(G2, int(beta))\n",
    "\n",
    "# encrypted evaluation: shifts the U and V polynomial by alpha and beta, evaluates at powers of tau\n",
    "# Trusted Setup completes this with unencrypted tau, alpha, beta values\n",
    "powers_of_tau_C_G1 = []\n",
    "for i in range(0, n-1):\n",
    "    print(f\"iteration = {i}, U_vector_of_poly_x[i] = {U_vector_of_poly_x[i]}, evaluated at tau = {U_vector_of_poly_x[i](tau)}, evaluated at tau**i = {U_vector_of_poly_x[i](tau) ** i} \")\n",
    "    u_eval_tau_i_beta = beta * U_vector_of_poly_x[i](tau**i)\n",
    "    v_eval_tau_i_alpha = alpha * V_vector_of_poly_x[i](tau**i)\n",
    "    w_eval_tau_i = W_vector_of_poly_x[i](tau**i)\n",
    "    sum = int(u_eval_tau_i_beta + v_eval_tau_i_alpha + w_eval_tau_i)\n",
    "    powers_of_tau_C_G1.append(multiply(G1, sum))\n",
    "\n",
    "print(f\"powers_of_tau_C_G1 = {powers_of_tau_C_G1}\")\n",
    "print(f\"length: powers_of_tau_C_G1 = {len(powers_of_tau_C_G1)}\")\n",
    "\n",
    "\n",
    "Cprime = reduce(add, (multiply(point, int(coeff)) for point, coeff in zip(powers_of_tau_C_G1, witness)), Z1)\n",
    "C_new = add(Cprime, ht_tau)\n",
    "\n",
    "A_new = add(AlphaG1, Ua_tau_G1)\n",
    "B_new = add(BetaG2, Va_tau_G2)\n",
    "\n",
    "lhs = pairing(B_new, A_new)\n",
    "rhs_1 = pairing(BetaG2,AlphaG1)\n",
    "rhs_2 = pairing(G2,C_new)\n",
    "rhs = rhs_1 * rhs_2\n",
    "\n",
    "if eq(lhs, rhs):\n",
    "    print(\"verified\")\n",
    "else:\n",
    "    print(\"not verified\")\n"
   ]
  },
  {
   "cell_type": "code",
   "execution_count": 279,
   "metadata": {},
   "outputs": [
    {
     "name": "stdout",
     "output_type": "stream",
     "text": [
      "iteration 0 witness:  1\n",
      "iteration 1 witness:  97\n",
      "iteration 2 witness:  5\n",
      "iteration 3 witness:  10\n",
      "iteration 4 witness:  25\n",
      "iteration 5 witness:  125\n",
      "iteration 6 witness:  100\n",
      "iteration 7 witness:  1250\n"
     ]
    }
   ],
   "source": [
    "# separate public and private inputs\n",
    "# public input, computed by verifier\n",
    "public_witness_length = 2\n",
    "public_input = []\n",
    "\n",
    "for i in range(public_witness_length):\n",
    "    print(\"iteration\", i, \"witness: \", witness[i])\n",
    "    u_eval_tau_i_beta = beta * U_vector_of_poly_x[i](tau)\n",
    "    v_eval_tau_i_alpha = alpha * V_vector_of_poly_x[i](tau)\n",
    "    w_eval_tau_i = W_vector_of_poly_x[i](tau)\n",
    "    public_input.append(multiply(G1, int(u_eval_tau_i_beta + v_eval_tau_i_alpha + w_eval_tau_i)))\n",
    "\n",
    "# we now have 2 points representing Bui, Avi, Wvi. Let's squash the witness in and add to 1 point\n",
    "public_input_w_witness = reduce(add,(multiply(point, int(coeff)) for point, coeff in zip(public_input, witness[:public_witness_length])), Z1)\n",
    "\n",
    "# private input, computed by prover. Prover has access to witness and \n",
    "private_input = []\n",
    "for i in range(public_witness_length,len(witness)):\n",
    "    print(\"iteration\", i, \"witness: \", witness[i])\n",
    "    u_eval_tau_i_beta = beta * U_vector_of_poly_x[i](tau)\n",
    "    v_eval_tau_i_alpha = alpha * V_vector_of_poly_x[i](tau)\n",
    "    w_eval_tau_i = W_vector_of_poly_x[i](tau)\n",
    "    private_input.append(multiply(G1, int(u_eval_tau_i_beta + v_eval_tau_i_alpha + w_eval_tau_i)))\n",
    "\n",
    "private_input_w_witness = reduce(add,(multiply(point, int(coeff)) for point, coeff in zip(private_input, witness[public_witness_length:])), Z1)\n",
    "\n",
    "C_new = add(Cprime, ht_tau)\n",
    "\n"
   ]
  },
  {
   "cell_type": "code",
   "execution_count": 280,
   "metadata": {},
   "outputs": [
    {
     "name": "stdout",
     "output_type": "stream",
     "text": [
      "not verified\n"
     ]
    }
   ],
   "source": [
    "# Introducing Gamma, Delta\n",
    "gamma = GF(4)\n",
    "delta = GF(5)\n",
    "gamma_inv = np.reciprocal(gamma)\n",
    "delta_inv = np.reciprocal(delta)\n",
    "\n",
    "GammaG2 = multiply(G2, int(gamma))\n",
    "DeltaG2 = multiply(G2, int(delta))\n",
    "\n",
    "# powers of tau for public input from i = 0 to i = 1 for the 0, 1 pos of [1,out,x,y,...] \n",
    "public_witness_length = 2\n",
    "\n",
    "# public\n",
    "public_powers_of_tau_G1 = [multiply(point, int(gamma_inv)) for point in powers_of_tau_C_G1[:public_witness_length]]\n",
    "gamma_pairing = reduce(add, (multiply(point, int(coeff)) for point, coeff in zip(public_powers_of_tau_G1, witness[0:public_witness_length])), Z1)\n",
    "\n",
    "\n",
    "# private\n",
    "private_powers_of_tau_G1 = [multiply(point, int(delta_inv)) for point in powers_of_tau_C_G1[public_witness_length+1:len(witness)]]\n",
    "Cprime_delta = reduce(add, (multiply(point, int(coeff)) for point, coeff in zip(private_powers_of_tau_G1, witness[public_witness_length:len(witness)])), Z1)\n",
    "\n",
    "\n",
    "#ht_tau is from i = 0 -> m. Needs to change to l -> m\n",
    "delta_ht_tau = multiply(ht_tau, int(delta_inv))\n",
    "C_prime_new = add(Cprime_delta, ht_tau)\n",
    "C_new = add(Cprime, ht_tau)\n",
    "\n",
    "lhs = pairing(B_new, A_new)\n",
    "rhs_1 = pairing(BetaG2,AlphaG1)\n",
    "rhs_2 = pairing(GammaG2, gamma_pairing)\n",
    "rhs_3 = pairing(DeltaG2, C_prime_new)\n",
    "rhs = rhs_1 * rhs_2 * rhs_3\n",
    "\n",
    "if eq(lhs, rhs):\n",
    "    print(\"verified\")\n",
    "else:\n",
    "    print(\"not verified\")"
   ]
  },
  {
   "cell_type": "code",
   "execution_count": 281,
   "metadata": {},
   "outputs": [
    {
     "name": "stdout",
     "output_type": "stream",
     "text": [
      "      2\n",
      "-0.5 x + 1.5 x\n"
     ]
    }
   ],
   "source": [
    "import numpy as np\n",
    "from scipy.interpolate import lagrange\n",
    "x = np.array([1,2,3])\n",
    "y = np.array([1,1,0])\n",
    "print(lagrange(x, y))"
   ]
  }
 ],
 "metadata": {
  "kernelspec": {
   "display_name": "base",
   "language": "python",
   "name": "python3"
  },
  "language_info": {
   "codemirror_mode": {
    "name": "ipython",
    "version": 3
   },
   "file_extension": ".py",
   "mimetype": "text/x-python",
   "name": "python",
   "nbconvert_exporter": "python",
   "pygments_lexer": "ipython3",
   "version": "3.11.5"
  }
 },
 "nbformat": 4,
 "nbformat_minor": 2
}
