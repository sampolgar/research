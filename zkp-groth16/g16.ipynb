{
 "cells": [
  {
   "cell_type": "code",
   "execution_count": 272,
   "metadata": {},
   "outputs": [],
   "source": [
    "from py_ecc.bn128 import G1, G2, multiply, add, curve_order, eq, Z1, pairing, neg, FQ, final_exponentiate, FQ12\n",
    "import numpy as np\n",
    "import galois   "
   ]
  },
  {
   "cell_type": "code",
   "execution_count": 273,
   "metadata": {},
   "outputs": [],
   "source": [
    "GF = galois.GF(curve_order)\n",
    "# takes about 2 minutes"
   ]
  },
  {
   "cell_type": "code",
   "execution_count": 348,
   "metadata": {},
   "outputs": [
    {
     "name": "stdout",
     "output_type": "stream",
     "text": [
      "Polynomial: 4x^4 + 10x^3 + 7x^2 + 7x + 2\n",
      "Polynomial evaluated at tau: 722942\n",
      "i = 0, tau**i = 1, tau_power_G1 = (1, 2)\n",
      "i = 1, tau**i = 20, tau_power_G1 = (18947110137775984544896515092961257947872750783784269176923414004072777296602, 12292085037693291586083644966434670280746730626861846747147579999202931064992)\n",
      "i = 2, tau**i = 400, tau_power_G1 = (16262199471205794413544947826745938654132104752637586692048329713311590397011, 13296900385261935021718889695689394625708483652039722230815936262285054528714)\n",
      "i = 3, tau**i = 8000, tau_power_G1 = (21603600070689675766438470661345954782419355034652174505468210225883925863279, 15787091953565760722773063158476721787069408761080596737736006929439659337677)\n",
      "i = 4, tau**i = 160000, tau_power_G1 = (3791913980001525405070663195453841654293855276471519589821575313643995787424, 2219850731288481436925303713906758446890789653022769553096390029843417460412)\n",
      "Reversed polynomial coefficients: [ 2  7  7 10  4]\n"
     ]
    }
   ],
   "source": [
    "# This script demonstrates the polynomial evaluations with powers of tau\n",
    "# we see that evaluating a polyomial at tau is the same as computing the inner product of the polynomial coefficients and the powers of tau\n",
    "\n",
    "tau_testing = GF(20)\n",
    "\n",
    "# (4x^3 + 2x^2 + 3x + 1) * (x+2)\n",
    "polynomial = galois.Poly([4,2,3,1], field=GF) * galois.Poly([1,2], field=GF)\n",
    "print(f\"Polynomial: {polynomial}\")  # Outputs: 4x^4 + 10x^3 + 7x^2 + 7x + 2\n",
    "\n",
    "# Evaluate the polynomial at tau.\n",
    "p_eval_at_tau = polynomial(tau_testing)\n",
    "print(f\"Polynomial evaluated at tau: {p_eval_at_tau}\") # Outputs: 3962\n",
    "p_eval_at_tau_G1 = multiply(G1, int(p_eval_at_tau))\n",
    "\n",
    "def powers_of_tau_test(tau, degree):\n",
    "    powers_of_tau_testing = []\n",
    "    for i in range(degree+1):\n",
    "        print(f\"i = {i}, tau**i = {tau**i}\")\n",
    "        powers_of_tau_testing.append(multiply(G1, int(tau**i)))\n",
    "    return powers_of_tau_testing\n",
    "\n",
    "def compute_powers_of_tau_test(tau, degree):\n",
    "    \"\"\"Computes and prints the powers of tau up to the specified degree and returns them\n",
    "    as elliptic curve points by multiplying each power by the base point G1.\"\"\"\n",
    "    powers_of_tau = []\n",
    "    for i in range(degree + 1):\n",
    "        tau_power = tau ** i\n",
    "        tau_power_G1 = multiply(G1, int(tau_power))\n",
    "        powers_of_tau.append(tau_power_G1)\n",
    "        print(f\"i = {i}, tau**i = {tau_power}, tau_power_G1 = {tau_power_G1}\")\n",
    "    return powers_of_tau\n",
    "\n",
    "\n",
    "# create [τ^0 G1],[τ^1 G1][τ^2 G1]...[τ^degree +1 G1]\n",
    "powers_of_tau_testing = compute_powers_of_tau_test(tau_testing, polynomial.degree)\n",
    "\n",
    "# reverse the polynomial coefficients for 4x^4 + 10x^3 + 7x^2 + 7x + 2  to [2, 7, 7, 10, 4]\n",
    "reversed_polynomial_coeffs = polynomial.coeffs[::-1]\n",
    "print(f\"Reversed polynomial coefficients: {reversed_polynomial_coeffs}\")\n",
    "\n",
    "def inner_product_test(powers_of_tau, coeffs):\n",
    "    \"\"\"Computes the elliptic curve point representing the inner product of the reversed polynomial coefficients\n",
    "    and the powers of tau points.\"\"\"\n",
    "    accumulator = Z1\n",
    "    for tau_power, coeff in zip(powers_of_tau, coeffs):\n",
    "        term = multiply(tau_power, int(coeff))\n",
    "        accumulator = add(accumulator, term)\n",
    "    return accumulator\n",
    "\n",
    "assert inner_product_test(powers_of_tau_testing, reversed_polynomial_coeffs) == p_eval_at_tau_G1, \"doesn't match\""
   ]
  },
  {
   "cell_type": "code",
   "execution_count": 378,
   "metadata": {},
   "outputs": [
    {
     "name": "stdout",
     "output_type": "stream",
     "text": [
      "m=8, n=5\n",
      "witness= <class 'galois.GF(21888242871839275222246405745257275088548364400416034343698204186575808495617)'>\n",
      "generated L, R, O R1CS matrices and witness vector\n",
      "verifying that L.w * R.w == O.w\n",
      "verified\n"
     ]
    }
   ],
   "source": [
    "x = GF(5)#random.randint(1,10)\n",
    "y = GF(10)#random.randint(1,15)\n",
    "\n",
    "v1 = x * x\n",
    "v2 = v1 * x\n",
    "v3 = y * y\n",
    "v4 = v2 * y\n",
    "out = v2 + GF(2) * v4 - GF(5) * x * v3 - GF(3) * y + GF(2)\n",
    "\n",
    "L = GF(np.array([\n",
    "    [0,0,1,0,0,0,0,0],\n",
    "    [0,0,0,0,1,0,0,0],\n",
    "    [0,0,0,1,0,0,0,0],\n",
    "    [0,0,0,0,0,1,0,0],\n",
    "    [0,0,curve_order - 5,0,0,0,0,0] # 113 - 5 = 108\n",
    "    ]))\n",
    "\n",
    "R = GF(np.array([\n",
    "    [0,0,1,0,0,0,0,0],\n",
    "    [0,0,1,0,0,0,0,0],\n",
    "    [0,0,0,1,0,0,0,0],\n",
    "    [0,0,0,1,0,0,0,0],\n",
    "    [0,0,0,0,0,0,1,0]\n",
    "    ]))\n",
    "\n",
    "O = GF(np.array([\n",
    "    [0,0,0,0,1,0,0,0],\n",
    "    [0,0,0,0,0,1,0,0],\n",
    "    [0,0,0,0,0,0,1,0],\n",
    "    [0,0,0,0,0,0,0,1],\n",
    "    [GF(curve_order-2),1,0,3,0,GF(curve_order-1),0,GF(curve_order-2)] # 113 - 2 = 111\n",
    "    ]))\n",
    "\n",
    "# in R1CS # m = number of columns # n = number of rows\n",
    "r1cs_m = L.shape[1]\n",
    "r1cs_n = L.shape[0]\n",
    "print(f\"m={r1cs_m}, n={r1cs_n}\")\n",
    "\n",
    "witness = GF(np.array([GF(1),out,x,y,v1,v2,v3,v4]))\n",
    "result = O.dot(witness) == np.multiply(L.dot(witness),R.dot(witness))\n",
    "assert result.all(), \"result contains an inequality\"\n",
    "print(f\"verified\")"
   ]
  },
  {
   "cell_type": "code",
   "execution_count": 396,
   "metadata": {},
   "outputs": [
    {
     "name": "stdout",
     "output_type": "stream",
     "text": [
      "scaling witness 1 by 0\n",
      "scaling witness 97 by 0\n",
      "scaling witness 5 by 3648040478639879203707734290876212514758060733402672390616367364429301415936x^4 + 10944121435919637611123202872628637544274182200208017171849102093287904247810x^3 + 7296080957279758407415468581752425029516121466805344781232734728858602831868x^2 + 4x\n",
      "scaling witness 10 by 16416182153879456416684804308942956316411273300312025757773653139931856371713x^4 + 21888242871839275222246405745257275088548364400416034343698204186575808495614x^3 + 16416182153879456416684804308942956316411273300312025757773653139931856371725x^2 + 10944121435919637611123202872628637544274182200208017171849102093287904247789x + 10\n",
      "scaling witness 25 by 3648040478639879203707734290876212514758060733402672390616367364429301415936x^4 + 18240202393199396018538671454381062573790303667013361953081836822146507079683x^3 + 18240202393199396018538671454381062573790303667013361953081836822146507079671x^2 + 3648040478639879203707734290876212514758060733402672390616367364429301415954x + 21888242871839275222246405745257275088548364400416034343698204186575808495607\n",
      "scaling witness 125 by 3648040478639879203707734290876212514758060733402672390616367364429301415936x^4 + 3648040478639879203707734290876212514758060733402672390616367364429301415938x^3 + 18240202393199396018538671454381062573790303667013361953081836822146507079674x^2 + 18240202393199396018538671454381062573790303667013361953081836822146507079691x + 21888242871839275222246405745257275088548364400416034343698204186575808495612\n",
      "scaling witness 100 by 0\n",
      "scaling witness 1250 by 0\n",
      "lhs = rhs so they are the same\n",
      "when evaluated at random number tau, they are the same\n"
     ]
    }
   ],
   "source": [
    "# R1CS => QAP\n",
    "# in QAP m = number of polynomials. n = degree of target polynomial\n",
    "tau = GF(20)\n",
    "target_coeffs = GF(np.array([1,2,3,4,5]))\n",
    "tx_poly = galois.Poly(np.flip(np.polynomial.polynomial.polyfromroots([1,2,3,4,5])).astype(int),  field=GF)\n",
    "\n",
    "def matrix_to_vector_of_polynomials(matrix):\n",
    "    return np.apply_along_axis(interpolate_columns, 0, matrix)\n",
    "\n",
    "def interpolate_columns(column):\n",
    "    return galois.lagrange_poly(target_coeffs, column)\n",
    "\n",
    "# Once interpolation is finished, L, R, O = U.a, V.a, W.a\n",
    "U_vector_of_polys = matrix_to_vector_of_polynomials(L)\n",
    "V_vector_of_polys = matrix_to_vector_of_polynomials(R)\n",
    "W_vector_of_polys = matrix_to_vector_of_polynomials(O)\n",
    "\n",
    "qap_m = len(U_vector_of_polys)\n",
    "qap_n = tx_poly.degree # not sure if this is right\n",
    "\n",
    "# these 2 functions demonstrate that we can either\n",
    "# 1) multiply polynomials and witness together to 1 polynomial, then evaluate at tau\n",
    "def aggregate_vector_of_polynomials_with_witness(vector_of_poly, witness, verbose=False):\n",
    "    sum = GF(0)\n",
    "    for i in range(len(vector_of_poly)):\n",
    "        if verbose:\n",
    "            print(f\"scaling witness {witness[i]} by {vector_of_poly[i]}\")\n",
    "        sum += vector_of_poly[i]*witness[i]\n",
    "    return sum\n",
    "\n",
    "# 2) evaluate each polynomial at tau, then multiply by witness\n",
    "def aggregate_vector_of_polynomials_with_witness_at_tau(vector_of_poly, witness, verbose=False):\n",
    "    sum = GF(0)\n",
    "    for i in range(len(vector_of_poly)):\n",
    "        if verbose:\n",
    "            print(f\"scaling witness {witness[i]} by {vector_of_poly[i]}\")\n",
    "        sum += vector_of_poly[i](tau) * witness[i]\n",
    "    return sum\n",
    "\n",
    "# This is a polynomial of the inner product of Matrix and Witness\n",
    "Ua_poly = aggregate_vector_of_polynomials_with_witness(U_vector_of_polys, witness, verbose=True)\n",
    "Va_poly = aggregate_vector_of_polynomials_with_witness(V_vector_of_polys, witness)\n",
    "Wa_poly = aggregate_vector_of_polynomials_with_witness(W_vector_of_polys, witness)\n",
    "\n",
    "# We can now create h(x)t(x)\n",
    "# we test if the polynomial is the same\n",
    "hx_poly, remainder = divmod(((Ua_poly*Va_poly) - Wa_poly), tx_poly)\n",
    "assert remainder == 0, \"remainder is not 0\"\n",
    "Ua_poly * Va_poly == Wa_poly + hx_poly * tx_poly\n",
    "print(f\"lhs = rhs so they are the same\")\n",
    "\n",
    "# then test if the polynomial evaluated at tau is the same (schwartz zippel)\n",
    "tau = GF(9)\n",
    "Ua_poly(tau) * Va_poly(tau) == Wa_poly(tau) + hx_poly(tau) * tx_poly(tau)\n",
    "print(f\"when evaluated at random number tau, they are the same\")"
   ]
  },
  {
   "cell_type": "code",
   "execution_count": 398,
   "metadata": {},
   "outputs": [
    {
     "name": "stdout",
     "output_type": "stream",
     "text": [
      "Ua(tau) = 21888242871839275222246405745257275088548364400416034343698204186575806479342\n",
      "Va(tau) = 398150\n",
      "Wa(tau) = 21888242871839275222246405745257275088548364400416034343698204186575781150367\n",
      "hx(tau) = 8512094450159718141984713345377829201102141711272902244771523850335036061883\n",
      "tx(tau) = 1395360\n",
      "ht= 21888242871839275222246405745257275088548364400416034343698204185773055949617\n"
     ]
    },
    {
     "data": {
      "text/plain": [
       "True"
      ]
     },
     "execution_count": 398,
     "metadata": {},
     "output_type": "execute_result"
    }
   ],
   "source": [
    "# We use trusted setup to hide polynomial coeffs of U, V, W, h, t\n",
    "from functools import reduce\n",
    "tau = GF(20)\n",
    "\n",
    "\n",
    "# Trusted Setup\n",
    "# Generate 1) Powers of tau G1, G2. 2) Powers of tau for target polynomial G1. 3) target polynomial evaluated at tau\n",
    "powers_of_tau_G1_points = [multiply(G1, int(tau) ** i) for i in range(0,qap_n)]\n",
    "powers_of_tau_G2_points = [multiply(G2, int(tau) ** i) for i in range(0,qap_n)]\n",
    "tx_powers_of_tau_G1_points = [multiply(G1, int(tau) ** i) for i in range(0,tx_poly.degree)]\n",
    "t_of_tau_scalar = tx_poly(tau)\n",
    "tx_powers_of_tau_G1_eval_at_tau = [multiply(tx_powers_of_tau_G1_points[i], int(t_of_tau_scalar)) for i in range(0, len(tx_powers_of_tau_G1_points))]\n",
    "\n",
    "# Quick sanity test - this is not encrypted and wouldn't happen in real life\n",
    "Ua_tau_scalar = Ua_poly(tau)\n",
    "Va_tau_scalar = Va_poly(tau)\n",
    "Wa_tau_scalar = Wa_poly(tau)\n",
    "hx_tau_scalar = hx_poly(tau)\n",
    "tx_tau_scalar = tx_poly(tau)\n",
    "print(f\"Ua(tau) = {Ua_tau_scalar}\")\n",
    "print(f\"Va(tau) = {Va_tau_scalar}\")\n",
    "print(f\"Wa(tau) = {Wa_tau_scalar}\")\n",
    "print(f\"hx(tau) = {hx_tau_scalar}\")\n",
    "print(f\"tx(tau) = {tx_tau_scalar}\")\n",
    "print(f\"ht= {hx_tau_scalar * tx_tau_scalar}\")\n",
    "\n",
    "assert Ua_tau_scalar * Va_tau_scalar == Wa_tau_scalar + hx_tau_scalar * tx_tau_scalar, \"Ua_tau * Va_tau != Wa_tau + hx_tau * tx_tau\"\n",
    "\n",
    "def inner_product(powers_of_tau, coeffs):\n",
    "    return reduce(add, (multiply(point, int(coeff)) for point, coeff in zip(powers_of_tau, coeffs)), Z1)\n",
    "\n",
    "def inner_product_iterable(powers_of_tau, coeffs):\n",
    "    # print(len(powers_of_tau_G1), \" eq? \", len(coeffs))\n",
    "    result = Z1\n",
    "    for i, (point, coeff) in enumerate(zip(powers_of_tau, coeffs)):\n",
    "        # print(f\"Iteration: {i}, Coeff: {coeff}, Point: {point}\")\n",
    "        result = add(result, multiply(point, int(coeff)))\n",
    "    return result\n",
    " \n",
    "Ua_tau_G1_point = inner_product_iterable(powers_of_tau_G1_points, Ua_poly.coeffs[::-1])\n",
    "Va_tau_G2_point = inner_product_iterable(powers_of_tau_G2_points, Va_poly.coeffs[::-1])\n",
    "Wa_tau_G1_point = inner_product_iterable(powers_of_tau_G1_points, Wa_poly.coeffs[::-1])\n",
    "\n",
    "# we use from [o:hx.degree + 1] because we need to cover all hx coeffs, not just exponentiated\n",
    "ht_tau_G1_point = inner_product_iterable(tx_powers_of_tau_G1_eval_at_tau[0:hx_poly.degree + 1], hx_poly.coeffs[::-1])\n",
    "\n",
    "AB = pairing(Va_tau_G2_point, neg(Ua_tau_G1_point))\n",
    "CD = pairing(G2, add(Wa_tau_G1_point, ht_tau_G1_point))\n",
    "final_exponentiate(AB * CD) == FQ12.one()"
   ]
  },
  {
   "cell_type": "code",
   "execution_count": 403,
   "metadata": {},
   "outputs": [
    {
     "name": "stdout",
     "output_type": "stream",
     "text": [
      "sum polynomial for iterator 0 = 21888242871839275222246405745257275088548364400416034343698204186575808487865\n",
      "sum polynomial for iterator 1 = 375972\n",
      "sum polynomial for iterator 2 = 109441214359196376111232028726286375442741822002080171718491020932879042134685\n",
      "sum polynomial for iterator 3 = 851580\n",
      "sum polynomial for iterator 4 = 547206071795981880556160143631431877213709110010400858592455104664395211497925\n",
      "sum polynomial for iterator 5 = 2736030358979909402780800718157159386068545550052004292962275523321976054402000\n",
      "sum polynomial for iterator 6 = 2827200\n",
      "sum polynomial for iterator 7 = 27360303589799094027808007181571593860685455500520042929622755233219760591662500\n",
      "powers of tau C G1 points = [(18412086319910179752494782965811456442455794258224578119780579512176567504706, 10558562959246852549340863372112227129585961702953419993535490858069696891127), (3241640664343904866761662067828845588248524718703942440965736023541316835185, 5002161340513320441317226651263545673061397569793182833632005573328343694866), (18851536751259613726712426041699758546323041433083752549209966190820465275006, 14735600486081672543544712775823461635074681911451225531642933618228719724821), (8532079729173159985240316084911282127254866578422943480402221927566831896092, 15939047147251437120139787293895286091146639688101071621634476437027810121400), (11828215810986333775747195652703011155531284701829708642373921404930143452426, 20034806768438140977084047262993029708463346495889066881464145054768833710553), (12772803616888033383227050251251569567794856153036454032270704856093777879154, 20535965320461627105190530713166794369819575613846161678811750451603905917709), (8571541708512729764903964949856942130146703498098707786937707766872355203953, 6770572634312275687755127907892199931014240903350105449140385416955175154303), (1683058036963044865148313696699958233483260791408455803098167318888408114006, 21437980072596478252559826744748705367141168200556703598353176839607125477718)]\n",
      "A_G1_point (4765334342109574250419466061216441003374635556896557192186718797080873032790, 14842632034678405693773926112198003927403343823916552583863654295664758622551)\n",
      "B_G2_point ((2636638015587609787902059264018547527301759018048299575502007612191841858915, 14910301910690498693277239534140641274306409108383028639467876474455258217179), (9563240213990629511533451222988481310425270212120849282465248629834788569301, 17819757907105215667270026571474554629477867810720975049726959757254203443717))\n",
      "C_G1_point (13244387753095983615690676983597337060509513828536840239202676147687064283580, 9537609461377328351341973830666070143748190538554377741901009521303228242222)\n"
     ]
    },
    {
     "data": {
      "text/plain": [
       "True"
      ]
     },
     "execution_count": 403,
     "metadata": {},
     "output_type": "execute_result"
    }
   ],
   "source": [
    "# shift lhs and rhs by alpha and beta\n",
    "# Trusted Setup\n",
    "alpha_scalar = GF(2)\n",
    "beta_scalar = GF(3)\n",
    "AlphaG1_point = multiply(G1, int(alpha_scalar))\n",
    "BetaG2_point = multiply(G2, int(beta_scalar))\n",
    "\n",
    "# # reminder\n",
    "# # qap_m = len(U_vector_of_poly_x). qap_n = target_polynomial.degree # not sure if this is right\n",
    "\n",
    "# encrypted evaluation: shifts the U and V polynomial by alpha and beta, evaluates at powers of tau\n",
    "# Trusted Setup completes this with unencrypted tau, alpha, beta values\n",
    "# Powers of tau for C \n",
    "powers_of_tau_C_G1_points = []\n",
    "for i in range(0, qap_m):\n",
    "    iterator_u_scalar = U_vector_of_polys[i](tau)\n",
    "    iterator_v_scalar = V_vector_of_polys[i](tau)\n",
    "    iterator_w_scalar = W_vector_of_polys[i](tau)\n",
    "    sum_scalar = int(beta_scalar * iterator_u_scalar + alpha_scalar * iterator_v_scalar + iterator_w_scalar) * int(witness[i])\n",
    "    print(f\"sum polynomial for iterator {i} = {sum_scalar}\")\n",
    "    powers_of_tau_C_G1_points.append(multiply(G1, sum_scalar))\n",
    "    # print(f\"current powers of tau G1 = {powers_of_tau_C_G1}\")\n",
    "print(f\"powers of tau C G1 points = {powers_of_tau_C_G1_points}\")\n",
    "\n",
    "def inner_product_iterable_test(powers_of_tau, coeffs):\n",
    "    result = Z1\n",
    "    for i, (point, coeff) in enumerate(zip(powers_of_tau, coeffs)):\n",
    "        result = add(result, multiply(point, int(coeff)))\n",
    "    return result\n",
    "\n",
    "def powers_of_tau_innerproduct_poly_i(powers_of_tau, vector_of_polys, witness):\n",
    "    accumulator = Z1\n",
    "    for i in range(0, len(vector_of_polys)):\n",
    "        iterator_point = inner_product_iterable_test(powers_of_tau, vector_of_polys[i].coeffs[::-1])\n",
    "        accumulator = add(accumulator, multiply(iterator_point, int(witness[i])))\n",
    "    return accumulator    \n",
    "\n",
    "A_G1_point = powers_of_tau_innerproduct_poly_i(powers_of_tau_G1_points, U_vector_of_polys, witness)\n",
    "B_G2_point = powers_of_tau_innerproduct_poly_i(powers_of_tau_G2_points, V_vector_of_polys, witness)\n",
    "\n",
    "A_G1_point = add(A_G1_point, AlphaG1_point)\n",
    "B_G2_point = add(B_G2_point, BetaG2_point)\n",
    "\n",
    "C_G1_point = Z1\n",
    "for i in range(len(powers_of_tau_C_G1_points)):\n",
    "    C_G1_point = add(C_G1_point, powers_of_tau_C_G1_points[i])\n",
    "\n",
    "C_G1_point = add(C_G1_point, ht_tau_G1_point)\n",
    "\n",
    "print(\"A_G1_point\", A_G1_point)\n",
    "print(\"B_G2_point\", B_G2_point)\n",
    "print(\"C_G1_point\", C_G1_point)\n",
    "\n",
    "AB = pairing(B_G2_point, neg(A_G1_point))\n",
    "CD = pairing(G2, C_G1_point)\n",
    "EF = pairing(BetaG2_point, AlphaG1_point)\n",
    "final_exponentiate(AB * CD * EF) == FQ12.one()"
   ]
  },
  {
   "cell_type": "code",
   "execution_count": 279,
   "metadata": {},
   "outputs": [
    {
     "name": "stdout",
     "output_type": "stream",
     "text": [
      "iteration 0 witness:  1\n",
      "iteration 1 witness:  97\n",
      "iteration 2 witness:  5\n",
      "iteration 3 witness:  10\n",
      "iteration 4 witness:  25\n",
      "iteration 5 witness:  125\n",
      "iteration 6 witness:  100\n",
      "iteration 7 witness:  1250\n"
     ]
    }
   ],
   "source": [
    "# separate public and private inputs\n",
    "# public input, computed by verifier\n",
    "public_witness_length = 2\n",
    "public_input = []\n",
    "\n",
    "for i in range(public_witness_length):\n",
    "    print(\"iteration\", i, \"witness: \", witness[i])\n",
    "    u_eval_tau_i_beta = beta * U_vector_of_poly_x[i](tau)\n",
    "    v_eval_tau_i_alpha = alpha * V_vector_of_poly_x[i](tau)\n",
    "    w_eval_tau_i = W_vector_of_poly_x[i](tau)\n",
    "    public_input.append(multiply(G1, int(u_eval_tau_i_beta + v_eval_tau_i_alpha + w_eval_tau_i)))\n",
    "\n",
    "# we now have 2 points representing Bui, Avi, Wvi. Let's squash the witness in and add to 1 point\n",
    "public_input_w_witness = reduce(add,(multiply(point, int(coeff)) for point, coeff in zip(public_input, witness[:public_witness_length])), Z1)\n",
    "\n",
    "# private input, computed by prover. Prover has access to witness and \n",
    "private_input = []\n",
    "for i in range(public_witness_length,len(witness)):\n",
    "    print(\"iteration\", i, \"witness: \", witness[i])\n",
    "    u_eval_tau_i_beta = beta * U_vector_of_poly_x[i](tau)\n",
    "    v_eval_tau_i_alpha = alpha * V_vector_of_poly_x[i](tau)\n",
    "    w_eval_tau_i = W_vector_of_poly_x[i](tau)\n",
    "    private_input.append(multiply(G1, int(u_eval_tau_i_beta + v_eval_tau_i_alpha + w_eval_tau_i)))\n",
    "\n",
    "private_input_w_witness = reduce(add,(multiply(point, int(coeff)) for point, coeff in zip(private_input, witness[public_witness_length:])), Z1)\n",
    "\n",
    "C_new = add(Cprime, ht_tau_G1)"
   ]
  },
  {
   "cell_type": "code",
   "execution_count": 280,
   "metadata": {},
   "outputs": [
    {
     "name": "stdout",
     "output_type": "stream",
     "text": [
      "not verified\n"
     ]
    }
   ],
   "source": [
    "# Introducing Gamma, Delta\n",
    "gamma = GF(4)\n",
    "delta = GF(5)\n",
    "gamma_inv = np.reciprocal(gamma)\n",
    "delta_inv = np.reciprocal(delta)\n",
    "\n",
    "GammaG2 = multiply(G2, int(gamma))\n",
    "DeltaG2 = multiply(G2, int(delta))\n",
    "\n",
    "# powers of tau for public input from i = 0 to i = 1 for the 0, 1 pos of [1,out,x,y,...] \n",
    "public_witness_length = 2\n",
    "\n",
    "# public\n",
    "public_powers_of_tau_G1 = [multiply(point, int(gamma_inv)) for point in powers_of_tau_C_G1[:public_witness_length]]\n",
    "gamma_pairing = reduce(add, (multiply(point, int(coeff)) for point, coeff in zip(public_powers_of_tau_G1, witness[0:public_witness_length])), Z1)\n",
    "\n",
    "# private\n",
    "private_powers_of_tau_G1 = [multiply(point, int(delta_inv)) for point in powers_of_tau_C_G1[public_witness_length+1:len(witness)]]\n",
    "Cprime_delta = reduce(add, (multiply(point, int(coeff)) for point, coeff in zip(private_powers_of_tau_G1, witness[public_witness_length:len(witness)])), Z1)\n",
    "\n",
    "\n",
    "#ht_tau is from i = 0 -> m. Needs to change to l -> m\n",
    "delta_ht_tau = multiply(ht_tau_G1, int(delta_inv))\n",
    "C_prime_new = add(Cprime_delta, ht_tau_G1)\n",
    "C_new = add(Cprime, ht_tau_G1)\n",
    "\n",
    "lhs = pairing(B_new, A_new)\n",
    "rhs_1 = pairing(BetaG2,AlphaG1)\n",
    "rhs_2 = pairing(GammaG2, gamma_pairing)\n",
    "rhs_3 = pairing(DeltaG2, C_prime_new)\n",
    "rhs = rhs_1 * rhs_2 * rhs_3\n",
    "\n",
    "if eq(lhs, rhs):\n",
    "    print(\"verified\")\n",
    "else:\n",
    "    print(\"not verified\")"
   ]
  },
  {
   "cell_type": "code",
   "execution_count": 281,
   "metadata": {},
   "outputs": [
    {
     "name": "stdout",
     "output_type": "stream",
     "text": [
      "      2\n",
      "-0.5 x + 1.5 x\n"
     ]
    }
   ],
   "source": [
    "import numpy as np\n",
    "from scipy.interpolate import lagrange\n",
    "x = np.array([1,2,3])\n",
    "y = np.array([1,1,0])\n",
    "print(lagrange(x, y))"
   ]
  }
 ],
 "metadata": {
  "kernelspec": {
   "display_name": "base",
   "language": "python",
   "name": "python3"
  },
  "language_info": {
   "codemirror_mode": {
    "name": "ipython",
    "version": 3
   },
   "file_extension": ".py",
   "mimetype": "text/x-python",
   "name": "python",
   "nbconvert_exporter": "python",
   "pygments_lexer": "ipython3",
   "version": "3.11.5"
  }
 },
 "nbformat": 4,
 "nbformat_minor": 2
}
