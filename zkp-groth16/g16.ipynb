{
 "cells": [
  {
   "cell_type": "code",
   "execution_count": 1,
   "metadata": {},
   "outputs": [],
   "source": [
    "from py_ecc.bn128 import G1, G2, multiply, add, curve_order, eq, Z1, pairing, neg, FQ\n",
    "import numpy as np\n",
    "import galois   "
   ]
  },
  {
   "cell_type": "code",
   "execution_count": 2,
   "metadata": {},
   "outputs": [],
   "source": [
    "GF = galois.GF(curve_order)\n",
    "# takes about 2 minutes"
   ]
  },
  {
   "cell_type": "code",
   "execution_count": 3,
   "metadata": {},
   "outputs": [
    {
     "name": "stdout",
     "output_type": "stream",
     "text": [
      "witness= <class 'galois.GF(21888242871839275222246405745257275088548364400416034343698204186575808495617)'>\n",
      "generated L, R, O R1CS matrices and witness vector\n",
      "verifying that L.w * R.w == O.w\n",
      "verified\n"
     ]
    }
   ],
   "source": [
    "# R1CS\n",
    "\n",
    "x = GF(5)#random.randint(1,10)\n",
    "y = GF(10)#random.randint(1,15)\n",
    "\n",
    "v1 = x * x\n",
    "v2 = v1 * x\n",
    "v3 = y * y\n",
    "v4 = v2 * y\n",
    "out = v2 + GF(2) * v4 - GF(5) * x * v3 - GF(3) * y + GF(2)\n",
    "\n",
    "L = GF(np.array([\n",
    "    [0,0,1,0,0,0,0,0],\n",
    "    [0,0,0,0,1,0,0,0],\n",
    "    [0,0,0,1,0,0,0,0],\n",
    "    [0,0,0,0,0,1,0,0],\n",
    "    [0,0,curve_order - 5,0,0,0,0,0] # 113 - 5 = 108\n",
    "    ]))\n",
    "\n",
    "R = GF(np.array([\n",
    "    [0,0,1,0,0,0,0,0],\n",
    "    [0,0,1,0,0,0,0,0],\n",
    "    [0,0,0,1,0,0,0,0],\n",
    "    [0,0,0,1,0,0,0,0],\n",
    "    [0,0,0,0,0,0,1,0]\n",
    "    ]))\n",
    "\n",
    "O = GF(np.array([\n",
    "    [0,0,0,0,1,0,0,0],\n",
    "    [0,0,0,0,0,1,0,0],\n",
    "    [0,0,0,0,0,0,1,0],\n",
    "    [0,0,0,0,0,0,0,1],\n",
    "    [curve_order-2,1,0,3,0,curve_order-1,0,curve_order-2] # 113 - 2 = 111\n",
    "    ]))\n",
    "\n",
    "witness = GF(np.array([GF(1),out,x,y,v1,v2,v3,v4]))\n",
    "print(f\"witness= {type(witness)}\")\n",
    "print(f\"generated L, R, O R1CS matrices and witness vector\")\n",
    "print(f\"verifying that L.w * R.w == O.w\")\n",
    "result = O.dot(witness) == np.multiply(L.dot(witness),R.dot(witness))\n",
    "assert result.all(), \"result contains an inequality\"\n",
    "print(f\"verified\")"
   ]
  },
  {
   "cell_type": "code",
   "execution_count": 38,
   "metadata": {},
   "outputs": [
    {
     "name": "stdout",
     "output_type": "stream",
     "text": [
      "Ua= 7296080957279758407415468581752425029516121466805344781232734728858602831849x^4 + 3648040478639879203707734290876212514758060733402672390616367364429301416197x^3 + 3648040478639879203707734290876212514758060733402672390616367364429301414937x^2 + 7296080957279758407415468581752425029516121466805344781232734728858602833414x + 21888242871839275222246405745257275088548364400416034343698204186575808494842\n",
      "lhs = rhs so they are the same\n",
      "when evaluated at random number tau, theyare the same\n"
     ]
    }
   ],
   "source": [
    "# R1CS => QAP\n",
    "target_coeffs = GF(np.array([1,2,3,4,5]))\n",
    "target_polynomial = galois.Poly(np.flip(np.polynomial.polynomial.polyfromroots([1,2,3,4,5])).astype(int),  field=GF)\n",
    "\n",
    "def matrix_to_vector_of_polynomials(matrix):\n",
    "    return np.apply_along_axis(interpolate_columns, 0, matrix)\n",
    "\n",
    "def interpolate_columns(column):\n",
    "    return galois.lagrange_poly(target_coeffs, column)\n",
    "\n",
    "# Once interpolation is finished, L, R, O = U.a, V.a, W.a\n",
    "U_vector_of_poly_x = matrix_to_vector_of_polynomials(L)\n",
    "V_vector_of_poly_x = matrix_to_vector_of_polynomials(R)\n",
    "W_vector_of_poly_x = matrix_to_vector_of_polynomials(O)\n",
    "# print(U_vector_of_poly_x)\n",
    "\n",
    "def aggregate_vector_of_polynomials(vector_of_poly, witness):\n",
    "    sum = GF(0)\n",
    "    for i in range(len(vector_of_poly)):\n",
    "        sum += vector_of_poly[i]*witness[i]\n",
    "    return sum\n",
    "\n",
    "# This is a polynomial of the inner product of Matrix and Witness\n",
    "Ua = aggregate_vector_of_polynomials(U_vector_of_poly_x, witness)\n",
    "Va = aggregate_vector_of_polynomials(V_vector_of_poly_x, witness)\n",
    "Wa = aggregate_vector_of_polynomials(W_vector_of_poly_x, witness)\n",
    "\n",
    "print(f\"Ua= {Ua}\")\n",
    "\n",
    "# We can now create h(x)t(x)\n",
    "hx, remainder = divmod(((Ua*Va) - Wa), target_polynomial)\n",
    "assert remainder == 0, \"remainder is not 0\"\n",
    "Ua * Va == Wa + hx * target_polynomial \n",
    "print(f\"lhs = rhs so they are the same\")\n",
    "\n",
    "tau = GF(9)\n",
    "Ua(tau) * Va(tau) == Wa(tau) + hx(tau) * target_polynomial(tau)\n",
    "print(f\"when evaluated at random number tau, theyare the same\")\n"
   ]
  },
  {
   "cell_type": "code",
   "execution_count": 56,
   "metadata": {},
   "outputs": [
    {
     "name": "stdout",
     "output_type": "stream",
     "text": [
      "(10229578500132525219804232293477008740220480719254688155636045124922735668252, 9284168382991294717218307925110778314947151538513504999199960077137521427660)\n",
      "verified\n"
     ]
    }
   ],
   "source": [
    "# Trusted Setup\n",
    "from functools import reduce\n",
    "tau = GF(9)\n",
    "powers_of_tau_G1 = [multiply(G1, int(tau) ** i) for i in range(Ua.degree + 1)]\n",
    "powers_of_tau_G2 = [multiply(G2, int(tau) ** i) for i in range(Ua.degree + 1)]\n",
    "t_of_tau = target_polynomial(tau)\n",
    "target_powers_of_tau_G1 = [multiply(G1, int(tau) ** i * int(t_of_tau)) for i in range(target_polynomial.degree)]\n",
    "\n",
    "# Prover evaluate QAP at Tau\n",
    "# This is not encrypted\n",
    "Ua_tau = Ua(tau)\n",
    "Va_tau = Va(tau)\n",
    "Wa_tau = Wa(tau)\n",
    "hx_tau = hx(tau)\n",
    "tx_tau = target_polynomial(tau)\n",
    "assert Ua_tau * Va_tau == Wa_tau + hx_tau * tx_tau, \"Ua_tau * Va_tau != Wa_tau + hx_tau * tx_tau\"\n",
    "\n",
    "def inner_product(powers_of_tau, coeffs):\n",
    "    # print(len(powers_of_tau), len(coeffs))\n",
    "    # print(f\"scaling {coeffs[0]} with {powers_of_tau[0]} \")\n",
    "    # print(f\"scaling {coeffs[1]} with {powers_of_tau[1]} \")\n",
    "    # print(f\"scaling {coeffs[2]} with {powers_of_tau[2]} \")\n",
    "    # print(f\"scaling {coeffs[3]} with {powers_of_tau[3]} \")\n",
    "    return reduce(add, (multiply(point, int(coeff)) for point, coeff in zip(powers_of_tau, coeffs)), Z1)\n",
    "\n",
    "Ua_tau_G1 = inner_product(powers_of_tau_G1, Ua.coeffs[::-1])\n",
    "Va_tau_G2 = inner_product(powers_of_tau_G2, Va.coeffs[::-1])\n",
    "Wa_tau_G1 = inner_product(powers_of_tau_G1, Wa.coeffs[::-1])\n",
    "# target_powers_of_tau_G1\n",
    "ht_tau = inner_product(target_powers_of_tau_G1, hx.coeffs[::-1])\n",
    "print(ht_tau)\n",
    "\n",
    "lhs = pairing(Va_tau_G2, Ua_tau_G1)\n",
    "rhs = pairing(G2, add(Wa_tau_G1, ht_tau))\n",
    "\n",
    "if eq(lhs, rhs):\n",
    "    print(\"verified\")\n",
    "else:\n",
    "    print(\"not verified\")"
   ]
  },
  {
   "cell_type": "code",
   "execution_count": 62,
   "metadata": {},
   "outputs": [
    {
     "name": "stdout",
     "output_type": "stream",
     "text": [
      "i= 0, tau**i= 1\n",
      "i= 1, tau**i= 9\n",
      "i= 2, tau**i= 81\n",
      "i= 3, tau**i= 729\n",
      "i= 4, tau**i= 6561\n",
      "i= 5, tau**i= 59049\n",
      "i= 6, tau**i= 531441\n",
      "i= 7, tau**i= 4782969\n",
      "powers_of_C_G1= [None, (1498339796778307471365624041433540006436600402203263068984044382637138627232, 16602075090262163391842937953477689188383027283447549643521873518378054630844), (19713731097331214556946270407996655093938624249746801813868484970177446250827, 7915450358416394160244865461310067414026740581724236031233817127847290564398), (18802409903743233850598038877913051077699318360879489910323138544374008671560, 6018002251046286340202980904321527968652906953492375385565894913798893110620), (16749259040035862000161139699914125634044344427748873833069450502986132926775, 21228218326893656881892551613231272194089486779098148509380441788503869847289), (4256573437536214784753561414244738330606124694572745625878333704018012795384, 4840905012468090481208016870804876535614827290217972219136190742298558358708), (2815522373680538283499810521217555096532260852255936848892192581325074233810, 6427881094449084392919269566093433717485179197260070864623649472061146113914), (12338254795365855681032798728846878893364577885361235118680512015834428302076, 11130905438795756822979617021827219421065445054366492649592776472789765358785)]\n",
      "not verified\n"
     ]
    }
   ],
   "source": [
    "# shift lhs and rhs by alpha and beta\n",
    "# Trusted Setup\n",
    "alpha = GF(2)\n",
    "beta = GF(3)\n",
    "AlphaG1 = multiply(G1, int(alpha))\n",
    "BetaG2 = multiply(G2, int(beta))\n",
    "\n",
    "# encrypted evaluation: shifts the U and V polynomial by alpha and beta, evaluates at powers of tau\n",
    "powers_of_C_G1 = []\n",
    "for i in range(len(U_vector_of_poly_x)):\n",
    "    print(f\"i= {i}, tau**i= {tau**i}\")\n",
    "    u_eval_tau_i_beta = beta * U_vector_of_poly_x[i](tau**i)\n",
    "    v_eval_tau_i_alpha = alpha * V_vector_of_poly_x[i](tau**i)\n",
    "    w_eval_tau_i = W_vector_of_poly_x[i](tau**i)\n",
    "    powers_of_C_G1.append(multiply(G1, int(u_eval_tau_i_beta + v_eval_tau_i_alpha + w_eval_tau_i)))\n",
    "\n",
    "\n",
    "\n",
    "print(f\"powers_of_C_G1= {powers_of_C_G1}\")\n",
    "\n",
    "Cprime = reduce(add, (multiply(point, int(coeff)) for point, coeff in zip(powers_of_C_G1, witness)), Z1)\n",
    "C_new = add(Cprime, ht_tau)\n",
    "\n",
    "A_new = add(AlphaG1, Ua_tau_G1)\n",
    "B_new = add(BetaG2, Va_tau_G2)\n",
    "\n",
    "lhs = pairing(B_new, A_new)\n",
    "rhs_1 = pairing(BetaG2,AlphaG1)\n",
    "rhs_2 = pairing(G2,C_new)\n",
    "rhs = rhs_1 * rhs_2\n",
    "\n",
    "if eq(lhs, rhs):\n",
    "    print(\"verified\")\n",
    "else:\n",
    "    print(\"not verified\")\n"
   ]
  },
  {
   "cell_type": "code",
   "execution_count": null,
   "metadata": {},
   "outputs": [],
   "source": []
  }
 ],
 "metadata": {
  "kernelspec": {
   "display_name": "base",
   "language": "python",
   "name": "python3"
  },
  "language_info": {
   "codemirror_mode": {
    "name": "ipython",
    "version": 3
   },
   "file_extension": ".py",
   "mimetype": "text/x-python",
   "name": "python",
   "nbconvert_exporter": "python",
   "pygments_lexer": "ipython3",
   "version": "3.11.5"
  }
 },
 "nbformat": 4,
 "nbformat_minor": 2
}
