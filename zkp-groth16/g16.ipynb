{
 "cells": [
  {
   "cell_type": "code",
   "execution_count": 1,
   "metadata": {},
   "outputs": [],
   "source": [
    "from py_ecc.bn128 import G1, G2, multiply, add, curve_order, eq, Z1, pairing, neg, FQ\n",
    "import numpy as np\n",
    "import galois   "
   ]
  },
  {
   "cell_type": "code",
   "execution_count": 2,
   "metadata": {},
   "outputs": [],
   "source": [
    "GF = galois.GF(curve_order)\n",
    "# takes about 2 minutes"
   ]
  },
  {
   "cell_type": "code",
   "execution_count": 3,
   "metadata": {},
   "outputs": [
    {
     "name": "stdout",
     "output_type": "stream",
     "text": [
      "witness= <class 'galois.GF(21888242871839275222246405745257275088548364400416034343698204186575808495617)'>\n",
      "generated L, R, O R1CS matrices and witness vector\n",
      "verifying that L.w * R.w == O.w\n",
      "verified\n"
     ]
    }
   ],
   "source": [
    "# R1CS\n",
    "\n",
    "x = GF(5)#random.randint(1,10)\n",
    "y = GF(10)#random.randint(1,15)\n",
    "\n",
    "v1 = x * x\n",
    "v2 = v1 * x\n",
    "v3 = y * y\n",
    "v4 = v2 * y\n",
    "out = v2 + GF(2) * v4 - GF(5) * x * v3 - GF(3) * y + GF(2)\n",
    "\n",
    "L = GF(np.array([\n",
    "    [0,0,1,0,0,0,0,0],\n",
    "    [0,0,0,0,1,0,0,0],\n",
    "    [0,0,0,1,0,0,0,0],\n",
    "    [0,0,0,0,0,1,0,0],\n",
    "    [0,0,curve_order - 5,0,0,0,0,0] # 113 - 5 = 108\n",
    "    ]))\n",
    "\n",
    "R = GF(np.array([\n",
    "    [0,0,1,0,0,0,0,0],\n",
    "    [0,0,1,0,0,0,0,0],\n",
    "    [0,0,0,1,0,0,0,0],\n",
    "    [0,0,0,1,0,0,0,0],\n",
    "    [0,0,0,0,0,0,1,0]\n",
    "    ]))\n",
    "\n",
    "O = GF(np.array([\n",
    "    [0,0,0,0,1,0,0,0],\n",
    "    [0,0,0,0,0,1,0,0],\n",
    "    [0,0,0,0,0,0,1,0],\n",
    "    [0,0,0,0,0,0,0,1],\n",
    "    [curve_order-2,1,0,3,0,curve_order-1,0,curve_order-2] # 113 - 2 = 111\n",
    "    ]))\n",
    "\n",
    "witness = GF(np.array([GF(1),out,x,y,v1,v2,v3,v4]))\n",
    "print(f\"witness= {type(witness)}\")\n",
    "print(f\"generated L, R, O R1CS matrices and witness vector\")\n",
    "print(f\"verifying that L.w * R.w == O.w\")\n",
    "result = O.dot(witness) == np.multiply(L.dot(witness),R.dot(witness))\n",
    "assert result.all(), \"result contains an inequality\"\n",
    "print(f\"verified\")"
   ]
  },
  {
   "cell_type": "code",
   "execution_count": 38,
   "metadata": {},
   "outputs": [
    {
     "name": "stdout",
     "output_type": "stream",
     "text": [
      "Ua= 7296080957279758407415468581752425029516121466805344781232734728858602831849x^4 + 3648040478639879203707734290876212514758060733402672390616367364429301416197x^3 + 3648040478639879203707734290876212514758060733402672390616367364429301414937x^2 + 7296080957279758407415468581752425029516121466805344781232734728858602833414x + 21888242871839275222246405745257275088548364400416034343698204186575808494842\n",
      "lhs = rhs so they are the same\n",
      "when evaluated at random number tau, theyare the same\n"
     ]
    }
   ],
   "source": [
    "# R1CS => QAP\n",
    "target_coeffs = GF(np.array([1,2,3,4,5]))\n",
    "target_polynomial = galois.Poly(np.flip(np.polynomial.polynomial.polyfromroots([1,2,3,4,5])).astype(int),  field=GF)\n",
    "\n",
    "def matrix_to_vector_of_polynomials(matrix):\n",
    "    return np.apply_along_axis(interpolate_columns, 0, matrix)\n",
    "\n",
    "def interpolate_columns(column):\n",
    "    return galois.lagrange_poly(target_coeffs, column)\n",
    "\n",
    "# Once interpolation is finished, L, R, O = U.a, V.a, W.a\n",
    "U_vector_of_poly_x = matrix_to_vector_of_polynomials(L)\n",
    "V_vector_of_poly_x = matrix_to_vector_of_polynomials(R)\n",
    "W_vector_of_poly_x = matrix_to_vector_of_polynomials(O)\n",
    "# print(U_vector_of_poly_x)\n",
    "\n",
    "def aggregate_vector_of_polynomials_with_witness(vector_of_poly, witness):\n",
    "    sum = GF(0)\n",
    "    for i in range(len(vector_of_poly)):\n",
    "        sum += vector_of_poly[i]*witness[i]\n",
    "    return sum\n",
    "\n",
    "# This is a polynomial of the inner product of Matrix and Witness\n",
    "Ua = aggregate_vector_of_polynomials_with_witness(U_vector_of_poly_x, witness)\n",
    "Va = aggregate_vector_of_polynomials_with_witness(V_vector_of_poly_x, witness)\n",
    "Wa = aggregate_vector_of_polynomials_with_witness(W_vector_of_poly_x, witness)\n",
    "\n",
    "print(f\"Ua= {Ua}\")\n",
    "\n",
    "# We can now create h(x)t(x)\n",
    "hx, remainder = divmod(((Ua*Va) - Wa), target_polynomial)\n",
    "assert remainder == 0, \"remainder is not 0\"\n",
    "Ua * Va == Wa + hx * target_polynomial \n",
    "print(f\"lhs = rhs so they are the same\")\n",
    "\n",
    "tau = GF(9)\n",
    "Ua(tau) * Va(tau) == Wa(tau) + hx(tau) * target_polynomial(tau)\n",
    "print(f\"when evaluated at random number tau, theyare the same\")\n"
   ]
  },
  {
   "cell_type": "code",
   "execution_count": 56,
   "metadata": {},
   "outputs": [
    {
     "name": "stdout",
     "output_type": "stream",
     "text": [
      "(10229578500132525219804232293477008740220480719254688155636045124922735668252, 9284168382991294717218307925110778314947151538513504999199960077137521427660)\n",
      "verified\n"
     ]
    }
   ],
   "source": [
    "# Trusted Setup\n",
    "from functools import reduce\n",
    "tau = GF(9)\n",
    "powers_of_tau_G1 = [multiply(G1, int(tau) ** i) for i in range(Ua.degree + 1)]\n",
    "powers_of_tau_G2 = [multiply(G2, int(tau) ** i) for i in range(Ua.degree + 1)]\n",
    "t_of_tau = target_polynomial(tau)\n",
    "target_powers_of_tau_G1 = [multiply(G1, int(tau) ** i * int(t_of_tau)) for i in range(target_polynomial.degree)]\n",
    "\n",
    "# Prover evaluate QAP at Tau\n",
    "# This is not encrypted\n",
    "Ua_tau = Ua(tau)\n",
    "Va_tau = Va(tau)\n",
    "Wa_tau = Wa(tau)\n",
    "hx_tau = hx(tau)\n",
    "tx_tau = target_polynomial(tau)\n",
    "assert Ua_tau * Va_tau == Wa_tau + hx_tau * tx_tau, \"Ua_tau * Va_tau != Wa_tau + hx_tau * tx_tau\"\n",
    "\n",
    "def inner_product(powers_of_tau, coeffs):\n",
    "    # print(len(powers_of_tau), len(coeffs))\n",
    "    # print(f\"scaling {coeffs[0]} with {powers_of_tau[0]} \")\n",
    "    # print(f\"scaling {coeffs[1]} with {powers_of_tau[1]} \")\n",
    "    # print(f\"scaling {coeffs[2]} with {powers_of_tau[2]} \")\n",
    "    # print(f\"scaling {coeffs[3]} with {powers_of_tau[3]} \")\n",
    "    return reduce(add, (multiply(point, int(coeff)) for point, coeff in zip(powers_of_tau, coeffs)), Z1)\n",
    "\n",
    "Ua_tau_G1 = inner_product(powers_of_tau_G1, Ua.coeffs[::-1])\n",
    "Va_tau_G2 = inner_product(powers_of_tau_G2, Va.coeffs[::-1])\n",
    "Wa_tau_G1 = inner_product(powers_of_tau_G1, Wa.coeffs[::-1])\n",
    "# target_powers_of_tau_G1\n",
    "ht_tau = inner_product(target_powers_of_tau_G1, hx.coeffs[::-1])\n",
    "print(ht_tau)\n",
    "\n",
    "lhs = pairing(Va_tau_G2, Ua_tau_G1)\n",
    "rhs = pairing(G2, add(Wa_tau_G1, ht_tau))\n",
    "\n",
    "if eq(lhs, rhs):\n",
    "    print(\"verified\")\n",
    "else:\n",
    "    print(\"not verified\")"
   ]
  },
  {
   "cell_type": "code",
   "execution_count": 80,
   "metadata": {},
   "outputs": [
    {
     "name": "stdout",
     "output_type": "stream",
     "text": [
      "(19603121658858655875247255127227546065511167701958109023745805570144594432590, 3491599665530032998186195341925312929176047934868407297538932117905377596330)\n",
      "verified\n"
     ]
    }
   ],
   "source": [
    "# shift lhs and rhs by alpha and beta\n",
    "# Trusted Setup\n",
    "alpha = GF(2)\n",
    "beta = GF(3)\n",
    "AlphaG1 = multiply(G1, int(alpha))\n",
    "BetaG2 = multiply(G2, int(beta))\n",
    "\n",
    "# encrypted evaluation: shifts the U and V polynomial by alpha and beta, evaluates at powers of tau\n",
    "powers_of_tau_C_G1 = []\n",
    "for i in range(len(U_vector_of_poly_x)):\n",
    "    u_eval_tau_i_beta = beta * U_vector_of_poly_x[i](tau)\n",
    "    v_eval_tau_i_alpha = alpha * V_vector_of_poly_x[i](tau)\n",
    "    w_eval_tau_i = W_vector_of_poly_x[i](tau)\n",
    "    powers_of_tau_C_G1.append(multiply(G1, int(u_eval_tau_i_beta + v_eval_tau_i_alpha + w_eval_tau_i)))\n",
    "\n",
    "gamma = GF(4)\n",
    "gamma_inv = np.reciprocal(gamma)\n",
    "print(multiply(powers_of_tau_C_G1[0],int(gamma_inv)))\n",
    "# print(multiply(powers_of_tau_C_G1[1],GF(np.reciprocal(4))))\n",
    "\n",
    "Cprime = reduce(add, (multiply(point, int(coeff)) for point, coeff in zip(powers_of_tau_C_G1, witness)), Z1)\n",
    "C_new = add(Cprime, ht_tau)\n",
    "\n",
    "A_new = add(AlphaG1, Ua_tau_G1)\n",
    "B_new = add(BetaG2, Va_tau_G2)\n",
    "\n",
    "lhs = pairing(B_new, A_new)\n",
    "rhs_1 = pairing(BetaG2,AlphaG1)\n",
    "rhs_2 = pairing(G2,C_new)\n",
    "rhs = rhs_1 * rhs_2\n",
    "\n",
    "if eq(lhs, rhs):\n",
    "    print(\"verified\")\n",
    "else:\n",
    "    print(\"not verified\")\n"
   ]
  },
  {
   "cell_type": "code",
   "execution_count": 82,
   "metadata": {},
   "outputs": [
    {
     "name": "stdout",
     "output_type": "stream",
     "text": [
      "public_powers_of_tau_G1= [(19603121658858655875247255127227546065511167701958109023745805570144594432590, 3491599665530032998186195341925312929176047934868407297538932117905377596330), (10083788024194675646750636860455530929918000340048653262959724535310632617879, 12951068815607244652854786832905739619988680801873571427206151889922176625052)]\n",
      "private_powers_of_tau_G1= [(3796301683198722239795418782982915973115755374300199864009502826684353097522, 16070816267983133729622251082842804553849605443666454615977957431290949719672), (21152661615075239434174289828608023213735069793015579446098080717260066341841, 8938890654605979009730437448016915982810240573292435962528605062294041939394), (14626848194490352593414414088402296893134534251448659628548217257881920807211, 21680706108209210548935456532174360824747476929146423495207843015331521526595), (2845387342779321799842250470958913008791967307395093230673450621801732662705, 6081825260233202711564256903399213902408519246278934904183647380228757562788), (512439447903660818744202862764799041518768225185429113861383425375935817607, 15090471967524053398515938146478988861782689070234055248093298560154207313015), (10712040896803778477849734997074759403733095301691596631550715868559028088184, 13908236470485159778961234807335388592136643094425119570134430488837138720624)]\n",
      "private_powers_of_tau_G1= [(3796301683198722239795418782982915973115755374300199864009502826684353097522, 16070816267983133729622251082842804553849605443666454615977957431290949719672), (21152661615075239434174289828608023213735069793015579446098080717260066341841, 8938890654605979009730437448016915982810240573292435962528605062294041939394), (14626848194490352593414414088402296893134534251448659628548217257881920807211, 21680706108209210548935456532174360824747476929146423495207843015331521526595), (2845387342779321799842250470958913008791967307395093230673450621801732662705, 6081825260233202711564256903399213902408519246278934904183647380228757562788), (512439447903660818744202862764799041518768225185429113861383425375935817607, 15090471967524053398515938146478988861782689070234055248093298560154207313015), (10712040896803778477849734997074759403733095301691596631550715868559028088184, 13908236470485159778961234807335388592136643094425119570134430488837138720624), (2759095667186266942919681905446205531786064808113529181706120395186168617457, 16268109802058232087539992945659647443983099822377646896649054682485090747318), (15738653073691171999781985740172496381685193287906751849780939035090211684888, 19083298745709403209584479913623543106480752590180925480709878993943095867049), (10652570957973409579623191463251851675899922606368748990663442515835679121713, 16446519477198729276263988305965695705031606150055586324343316820717723611003), (486849113740949266821852969284291568532812931849055987557116961085550020001, 20069622177288817239224108685184841020320868049733750049980656669674585882566), (11094783132397955566395296115909392203039607592213320683761560225620969561929, 1007716543716279696673570393506213990560111882536049416795170313373045602298), (5771275040804973698656517837903536685577268545888534507663574470438488138665, 12801630786358363586049137814322701555515974049025742158856511686446630670506)]\n"
     ]
    }
   ],
   "source": [
    "# Introducing Gamma, Delta\n",
    "gamma = GF(4)\n",
    "delta = GF(5)\n",
    "gamma_inv = np.reciprocal(gamma)\n",
    "delta_inv = np.reciprocal(delta)\n",
    "\n",
    "GammaG1 = multiply(G1, int(gamma))\n",
    "DeltaG2 = multiply(G2, int(delta))\n",
    "\n",
    "# powers of tau for public input from i = 0 to i = 1 for the 0, 1 pos of [1,out,x,y,...] \n",
    "public_witness_length = 2\n",
    "\n",
    "public_powers_of_tau_G1 = [multiply(point, int(gamma_inv)) for point in powers_of_tau_C_G1[:public_witness_length]]\n",
    "print(f\"public_powers_of_tau_G1= {public_powers_of_tau_G1}\")\n",
    "\n",
    "private_powers_of_tau_G1 = [multiply(point, int(gamma_inv)) for point in powers_of_tau_C_G1[public_witness_length:len(witness)]]\n",
    "print(f\"private_powers_of_tau_G1= {private_powers_of_tau_G1}\")\n",
    "\n",
    "\n",
    "# for i in range(public_witness_length):\n",
    "#     u_eval_tau_i_beta = beta * U_vector_of_poly_x[i](tau)\n",
    "#     v_eval_tau_i_alpha = alpha * V_vector_of_poly_x[i](tau)\n",
    "#     w_eval_tau_i = W_vector_of_poly_x[i](tau)\n",
    "#     public_powers_of_tau_G1.append(multiply(G1, int(gamma_inv) * int(u_eval_tau_i_beta + v_eval_tau_i_alpha + w_eval_tau_i)))\n",
    "\n",
    "# print(f\"public_powers_of_tau_G1= {public_powers_of_tau_G1}\")\n",
    "\n",
    "# for i in range(public_witness_length, len(witness)):\n",
    "#     u_eval_tau_i_beta = beta * U_vector_of_poly_x[i](tau)\n",
    "#     v_eval_tau_i_alpha = alpha * V_vector_of_poly_x[i](tau)\n",
    "#     w_eval_tau_i = W_vector_of_poly_x[i](tau)\n",
    "#     private_powers_of_tau_G1.append(multiply(G1, int(delta_inv) * int(u_eval_tau_i_beta + v_eval_tau_i_alpha + w_eval_tau_i)))\n",
    "\n",
    "# print(f\"private_powers_of_tau_G1= {private_powers_of_tau_G1}\")\n"
   ]
  },
  {
   "cell_type": "code",
   "execution_count": 83,
   "metadata": {},
   "outputs": [],
   "source": []
  },
  {
   "cell_type": "code",
   "execution_count": null,
   "metadata": {},
   "outputs": [],
   "source": []
  }
 ],
 "metadata": {
  "kernelspec": {
   "display_name": "base",
   "language": "python",
   "name": "python3"
  },
  "language_info": {
   "codemirror_mode": {
    "name": "ipython",
    "version": 3
   },
   "file_extension": ".py",
   "mimetype": "text/x-python",
   "name": "python",
   "nbconvert_exporter": "python",
   "pygments_lexer": "ipython3",
   "version": "3.11.5"
  }
 },
 "nbformat": 4,
 "nbformat_minor": 2
}
