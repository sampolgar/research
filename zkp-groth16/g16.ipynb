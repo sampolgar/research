{
 "cells": [
  {
   "cell_type": "code",
   "execution_count": 1,
   "metadata": {},
   "outputs": [],
   "source": [
    "from py_ecc.bn128 import G1, G2, multiply, add, curve_order, eq, Z1, pairing, neg, FQ\n",
    "import numpy as np\n",
    "import galois   "
   ]
  },
  {
   "cell_type": "code",
   "execution_count": 2,
   "metadata": {},
   "outputs": [],
   "source": [
    "GF = galois.GF(curve_order)\n",
    "# takes about 2 minutes"
   ]
  },
  {
   "cell_type": "code",
   "execution_count": 3,
   "metadata": {},
   "outputs": [
    {
     "name": "stdout",
     "output_type": "stream",
     "text": [
      "witness= <class 'galois.GF(21888242871839275222246405745257275088548364400416034343698204186575808495617)'>\n",
      "generated L, R, O R1CS matrices and witness vector\n",
      "verifying that L.w * R.w == O.w\n",
      "verified\n"
     ]
    }
   ],
   "source": [
    "# R1CS\n",
    "\n",
    "x = GF(5)#random.randint(1,10)\n",
    "y = GF(10)#random.randint(1,15)\n",
    "\n",
    "v1 = x * x\n",
    "v2 = v1 * x\n",
    "v3 = y * y\n",
    "v4 = v2 * y\n",
    "out = v2 + GF(2) * v4 - GF(5) * x * v3 - GF(3) * y + GF(2)\n",
    "\n",
    "L = GF(np.array([\n",
    "    [0,0,1,0,0,0,0,0],\n",
    "    [0,0,0,0,1,0,0,0],\n",
    "    [0,0,0,1,0,0,0,0],\n",
    "    [0,0,0,0,0,1,0,0],\n",
    "    [0,0,curve_order - 5,0,0,0,0,0] # 113 - 5 = 108\n",
    "    ]))\n",
    "\n",
    "R = GF(np.array([\n",
    "    [0,0,1,0,0,0,0,0],\n",
    "    [0,0,1,0,0,0,0,0],\n",
    "    [0,0,0,1,0,0,0,0],\n",
    "    [0,0,0,1,0,0,0,0],\n",
    "    [0,0,0,0,0,0,1,0]\n",
    "    ]))\n",
    "\n",
    "O = GF(np.array([\n",
    "    [0,0,0,0,1,0,0,0],\n",
    "    [0,0,0,0,0,1,0,0],\n",
    "    [0,0,0,0,0,0,1,0],\n",
    "    [0,0,0,0,0,0,0,1],\n",
    "    [curve_order-2,1,0,3,0,curve_order-1,0,curve_order-2] # 113 - 2 = 111\n",
    "    ]))\n",
    "\n",
    "witness = GF(np.array([GF(1),out,x,y,v1,v2,v3,v4]))\n",
    "print(f\"witness= {type(witness)}\")\n",
    "print(f\"generated L, R, O R1CS matrices and witness vector\")\n",
    "print(f\"verifying that L.w * R.w == O.w\")\n",
    "result = O.dot(witness) == np.multiply(L.dot(witness),R.dot(witness))\n",
    "assert result.all(), \"result contains an inequality\"\n",
    "print(f\"verified\")"
   ]
  },
  {
   "cell_type": "code",
   "execution_count": 38,
   "metadata": {},
   "outputs": [
    {
     "name": "stdout",
     "output_type": "stream",
     "text": [
      "Ua= 7296080957279758407415468581752425029516121466805344781232734728858602831849x^4 + 3648040478639879203707734290876212514758060733402672390616367364429301416197x^3 + 3648040478639879203707734290876212514758060733402672390616367364429301414937x^2 + 7296080957279758407415468581752425029516121466805344781232734728858602833414x + 21888242871839275222246405745257275088548364400416034343698204186575808494842\n",
      "lhs = rhs so they are the same\n",
      "when evaluated at random number tau, theyare the same\n"
     ]
    }
   ],
   "source": [
    "# R1CS => QAP\n",
    "target_coeffs = GF(np.array([1,2,3,4,5]))\n",
    "target_polynomial = galois.Poly(np.flip(np.polynomial.polynomial.polyfromroots([1,2,3,4,5])).astype(int),  field=GF)\n",
    "\n",
    "def matrix_to_vector_of_polynomials(matrix):\n",
    "    return np.apply_along_axis(interpolate_columns, 0, matrix)\n",
    "\n",
    "def interpolate_columns(column):\n",
    "    return galois.lagrange_poly(target_coeffs, column)\n",
    "\n",
    "# Once interpolation is finished, L, R, O = U.a, V.a, W.a\n",
    "U_vector_of_poly_x = matrix_to_vector_of_polynomials(L)\n",
    "V_vector_of_poly_x = matrix_to_vector_of_polynomials(R)\n",
    "W_vector_of_poly_x = matrix_to_vector_of_polynomials(O)\n",
    "# print(U_vector_of_poly_x)\n",
    "\n",
    "def aggregate_vector_of_polynomials_with_witness(vector_of_poly, witness):\n",
    "    sum = GF(0)\n",
    "    for i in range(len(vector_of_poly)):\n",
    "        sum += vector_of_poly[i]*witness[i]\n",
    "    return sum\n",
    "\n",
    "# This is a polynomial of the inner product of Matrix and Witness\n",
    "Ua = aggregate_vector_of_polynomials_with_witness(U_vector_of_poly_x, witness)\n",
    "Va = aggregate_vector_of_polynomials_with_witness(V_vector_of_poly_x, witness)\n",
    "Wa = aggregate_vector_of_polynomials_with_witness(W_vector_of_poly_x, witness)\n",
    "\n",
    "print(f\"Ua= {Ua}\")\n",
    "\n",
    "# We can now create h(x)t(x)\n",
    "hx, remainder = divmod(((Ua*Va) - Wa), target_polynomial)\n",
    "assert remainder == 0, \"remainder is not 0\"\n",
    "Ua * Va == Wa + hx * target_polynomial \n",
    "print(f\"lhs = rhs so they are the same\")\n",
    "\n",
    "tau = GF(9)\n",
    "Ua(tau) * Va(tau) == Wa(tau) + hx(tau) * target_polynomial(tau)\n",
    "print(f\"when evaluated at random number tau, theyare the same\")\n"
   ]
  },
  {
   "cell_type": "code",
   "execution_count": 125,
   "metadata": {},
   "outputs": [
    {
     "name": "stdout",
     "output_type": "stream",
     "text": [
      "[(5136651340476158641347135049229561641726208279354069871203792715805161747619, 16837433065819275595889503804681160417798134875894572923630286174257983651115), (3608579351209469348262127153708096808392613689835619023906463782259078105056, 3310375785466101551127454278243891483882707756475491387369621652605804389332), (11915336422199313298718358060786965387251113444580415413551829178725539816878, 7169495198210300587774633191981028215643087614161813916934543087769490869999), (9948826538126424923441269225378406087889288481114770962871891348388998446354, 595268035525692565983940729933479190255995194486049690773911652150141327966), (8796560615450943079691766927107033276403917061939071706673743086759536717063, 4246612332291580202431957453865929375784000954511860209581344892369044865472)]\n",
      "(10229578500132525219804232293477008740220480719254688155636045124922735668252, 9284168382991294717218307925110778314947151538513504999199960077137521427660)\n",
      "verified\n"
     ]
    }
   ],
   "source": [
    "# Trusted Setup\n",
    "from functools import reduce\n",
    "tau = GF(9)\n",
    "powers_of_tau_G1 = [multiply(G1, int(tau) ** i) for i in range(Ua.degree + 1)]\n",
    "powers_of_tau_G2 = [multiply(G2, int(tau) ** i) for i in range(Ua.degree + 1)]\n",
    "t_of_tau = target_polynomial(tau)\n",
    "target_powers_of_tau_G1 = [multiply(G1, int(tau) ** i * int(t_of_tau)) for i in range(target_polynomial.degree)]\n",
    "print(target_powers_of_tau_G1)\n",
    "# Prover evaluate QAP at Tau\n",
    "# This is not encrypted\n",
    "Ua_tau = Ua(tau)\n",
    "Va_tau = Va(tau)\n",
    "Wa_tau = Wa(tau)\n",
    "hx_tau = hx(tau)\n",
    "tx_tau = target_polynomial(tau)\n",
    "assert Ua_tau * Va_tau == Wa_tau + hx_tau * tx_tau, \"Ua_tau * Va_tau != Wa_tau + hx_tau * tx_tau\"\n",
    "\n",
    "def inner_product(powers_of_tau, coeffs):\n",
    "    return reduce(add, (multiply(point, int(coeff)) for point, coeff in zip(powers_of_tau, coeffs)), Z1)\n",
    "\n",
    "Ua_tau_G1 = inner_product(powers_of_tau_G1, Ua.coeffs[::-1])\n",
    "Va_tau_G2 = inner_product(powers_of_tau_G2, Va.coeffs[::-1])\n",
    "Wa_tau_G1 = inner_product(powers_of_tau_G1, Wa.coeffs[::-1])\n",
    "ht_tau = inner_product(target_powers_of_tau_G1, hx.coeffs[::-1])\n",
    "print(ht_tau)\n",
    "\n",
    "lhs = pairing(Va_tau_G2, Ua_tau_G1)\n",
    "rhs = pairing(G2, add(Wa_tau_G1, ht_tau))\n",
    "\n",
    "if eq(lhs, rhs):\n",
    "    print(\"verified\")\n",
    "else:\n",
    "    print(\"not verified\")"
   ]
  },
  {
   "cell_type": "code",
   "execution_count": 124,
   "metadata": {},
   "outputs": [
    {
     "name": "stdout",
     "output_type": "stream",
     "text": [
      "verified\n"
     ]
    }
   ],
   "source": [
    "# shift lhs and rhs by alpha and beta\n",
    "# Trusted Setup\n",
    "alpha = GF(2)\n",
    "beta = GF(3)\n",
    "AlphaG1 = multiply(G1, int(alpha))\n",
    "BetaG2 = multiply(G2, int(beta))\n",
    "\n",
    "# encrypted evaluation: shifts the U and V polynomial by alpha and beta, evaluates at powers of tau\n",
    "powers_of_tau_C_G1 = []\n",
    "for i in range(len(U_vector_of_poly_x)):\n",
    "    u_eval_tau_i_beta = beta * U_vector_of_poly_x[i](tau)\n",
    "    v_eval_tau_i_alpha = alpha * V_vector_of_poly_x[i](tau)\n",
    "    w_eval_tau_i = W_vector_of_poly_x[i](tau)\n",
    "    powers_of_tau_C_G1.append(multiply(G1, int(u_eval_tau_i_beta + v_eval_tau_i_alpha + w_eval_tau_i)))\n",
    "\n",
    "Cprime = reduce(add, (multiply(point, int(coeff)) for point, coeff in zip(powers_of_tau_C_G1, witness)), Z1)\n",
    "C_new = add(Cprime, ht_tau)\n",
    "\n",
    "A_new = add(AlphaG1, Ua_tau_G1)\n",
    "B_new = add(BetaG2, Va_tau_G2)\n",
    "\n",
    "lhs = pairing(B_new, A_new)\n",
    "rhs_1 = pairing(BetaG2,AlphaG1)\n",
    "rhs_2 = pairing(G2,C_new)\n",
    "rhs = rhs_1 * rhs_2\n",
    "\n",
    "if eq(lhs, rhs):\n",
    "    print(\"verified\")\n",
    "else:\n",
    "    print(\"not verified\")\n"
   ]
  },
  {
   "cell_type": "code",
   "execution_count": 145,
   "metadata": {},
   "outputs": [
    {
     "name": "stdout",
     "output_type": "stream",
     "text": [
      "(2007103093081813766129105587839348153647609275923832116616944241119959949926, 2096930367711349711597323783877123072514796801464756395332460543597665076119)\n",
      "(1498339796778307471365624041433540006436600402203263068984044382637138627232, 16602075090262163391842937953477689188383027283447549643521873518378054630844)\n",
      "(3105394042392028091006678147035271410126137499506258560597207370160586153422, 4975659184191176520960875954395952154279507714769779022572903275474405399622)\n",
      "(5469507903858466987981420700078173472202739331512182257164535989464840481173, 10778601429035076164368616131778487282564774552652255238638437197189124686427)\n",
      "(2141779991695175893126705397706683433383796298116773934577406882717181126114, 11464512254018357452934957088916697358343897658215408207230123605121399014315)\n",
      "(6300917389277582963522139221161875580841814245872479853845713494168407204402, 9113513414603065448923103630098548087463328771449545261681541408332404797817)\n",
      "(14272123054654457709936604042122767711746368495379248511670154852957621272879, 5390793356463663377023184148570679692566494850099183968889446432602329490088)\n",
      "(5696558760368837183730439749604956717054133920325761838481969308315262649820, 21106254049790012129268185506563618115375906507777454037101440294696718720086)\n",
      "----\n",
      "iteration 0 witness:  1\n",
      "iteration 1 witness:  97\n",
      "----\n",
      "iteration 2 witness:  5\n",
      "iteration 3 witness:  10\n",
      "iteration 4 witness:  25\n",
      "iteration 5 witness:  125\n",
      "iteration 6 witness:  100\n",
      "iteration 7 witness:  1250\n",
      "Iteration: 0, coeff: 1, point: (2007103093081813766129105587839348153647609275923832116616944241119959949926, 2096930367711349711597323783877123072514796801464756395332460543597665076119)\n",
      "Iteration: 1, coeff: 97, point: (1498339796778307471365624041433540006436600402203263068984044382637138627232, 16602075090262163391842937953477689188383027283447549643521873518378054630844)\n",
      "Iteration: 0, coeff: 5, point: (3105394042392028091006678147035271410126137499506258560597207370160586153422, 4975659184191176520960875954395952154279507714769779022572903275474405399622)\n",
      "Iteration: 1, coeff: 10, point: (5469507903858466987981420700078173472202739331512182257164535989464840481173, 10778601429035076164368616131778487282564774552652255238638437197189124686427)\n",
      "Iteration: 2, coeff: 25, point: (2141779991695175893126705397706683433383796298116773934577406882717181126114, 11464512254018357452934957088916697358343897658215408207230123605121399014315)\n",
      "Iteration: 3, coeff: 125, point: (6300917389277582963522139221161875580841814245872479853845713494168407204402, 9113513414603065448923103630098548087463328771449545261681541408332404797817)\n",
      "Iteration: 4, coeff: 100, point: (14272123054654457709936604042122767711746368495379248511670154852957621272879, 5390793356463663377023184148570679692566494850099183968889446432602329490088)\n",
      "Iteration: 5, coeff: 1250, point: (5696558760368837183730439749604956717054133920325761838481969308315262649820, 21106254049790012129268185506563618115375906507777454037101440294696718720086)\n"
     ]
    }
   ],
   "source": [
    "# separate public and private inputs\n",
    "# for i in range(len(powers_of_tau_C_G1)):\n",
    "#     print(powers_of_tau_C_G1[i])\n",
    "# print(\"----\")\n",
    "# public input\n",
    "public_witness_length = 2\n",
    "public_input = []\n",
    "for i in range(public_witness_length):\n",
    "    print(\"iteration\", i, \"witness: \", witness[i])\n",
    "    u_eval_tau_i_beta = beta * U_vector_of_poly_x[i](tau)\n",
    "    v_eval_tau_i_alpha = alpha * V_vector_of_poly_x[i](tau)\n",
    "    w_eval_tau_i = W_vector_of_poly_x[i](tau)\n",
    "    public_input.append(multiply(G1, int(u_eval_tau_i_beta + v_eval_tau_i_alpha + w_eval_tau_i)))\n",
    "\n",
    "print(\"----\")\n",
    "# we now have 2 points representing Bui, Avi, Wvi. Let's squash the witness in and add to 1 point\n",
    "public_input_w_witness = reduce(add,(multiply(point, int(coeff)) for point, coeff in zip(public_input, witness[:public_witness_length])), Z1)\n",
    "\n",
    "private_input = []\n",
    "for i in range(public_witness_length,len(witness)):\n",
    "    print(\"iteration\", i, \"witness: \", witness[i])\n",
    "    u_eval_tau_i_beta = beta * U_vector_of_poly_x[i](tau)\n",
    "    v_eval_tau_i_alpha = alpha * V_vector_of_poly_x[i](tau)\n",
    "    w_eval_tau_i = W_vector_of_poly_x[i](tau)\n",
    "    private_input.append(multiply(G1, int(u_eval_tau_i_beta + v_eval_tau_i_alpha + w_eval_tau_i)))\n",
    "\n",
    "# private_input_w_witness = reduce(add,(multiply(point, int(coeff)) for point, coeff in zip(private_input, witness[public_witness_length:])), Z1)\n",
    "\n",
    "# def log_iterations(powers, coeffs):\n",
    "#     for i, (point, coeff) in enumerate(zip(powers, coeffs)):\n",
    "#         print(f\"Iteration: {i}, coeff: {coeff}, point: {point}\")\n",
    "#         yield multiply(point, int(coeff))\n",
    "\n",
    "# private_input_w_witness3 = reduce(add, log_iterations(public_input, witness[:public_witness_length]), Z1)\n",
    "# private_input_w_witness2 = reduce(add, log_iterations(private_input, witness[public_witness_length:]), Z1)\n",
    "\n",
    "# print(private_input_w_witness)\n",
    "# print(private_input_w_witness2)\n",
    "# print(private_input_w_witness3)\n",
    "# Cprime = reduce(add, (multiply(point, int(coeff)) for point, coeff in zip(powers_of_tau_C_G1, witness)), Z1)\n",
    "# C_new = add(Cprime, ht_tau)"
   ]
  },
  {
   "cell_type": "code",
   "execution_count": 130,
   "metadata": {},
   "outputs": [
    {
     "name": "stdout",
     "output_type": "stream",
     "text": [
      "not verified\n"
     ]
    }
   ],
   "source": [
    "# Introducing Gamma, Delta\n",
    "gamma = GF(4)\n",
    "delta = GF(5)\n",
    "gamma_inv = np.reciprocal(gamma)\n",
    "delta_inv = np.reciprocal(delta)\n",
    "\n",
    "GammaG2 = multiply(G2, int(gamma))\n",
    "DeltaG2 = multiply(G2, int(delta))\n",
    "\n",
    "# powers of tau for public input from i = 0 to i = 1 for the 0, 1 pos of [1,out,x,y,...] \n",
    "public_witness_length = 2\n",
    "\n",
    "\n",
    "# public\n",
    "public_powers_of_tau_G1 = [multiply(point, int(gamma_inv)) for point in powers_of_tau_C_G1[:public_witness_length]]\n",
    "gamma_pairing = reduce(add, (multiply(point, int(coeff)) for point, coeff in zip(public_powers_of_tau_G1, witness[0:public_witness_length])), Z1)\n",
    "\n",
    "\n",
    "# private\n",
    "private_powers_of_tau_G1 = [multiply(point, int(delta_inv)) for point in powers_of_tau_C_G1[public_witness_length+1:len(witness)]]\n",
    "Cprime_delta = reduce(add, (multiply(point, int(coeff)) for point, coeff in zip(private_powers_of_tau_G1, witness[public_witness_length:len(witness)])), Z1)\n",
    "\n",
    "#ht_tau is from i = 0 -> m. Needs to change to l -> m\n",
    "delta_ht_tau = multiply(ht_tau, int(delta_inv))\n",
    "C_prime_new = add(Cprime_delta, ht_tau)\n",
    "C_new = add(Cprime, ht_tau)\n",
    "\n",
    "lhs = pairing(B_new, A_new)\n",
    "rhs_1 = pairing(BetaG2,AlphaG1)\n",
    "rhs_2 = pairing(GammaG2, gamma_pairing)\n",
    "rhs_3 = pairing(DeltaG2, C_prime_new)\n",
    "rhs = rhs_1 * rhs_2 * rhs_3\n",
    "\n",
    "if eq(lhs, rhs):\n",
    "    print(\"verified\")\n",
    "else:\n",
    "    print(\"not verified\")"
   ]
  },
  {
   "cell_type": "code",
   "execution_count": null,
   "metadata": {},
   "outputs": [],
   "source": []
  }
 ],
 "metadata": {
  "kernelspec": {
   "display_name": "base",
   "language": "python",
   "name": "python3"
  },
  "language_info": {
   "codemirror_mode": {
    "name": "ipython",
    "version": 3
   },
   "file_extension": ".py",
   "mimetype": "text/x-python",
   "name": "python",
   "nbconvert_exporter": "python",
   "pygments_lexer": "ipython3",
   "version": "3.11.5"
  }
 },
 "nbformat": 4,
 "nbformat_minor": 2
}
