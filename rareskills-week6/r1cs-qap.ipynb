{
 "cells": [
  {
   "cell_type": "markdown",
   "metadata": {},
   "source": [
    "# R1CS with Integers"
   ]
  },
  {
   "cell_type": "code",
   "execution_count": 1,
   "metadata": {},
   "outputs": [],
   "source": [
    "import numpy as np\n",
    "\n",
    "# 1, out, x, y, v1, v2, v3\n",
    "L = np.array([\n",
    "    [0, 0, 1, 0, 0, 0, 0],\n",
    "    [0, 0, 0, 0, 1, 0, 0],\n",
    "    [0, 0, 0, -5, 0, 0, 0],\n",
    "    [0, 0, 0, 0, 0, 0, 1],\n",
    "])\n",
    "\n",
    "R = np.array([\n",
    "    [0, 0, 1, 0, 0, 0, 0],\n",
    "    [0, 0, 0, 0, 1, 0, 0],\n",
    "    [0, 0, 0, 1, 0, 0, 0],\n",
    "    [0, 0, 0, 0, 1, 0, 0],\n",
    "])\n",
    "\n",
    "O = np.array([\n",
    "    [0, 0, 0, 0, 1, 0, 0],\n",
    "    [0, 0, 0, 0, 0, 1, 0],\n",
    "    [0, 0, 0, 0, 0, 0, 1],\n",
    "    [0, 1, 0, 0, 0, -1, 0],\n",
    "])\n",
    "\n",
    "x = 4\n",
    "y = -2\n",
    "v1 = x * x\n",
    "v2 = v1 * v1         # x^4\n",
    "v3 = -5*y * y\n",
    "out = v3*v1 + v2    # -5y^2 * x^2\n",
    "\n",
    "witness = np.array([1, out, x, y, v1, v2, v3])\n",
    "\n",
    "assert all(np.equal(np.matmul(L, witness) * np.matmul(R, witness), np.matmul(O, witness))), \"not equal\"\n",
    "\n",
    "result = O.dot(witness) == np.multiply(L.dot(witness), R.dot(witness))\n",
    "assert result.all(), \"result contains inequality\""
   ]
  },
  {
   "cell_type": "markdown",
   "metadata": {},
   "source": [
    "# R1CS in Finite Field aka Galois Field using Galois library"
   ]
  },
  {
   "cell_type": "code",
   "execution_count": 2,
   "metadata": {},
   "outputs": [
    {
     "name": "stdout",
     "output_type": "stream",
     "text": [
      "1\n"
     ]
    }
   ],
   "source": [
    "# building intuition\n",
    "import galois\n",
    "\n",
    "GF = galois.GF(79)\n",
    "\n",
    "a = GF(70)\n",
    "b = GF(10)\n",
    "\n",
    "print(a + b)\n",
    "# prints 1"
   ]
  },
  {
   "cell_type": "code",
   "execution_count": 3,
   "metadata": {},
   "outputs": [],
   "source": [
    "# change the matrix values for finite field arithmetic\n",
    "L = np.array([\n",
    "    [0, 0, 1, 0, 0, 0, 0],\n",
    "    [0, 0, 0, 0, 1, 0, 0],\n",
    "    [0, 0, 0, 74, 0, 0, 0],\n",
    "    [0, 0, 0, 0, 0, 0, 1],\n",
    "])\n",
    "\n",
    "R = np.array([\n",
    "    [0, 0, 1, 0, 0, 0, 0],\n",
    "    [0, 0, 0, 0, 1, 0, 0],\n",
    "    [0, 0, 0, 1, 0, 0, 0],\n",
    "    [0, 0, 0, 0, 1, 0, 0],\n",
    "])\n",
    "\n",
    "O = np.array([\n",
    "    [0, 0, 0, 0, 1, 0, 0],\n",
    "    [0, 0, 0, 0, 0, 1, 0],\n",
    "    [0, 0, 0, 0, 0, 0, 1],\n",
    "    [0, 1, 0, 0, 0, 78, 0],\n",
    "])\n",
    "\n",
    "L_galois = GF(L)\n",
    "R_galois = GF(R)\n",
    "O_galois = GF(O)\n",
    "\n",
    "x = GF(4)\n",
    "y = GF(79-2)\n",
    "v1 = x * x\n",
    "v2 = v1 * v1         # x^4\n",
    "v3 = GF(79-5)*y * y\n",
    "out = v3*v1 + v2    # -5y^2 * x^2\n",
    "\n",
    "witness = GF(np.array([1, out, x, y, v1, v2, v3]))\n",
    "\n",
    "result = O_galois.dot(witness) == np.multiply(L_galois.dot(witness), R_galois.dot(witness))\n",
    "assert result.all(), \"result contains inequality\""
   ]
  },
  {
   "cell_type": "markdown",
   "metadata": {},
   "source": [
    "## Polynomial Interpolation $O(n)$ constraints $\\rightarrow$ $O(1)$\n",
    "1. Turn each column into a list of polynomials for every row.\n",
    "2. Given we have 4 columns, we need 4 arbitrary points to evaluate the Vector -> Polynomial homomorphism. Chose 1,2,3,4 or 0,1,2,3 or any 4 points\n",
    "\n",
    "    ```python\n",
    "    L = np.array([\n",
    "        [0, 0, 1, 0,  0, 0, 0],\n",
    "        [0, 0, 0, 0,  1, 0, 0],\n",
    "        [0, 0, 0, 74, 0, 0, 0],\n",
    "        [0, 0, 0, 0,  0, 0, 1],\n",
    "    ])\n",
    "    ```\n",
    "- first column [0,0,0,0] should evaluate to 0\n",
    "- second column should evaluate to 0\n",
    "- third column [1,0,0,0] shouldn't"
   ]
  },
  {
   "cell_type": "code",
   "execution_count": 12,
   "metadata": {},
   "outputs": [
    {
     "name": "stdout",
     "output_type": "stream",
     "text": [
      "13x^3 + 41x^2 + 22x + 4\n",
      "13x^3 + x^2 + 64x + 1\n"
     ]
    }
   ],
   "source": [
    "print(galois.lagrange_poly(GF([1,2,3,4]),GF([1,0,0,0])))\n",
    "# 13x^3 + 41x^2 + 22x + 4\n",
    "\n",
    "print(galois.lagrange_poly(GF([0,1,2,3]),GF([1,0,0,0])))\n",
    "# 13x^3 + x^2 + 64x + 1"
   ]
  },
  {
   "cell_type": "markdown",
   "metadata": {},
   "source": [
    "We can now interpolate all columns in the L matrix"
   ]
  },
  {
   "cell_type": "code",
   "execution_count": 14,
   "metadata": {},
   "outputs": [
    {
     "name": "stdout",
     "output_type": "stream",
     "text": [
      "13x^3 + 41x^2 + 22x + 4\n",
      "42x^3 + 22x^2 + 35x + 59\n",
      "40x^3 + 75x^2 + 49x + 73\n",
      "66x^3 + 78x^2 + 15x + 78\n"
     ]
    }
   ],
   "source": [
    "# print(galois.lagrange_poly(GF([1,2,3,4]),GF([0,0,0,0])))\n",
    "# print(galois.lagrange_poly(GF([1,2,3,4]),GF([0,0,0,0])))\n",
    "print(galois.lagrange_poly(GF([1,2,3,4]),GF([1,0,0,0])))\n",
    "print(galois.lagrange_poly(GF([1,2,3,4]),GF([0,0,74,0])))\n",
    "print(galois.lagrange_poly(GF([1,2,3,4]),GF([0,1,0,0])))\n",
    "# print(galois.lagrange_poly(GF([1,2,3,4]),GF([0,0,0,0])))\n",
    "print(galois.lagrange_poly(GF([1,2,3,4]),GF([0,0,0,1])))"
   ]
  },
  {
   "cell_type": "code",
   "execution_count": 25,
   "metadata": {},
   "outputs": [
    {
     "name": "stdout",
     "output_type": "stream",
     "text": [
      "[Poly(0, GF(79)) Poly(0, GF(79)) Poly(13x^3 + 41x^2 + 22x + 4, GF(79))\n",
      " Poly(42x^3 + 22x^2 + 35x + 59, GF(79))\n",
      " Poly(40x^3 + 75x^2 + 49x + 73, GF(79)) Poly(0, GF(79))\n",
      " Poly(66x^3 + 78x^2 + 15x + 78, GF(79))]\n",
      "[Poly(0, GF(79)) Poly(0, GF(79)) Poly(13x^3 + 41x^2 + 22x + 4, GF(79))\n",
      " Poly(39x^3 + 43x^2 + 72x + 4, GF(79))\n",
      " Poly(27x^3 + 74x^2 + 64x + 72, GF(79)) Poly(0, GF(79)) Poly(0, GF(79))]\n",
      "[Poly(0, GF(79)) Poly(66x^3 + 78x^2 + 15x + 78, GF(79)) Poly(0, GF(79))\n",
      " Poly(0, GF(79)) Poly(13x^3 + 41x^2 + 22x + 4, GF(79))\n",
      " Poly(53x^3 + 76x^2 + 34x + 74, GF(79))\n",
      " Poly(39x^3 + 43x^2 + 72x + 4, GF(79))]\n",
      "[ 1 15  4 77 16 19 59]\n"
     ]
    }
   ],
   "source": [
    "# done with code\n",
    "def interpolate_column(col):\n",
    "    xs = GF(np.array([1,2,3,4]))\n",
    "    return galois.lagrange_poly(xs, col)\n",
    "\n",
    "# axis 0 is the columns. apply_along_axis is the same as doing a for loop over the columns and collecting the results in an array\n",
    "U_polys = np.apply_along_axis(interpolate_column, 0, L_galois)\n",
    "V_polys = np.apply_along_axis(interpolate_column, 0, R_galois)\n",
    "W_polys = np.apply_along_axis(interpolate_column, 0, O_galois)\n",
    "print(U_polys)\n",
    "print(V_polys)\n",
    "print(W_polys)\n",
    "print(witness)"
   ]
  },
  {
   "cell_type": "code",
   "execution_count": 26,
   "metadata": {},
   "outputs": [
    {
     "name": "stdout",
     "output_type": "stream",
     "text": [
      "78x^3 + 76x^2 + 28x + 59\n",
      "11x^3 + 77x^2 + 20x + 54\n",
      "3x^3 + 40x^2 + 20x + 32\n",
      "[ 1 15  4 77 16 19 59]\n"
     ]
    }
   ],
   "source": [
    "from functools import reduce\n",
    "def inner_product_polynomials_with_witness(polys, witness):\n",
    "    mul_ = lambda x, y: x * y\n",
    "    sum_ = lambda x, y: x + y\n",
    "    return reduce(sum_, map(mul_, polys, witness))\n",
    "\n",
    "term_1 = inner_product_polynomials_with_witness(U_polys, witness)\n",
    "term_2 = inner_product_polynomials_with_witness(V_polys, witness)\n",
    "term_3 = inner_product_polynomials_with_witness(W_polys, witness)\n",
    "print(term_1)\n",
    "print(term_2)\n",
    "print(term_3)\n",
    "print(witness)"
   ]
  }
 ],
 "metadata": {
  "kernelspec": {
   "display_name": "base",
   "language": "python",
   "name": "python3"
  },
  "language_info": {
   "codemirror_mode": {
    "name": "ipython",
    "version": 3
   },
   "file_extension": ".py",
   "mimetype": "text/x-python",
   "name": "python",
   "nbconvert_exporter": "python",
   "pygments_lexer": "ipython3",
   "version": "3.11.5"
  }
 },
 "nbformat": 4,
 "nbformat_minor": 2
}
