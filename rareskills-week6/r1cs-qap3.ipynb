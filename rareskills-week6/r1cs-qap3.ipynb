{
 "cells": [
  {
   "cell_type": "markdown",
   "metadata": {},
   "source": [
    "$y = x^3 + 2x^2y -5xy^2 -3y +2$"
   ]
  },
  {
   "cell_type": "markdown",
   "metadata": {},
   "source": [
    "Step 1. R1CS real numbers to test"
   ]
  },
  {
   "cell_type": "code",
   "execution_count": 31,
   "metadata": {},
   "outputs": [
    {
     "name": "stdout",
     "output_type": "stream",
     "text": [
      "1 97 5 10 25 125 100 1250\n"
     ]
    }
   ],
   "source": [
    "import numpy as np\n",
    "import random\n",
    "x = 5#random.randint(1,10)\n",
    "y = 10#random.randint(1,15)\n",
    "\n",
    "v1 = x * x\n",
    "v2 = v1 * x\n",
    "v3 = y * y\n",
    "v4 = v2 * y\n",
    "out = v2 + 2 * v4 - 5 * x * v3 - 3 * y + 2\n",
    "print(1,out,x,y,v1,v2,v3,v4)\n",
    "\n",
    "L = np.array([\n",
    "    [0,0,1,0,0,0,0,0],\n",
    "    [0,0,0,0,1,0,0,0],\n",
    "    [0,0,0,1,0,0,0,0],\n",
    "    [0,0,0,0,0,1,0,0],\n",
    "    [0,0,-5,0,0,0,0,0]\n",
    "    ])\n",
    "\n",
    "R = np.array([\n",
    "    [0,0,1,0,0,0,0,0],\n",
    "    [0,0,1,0,0,0,0,0],\n",
    "    [0,0,0,1,0,0,0,0],\n",
    "    [0,0,0,1,0,0,0,0],\n",
    "    [0,0,0,0,0,0,1,0]\n",
    "    ])\n",
    "\n",
    "O = np.array([\n",
    "    [0,0,0,0,1,0,0,0],\n",
    "    [0,0,0,0,0,1,0,0],\n",
    "    [0,0,0,0,0,0,1,0],\n",
    "    [0,0,0,0,0,0,0,1],\n",
    "    [-2,1,0,3,0,-1,0,-2]\n",
    "    ])\n",
    "\n",
    "w = np.array([1,out,x,y,v1,v2,v3,v4])\n",
    "\n",
    "# assert all(np.multiply(np.dot(L,w), np.dot(R,w)) == np.dot(O,w)), \"result contains an inequality\"\n",
    "result = O.dot(w) == np.multiply(L.dot(w),R.dot(w))\n",
    "assert result.all(), \"result contains an inequality\""
   ]
  },
  {
   "cell_type": "markdown",
   "metadata": {},
   "source": [
    "Step 2. R1CS over Finite Field"
   ]
  },
  {
   "cell_type": "code",
   "execution_count": 104,
   "metadata": {},
   "outputs": [
    {
     "name": "stdout",
     "output_type": "stream",
     "text": [
      "1 97 5 10 25 12 100 7\n"
     ]
    }
   ],
   "source": [
    "import galois\n",
    "GF = galois.GF(113)\n",
    "x = GF(5)#random.randint(1,10)\n",
    "y = GF(10)#random.randint(1,15)\n",
    "\n",
    "v1 = x * x\n",
    "v2 = v1 * x\n",
    "v3 = y * y\n",
    "v4 = v2 * y\n",
    "out = v2 + GF(2) * v4 - GF(5) * x * v3 - GF(3) * y + GF(2)\n",
    "print(1,out,x,y,v1,v2,v3,v4)\n",
    "\n",
    "Lgf = GF(np.array([\n",
    "    [0,0,1,0,0,0,0,0],\n",
    "    [0,0,0,0,1,0,0,0],\n",
    "    [0,0,0,1,0,0,0,0],\n",
    "    [0,0,0,0,0,1,0,0],\n",
    "    [0,0,108,0,0,0,0,0] # 113 - 5 = 108\n",
    "    ]))\n",
    "\n",
    "Rgf = GF(np.array([\n",
    "    [0,0,1,0,0,0,0,0],\n",
    "    [0,0,1,0,0,0,0,0],\n",
    "    [0,0,0,1,0,0,0,0],\n",
    "    [0,0,0,1,0,0,0,0],\n",
    "    [0,0,0,0,0,0,1,0]\n",
    "    ]))\n",
    "\n",
    "Ogf = GF(np.array([\n",
    "    [0,0,0,0,1,0,0,0],\n",
    "    [0,0,0,0,0,1,0,0],\n",
    "    [0,0,0,0,0,0,1,0],\n",
    "    [0,0,0,0,0,0,0,1],\n",
    "    [111,1,0,3,0,GF(112),0,GF(111)] # 113 - 2 = 111\n",
    "    ]))\n",
    "\n",
    "wgf = GF(np.array([GF(1),out,x,y,v1,v2,v3,v4]))\n",
    "\n",
    "# assert all(np.multiply(np.dot(L,w), np.dot(R,w)) == np.dot(O,w)), \"result contains an inequality\"\n",
    "result = Ogf.dot(wgf) == np.multiply(Lgf.dot(wgf),Rgf.dot(wgf))\n",
    "assert result.all(), \"result contains an inequality\"\n"
   ]
  },
  {
   "cell_type": "markdown",
   "metadata": {},
   "source": [
    "Step 3. Interpolate columns. "
   ]
  },
  {
   "cell_type": "code",
   "execution_count": 106,
   "metadata": {},
   "outputs": [
    {
     "name": "stdout",
     "output_type": "stream",
     "text": [
      "[Poly(0, GF(113)) Poly(0, GF(113))\n",
      " Poly(94x^4 + 58x^3 + 71x^2 + 4x, GF(113))\n",
      " Poly(85x^4 + 110x^3 + 97x^2 + 37x + 10, GF(113))\n",
      " Poly(94x^4 + 21x^3 + 9x^2 + 112x + 103, GF(113))\n",
      " Poly(94x^4 + 96x^3 + 12x^2 + 29x + 108, GF(113)) Poly(0, GF(113))\n",
      " Poly(0, GF(113))]\n"
     ]
    }
   ],
   "source": [
    "target_poly = GF(np.array([1,2,3,4,5]))\n",
    "# for each column in the matrix, compute the lagrange polynomial, resulting in a vector of polynomials\n",
    "def interpolate_columns(column):\n",
    "    return galois.lagrange_poly(target_poly,column)\n",
    "\n",
    "L_vector_of_poly = np.apply_along_axis(interpolate_columns, 0, Lgf)\n",
    "R_vector_of_poly = np.apply_along_axis(interpolate_columns, 0, Rgf)\n",
    "O_vector_of_poly = np.apply_along_axis(interpolate_columns, 0, Ogf)\n",
    "print(L_vector_of_poly)"
   ]
  },
  {
   "cell_type": "markdown",
   "metadata": {},
   "source": [
    "Step 4. Reduce m polynomials to 1 by Inner Product of Vector of Polynomials with Witness Vector"
   ]
  },
  {
   "cell_type": "code",
   "execution_count": 120,
   "metadata": {},
   "outputs": [
    {
     "name": "stdout",
     "output_type": "stream",
     "text": [
      "[ 52  16 112  35  16]\n",
      "[75 77 95 85 12]\n",
      "[27 22 91 59 52]\n",
      "      8        7             6             5             4\n",
      "3900 x + 5204 x + 1.457e+04 x + 1.719e+04 x + 1.652e+04 x\n",
      "              3        2\n",
      " + 1.427e+04 x + 5839 x + 1780 x + 192\n",
      "   4      3      2\n",
      "1 x - 10 x + 35 x - 50 x + 24\n"
     ]
    },
    {
     "ename": "TypeError",
     "evalue": "unsupported operand type(s) for //: 'poly1d' and 'poly1d'",
     "output_type": "error",
     "traceback": [
      "\u001b[0;31m---------------------------------------------------------------------------\u001b[0m",
      "\u001b[0;31mTypeError\u001b[0m                                 Traceback (most recent call last)",
      "\u001b[1;32m/Users/spolgar/Documents/projects/research/rareskills-week6/r1cs-qap3.ipynb Cell 9\u001b[0m line \u001b[0;36m2\n\u001b[1;32m     <a href='vscode-notebook-cell:/Users/spolgar/Documents/projects/research/rareskills-week6/r1cs-qap3.ipynb#X14sZmlsZQ%3D%3D?line=22'>23</a>\u001b[0m t \u001b[39m=\u001b[39m poly1d([\u001b[39m1\u001b[39m, \u001b[39m-\u001b[39m\u001b[39m1\u001b[39m])\u001b[39m*\u001b[39mpoly1d([\u001b[39m1\u001b[39m, \u001b[39m-\u001b[39m\u001b[39m2\u001b[39m])\u001b[39m*\u001b[39mpoly1d([\u001b[39m1\u001b[39m, \u001b[39m-\u001b[39m\u001b[39m3\u001b[39m])\u001b[39m*\u001b[39mpoly1d([\u001b[39m1\u001b[39m, \u001b[39m-\u001b[39m\u001b[39m4\u001b[39m])\n\u001b[1;32m     <a href='vscode-notebook-cell:/Users/spolgar/Documents/projects/research/rareskills-week6/r1cs-qap3.ipynb#X14sZmlsZQ%3D%3D?line=23'>24</a>\u001b[0m \u001b[39mprint\u001b[39m(t)\n\u001b[0;32m---> <a href='vscode-notebook-cell:/Users/spolgar/Documents/projects/research/rareskills-week6/r1cs-qap3.ipynb#X14sZmlsZQ%3D%3D?line=24'>25</a>\u001b[0m \u001b[39mprint\u001b[39m((u\u001b[39m*\u001b[39mv\u001b[39m-\u001b[39m w) \u001b[39m/\u001b[39m\u001b[39m/\u001b[39m t)\n",
      "\u001b[0;31mTypeError\u001b[0m: unsupported operand type(s) for //: 'poly1d' and 'poly1d'"
     ]
    }
   ],
   "source": [
    "def reduce_polynomials_to_1(vector_of_poly, witness):\n",
    "    sum = GF(0)\n",
    "    for i in range(len(vector_of_poly)):\n",
    "        sum += vector_of_poly[i]*witness[i]\n",
    "    return sum\n",
    "\n",
    "Ux = reduce_polynomials_to_1(L_vector_of_poly,wgf)\n",
    "Vx = reduce_polynomials_to_1(R_vector_of_poly,wgf)\n",
    "Wx = reduce_polynomials_to_1(O_vector_of_poly,wgf)\n",
    "UxCoeffs = Ux.coeffs\n",
    "VxCoeffs = Vx.coeffs\n",
    "WxCoeffs = Wx.coeffs\n",
    "print(UxCoeffs)\n",
    "print(VxCoeffs)\n",
    "print(WxCoeffs)\n",
    "\n",
    "from numpy import poly1d\n",
    "u = poly1d([ 52,  16, 112,  35,  16])\n",
    "v = poly1d([75, 77, 95, 85, 12])\n",
    "w = poly1d([27, 22, 91, 59, 52])\n",
    "print(u *v)\n",
    "\n",
    "t = poly1d([1, -1])*poly1d([1, -2])*poly1d([1, -3])*poly1d([1, -4])\n",
    "print(t)\n",
    "print((u*v- w) // t)"
   ]
  },
  {
   "cell_type": "markdown",
   "metadata": {},
   "source": [
    "We now have 3 polynomials, U(x), V(x), W(x), i.e. U(x) = sum of L's polynomials inner product with the witness.  \n",
    "U(x) is a direct representation of the Matrix Vector combination from R1CS.  \n",
    "This is our Quadratic Arithmetic Program."
   ]
  },
  {
   "cell_type": "markdown",
   "metadata": {},
   "source": [
    "Notation in G16 paper shows  \n",
    "$(U \\cdot a)$  as     $\\sum_{i=0}^m a_iu_i(X)$\n",
    "- $m$ is the height of the matrix and also length of the witness\n",
    "- $u_i$ is the polynomial output from lagrange interpolation $<u_1,u_2,..>$\n",
    "- $a_i$ is the witness $<a_1,a_2,..>$"
   ]
  },
  {
   "cell_type": "markdown",
   "metadata": {},
   "source": [
    "$(U \\cdot a)\\odot(V \\cdot a) = (W \\cdot a)$"
   ]
  },
  {
   "cell_type": "markdown",
   "metadata": {},
   "source": [
    "$(U \\cdot a) =  52x^4 + 16x^3 + 112x^2 + 35x + 16$ is a degree 4 polynomial  \n",
    "$(V \\cdot a) =  75x^4 + 77x^3 + 95x^2 + 85x + 12$ is a degree 4 polynomial  \n",
    "$(W \\cdot a) =  27x^4 + 22x^3 + 91x^2 + 59x + 52$ is a degree 4 polynomial  \n",
    "Therefore, need to fix W to accomodate the max degree (U * V = 4 + 4 = degree 8)"
   ]
  },
  {
   "cell_type": "markdown",
   "metadata": {},
   "source": [
    "$(U \\cdot a)\\odot(V \\cdot a) = (W \\cdot a)$  = unbalanced  \n",
    "$(U \\cdot a)\\odot(V \\cdot a) = (W \\cdot a) \\square (something) $ == balanced  \n",
    "solution  \n",
    "$(U \\cdot a)\\odot(V \\cdot a) = (W \\cdot a) + 0$"
   ]
  },
  {
   "cell_type": "markdown",
   "metadata": {},
   "source": [
    "What is something that can balance it?\n",
    "A polynomial that interpolates $y=0$ at each x. \n",
    "\n",
    "$(x-1)(x-2)(x-3)(x-4)$ \n",
    "\n",
    "$target \\, polynomial =$ $24x^4 -50x^3  + 35x^2 -10x + 1$"
   ]
  },
  {
   "cell_type": "code",
   "execution_count": 92,
   "metadata": {},
   "outputs": [
    {
     "name": "stdout",
     "output_type": "stream",
     "text": [
      "[ 24. -50.  35. -10.   1.]\n"
     ]
    }
   ],
   "source": [
    "print(np.polynomial.polynomial.polyfromroots([1,2,3,4]))\n",
    "# 24x^4 -50x^3  + 35x^2 -10x + 1"
   ]
  },
  {
   "cell_type": "markdown",
   "metadata": {},
   "source": [
    "Is the target polynomial enough to balance it?  (U·a)(V·a) = (W·a) + t(x)"
   ]
  },
  {
   "cell_type": "markdown",
   "metadata": {},
   "source": [
    "Step 5. Balancing the QAP with $h(X)t(X)$ i.e. $(U \\cdot a)\\odot(V \\cdot a) = (W \\cdot a) + h(X)t(X)$"
   ]
  },
  {
   "cell_type": "code",
   "execution_count": 135,
   "metadata": {},
   "outputs": [
    {
     "name": "stdout",
     "output_type": "stream",
     "text": [
      "Tx: x^4 + 103x^3 + 35x^2 + 63x + 24\n",
      "Hx:  58x^4 + 21x^3 + 96x^2 + 87x + 100\n",
      "UxVx    :  58x^8 + 6x^7 + 108x^6 + 13x^5 + 21x^4 + 31x^3 + 76x^2 + 85x + 79\n",
      "Wx + Hx*Tx 58x^8 + 6x^7 + 108x^6 + 13x^5 + 21x^4 + 31x^3 + 76x^2 + 85x + 79\n"
     ]
    }
   ],
   "source": [
    "# (UxVx - Wx) / Tx = Hx\n",
    "UxVx = Ux*Vx\n",
    "Tx = galois.Poly(np.flip(np.polynomial.polynomial.polyfromroots([1,2,3,4])),  field=GF)\n",
    "Hx = ((Ux*Vx) - Wx) // Tx \n",
    "print(\"Tx:\",Tx)\n",
    "print(\"Hx: \", Hx)\n",
    "print(\"UxVx    : \",UxVx)\n",
    "print(\"Wx + Hx*Tx\",((Hx*Tx) + Wx))"
   ]
  },
  {
   "cell_type": "markdown",
   "metadata": {},
   "source": [
    "Step 6. Schwartz-Zippel Lemma\n",
    "2 polynomials are likely to be the same if they evaluate to the same result given a random x"
   ]
  },
  {
   "cell_type": "code",
   "execution_count": 93,
   "metadata": {},
   "outputs": [
    {
     "name": "stdout",
     "output_type": "stream",
     "text": [
      "24872529\n",
      "24870256\n"
     ]
    }
   ],
   "source": [
    "poly_1 = UxVx\n",
    "poly_2 = Wx + (Hx * Tx)\n",
    "print(np.polyval(poly_1.coeffs,5))\n",
    "print(np.polyval(poly_2.coeffs,5))\n",
    "\n",
    "# print(np.polyval(poly_1,5))\n",
    "# np.polyval(poly_2,5)\n",
    "# print(poly_1)\n",
    "# print(poly_2)"
   ]
  },
  {
   "cell_type": "code",
   "execution_count": 128,
   "metadata": {},
   "outputs": [
    {
     "name": "stdout",
     "output_type": "stream",
     "text": [
      "[1, 103, 35, 63, 24]\n",
      "[-5.450760e+06  5.973051e+06 -5.394140e+05  1.734800e+04 -2.260000e+02\n",
      "  1.000000e+00]\n"
     ]
    }
   ],
   "source": [
    "field_size = 113\n",
    "\n",
    "def multiply_polynomials(poly1, poly2):\n",
    "    result = [0] * (len(poly1) + len(poly2) - 1)\n",
    "    \n",
    "    for i in range(len(poly1)):\n",
    "        for j in range(len(poly2)):\n",
    "            result[i + j] += poly1[i] * poly2[j]\n",
    "            result[i + j] %= field_size\n",
    "    \n",
    "    return result\n",
    "\n",
    "poly_x_minus_1 = [1, -1]\n",
    "poly_x_minus_2 = [1, -2]\n",
    "poly_x_minus_3 = [1, -3]\n",
    "poly_x_minus_4 = [1, -4]\n",
    "\n",
    "result_poly = [1]  # Initialize with 1 as the multiplicative identity in a field\n",
    "\n",
    "result_poly = multiply_polynomials(result_poly, poly_x_minus_1)\n",
    "result_poly = multiply_polynomials(result_poly, poly_x_minus_2)\n",
    "result_poly = multiply_polynomials(result_poly, poly_x_minus_3)\n",
    "result_poly = multiply_polynomials(result_poly, poly_x_minus_4)\n",
    "\n",
    "print(result_poly)\n",
    "print(np.polynomial.polynomial.polyfromroots(result_poly))"
   ]
  },
  {
   "cell_type": "code",
   "execution_count": null,
   "metadata": {},
   "outputs": [],
   "source": []
  }
 ],
 "metadata": {
  "kernelspec": {
   "display_name": "base",
   "language": "python",
   "name": "python3"
  },
  "language_info": {
   "codemirror_mode": {
    "name": "ipython",
    "version": 3
   },
   "file_extension": ".py",
   "mimetype": "text/x-python",
   "name": "python",
   "nbconvert_exporter": "python",
   "pygments_lexer": "ipython3",
   "version": "3.11.5"
  }
 },
 "nbformat": 4,
 "nbformat_minor": 2
}
