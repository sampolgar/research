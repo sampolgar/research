{
 "cells": [
  {
   "cell_type": "markdown",
   "metadata": {},
   "source": [
    "$y = x^3 + 2x^2y -5xy^2 -3y +2$"
   ]
  },
  {
   "cell_type": "markdown",
   "metadata": {},
   "source": [
    "Step 1. R1CS real numbers to test"
   ]
  },
  {
   "cell_type": "code",
   "execution_count": 31,
   "metadata": {},
   "outputs": [
    {
     "name": "stdout",
     "output_type": "stream",
     "text": [
      "1 97 5 10 25 125 100 1250\n"
     ]
    }
   ],
   "source": [
    "import numpy as np\n",
    "import random\n",
    "x = 5#random.randint(1,10)\n",
    "y = 10#random.randint(1,15)\n",
    "\n",
    "v1 = x * x\n",
    "v2 = v1 * x\n",
    "v3 = y * y\n",
    "v4 = v2 * y\n",
    "out = v2 + 2 * v4 - 5 * x * v3 - 3 * y + 2\n",
    "print(1,out,x,y,v1,v2,v3,v4)\n",
    "\n",
    "L = np.array([\n",
    "    [0,0,1,0,0,0,0,0],\n",
    "    [0,0,0,0,1,0,0,0],\n",
    "    [0,0,0,1,0,0,0,0],\n",
    "    [0,0,0,0,0,1,0,0],\n",
    "    [0,0,-5,0,0,0,0,0]\n",
    "    ])\n",
    "\n",
    "R = np.array([\n",
    "    [0,0,1,0,0,0,0,0],\n",
    "    [0,0,1,0,0,0,0,0],\n",
    "    [0,0,0,1,0,0,0,0],\n",
    "    [0,0,0,1,0,0,0,0],\n",
    "    [0,0,0,0,0,0,1,0]\n",
    "    ])\n",
    "\n",
    "O = np.array([\n",
    "    [0,0,0,0,1,0,0,0],\n",
    "    [0,0,0,0,0,1,0,0],\n",
    "    [0,0,0,0,0,0,1,0],\n",
    "    [0,0,0,0,0,0,0,1],\n",
    "    [-2,1,0,3,0,-1,0,-2]\n",
    "    ])\n",
    "\n",
    "w = np.array([1,out,x,y,v1,v2,v3,v4])\n",
    "\n",
    "# assert all(np.multiply(np.dot(L,w), np.dot(R,w)) == np.dot(O,w)), \"result contains an inequality\"\n",
    "result = O.dot(w) == np.multiply(L.dot(w),R.dot(w))\n",
    "assert result.all(), \"result contains an inequality\""
   ]
  },
  {
   "cell_type": "markdown",
   "metadata": {},
   "source": [
    "Step 2. R1CS over Finite Field"
   ]
  },
  {
   "cell_type": "code",
   "execution_count": 36,
   "metadata": {},
   "outputs": [
    {
     "name": "stdout",
     "output_type": "stream",
     "text": [
      "1 97 5 10 25 12 100 7\n"
     ]
    }
   ],
   "source": [
    "import galois\n",
    "GF = galois.GF(113)\n",
    "x = GF(5)#random.randint(1,10)\n",
    "y = GF(10)#random.randint(1,15)\n",
    "\n",
    "v1 = x * x\n",
    "v2 = v1 * x\n",
    "v3 = y * y\n",
    "v4 = v2 * y\n",
    "out = v2 + GF(2) * v4 - GF(5) * x * v3 - GF(3) * y + GF(2)\n",
    "print(1,out,x,y,v1,v2,v3,v4)\n",
    "\n",
    "Lgf = GF(np.array([\n",
    "    [0,0,1,0,0,0,0,0],\n",
    "    [0,0,0,0,1,0,0,0],\n",
    "    [0,0,0,1,0,0,0,0],\n",
    "    [0,0,0,0,0,1,0,0],\n",
    "    [0,0,108,0,0,0,0,0] # 113 - 5 = 108\n",
    "    ]))\n",
    "\n",
    "Rgf = GF(np.array([\n",
    "    [0,0,1,0,0,0,0,0],\n",
    "    [0,0,1,0,0,0,0,0],\n",
    "    [0,0,0,1,0,0,0,0],\n",
    "    [0,0,0,1,0,0,0,0],\n",
    "    [0,0,0,0,0,0,1,0]\n",
    "    ]))\n",
    "\n",
    "Ogf = GF(np.array([\n",
    "    [0,0,0,0,1,0,0,0],\n",
    "    [0,0,0,0,0,1,0,0],\n",
    "    [0,0,0,0,0,0,1,0],\n",
    "    [0,0,0,0,0,0,0,1],\n",
    "    [111,1,0,3,0,GF(112),0,GF(111)] # 113 - 2 = 111\n",
    "    ]))\n",
    "\n",
    "wgf = GF(np.array([GF(1),out,x,y,v1,v2,v3,v4]))\n",
    "\n",
    "# assert all(np.multiply(np.dot(L,w), np.dot(R,w)) == np.dot(O,w)), \"result contains an inequality\"\n",
    "result = Ogf.dot(wgf) == np.multiply(Lgf.dot(wgf),Rgf.dot(wgf))\n",
    "assert result.all(), \"result contains an inequality\"\n"
   ]
  },
  {
   "cell_type": "markdown",
   "metadata": {},
   "source": [
    "Step 3. Interpolate columns. "
   ]
  },
  {
   "cell_type": "code",
   "execution_count": 39,
   "metadata": {},
   "outputs": [
    {
     "name": "stdout",
     "output_type": "stream",
     "text": [
      "[Poly(0, GF(113)) Poly(0, GF(113))\n",
      " Poly(94x^4 + 58x^3 + 71x^2 + 4x, GF(113))\n",
      " Poly(85x^4 + 110x^3 + 97x^2 + 37x + 10, GF(113))\n",
      " Poly(94x^4 + 21x^3 + 9x^2 + 112x + 103, GF(113))\n",
      " Poly(94x^4 + 96x^3 + 12x^2 + 29x + 108, GF(113)) Poly(0, GF(113))\n",
      " Poly(0, GF(113))]\n"
     ]
    }
   ],
   "source": [
    "target_poly = GF(np.array([1,2,3,4,5]))\n",
    "# for each column in the matrix, compute the lagrange polynomial, resulting in a vector of polynomials\n",
    "def interpolate_columns(column):\n",
    "    return galois.lagrange_poly(target_poly,column)\n",
    "\n",
    "L_vector_of_poly = np.apply_along_axis(interpolate_columns, 0, Lgf)\n",
    "R_vector_of_poly = np.apply_along_axis(interpolate_columns, 0, Rgf)\n",
    "O_vector_of_poly = np.apply_along_axis(interpolate_columns, 0, Ogf)\n",
    "# print(L_vector_of_poly)"
   ]
  },
  {
   "cell_type": "code",
   "execution_count": null,
   "metadata": {},
   "outputs": [],
   "source": []
  }
 ],
 "metadata": {
  "kernelspec": {
   "display_name": "base",
   "language": "python",
   "name": "python3"
  },
  "language_info": {
   "codemirror_mode": {
    "name": "ipython",
    "version": 3
   },
   "file_extension": ".py",
   "mimetype": "text/x-python",
   "name": "python",
   "nbconvert_exporter": "python",
   "pygments_lexer": "ipython3",
   "version": "3.11.5"
  }
 },
 "nbformat": 4,
 "nbformat_minor": 2
}
