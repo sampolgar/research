{
 "cells": [
  {
   "cell_type": "markdown",
   "metadata": {},
   "source": [
    "# Problem 2: $y = 3x^2y + 5xy - x -2y + 3$"
   ]
  },
  {
   "cell_type": "code",
   "execution_count": 2,
   "metadata": {},
   "outputs": [
    {
     "name": "stdout",
     "output_type": "stream",
     "text": [
      "211325421 422 394 534252 210495288\n"
     ]
    }
   ],
   "source": [
    "import numpy as np\n",
    "import random\n",
    "\n",
    "\n",
    "L = np.array([[ 0,0,3,0,0,0],\n",
    "               [0,0,0,0,1,0],\n",
    "               [0,0,1,0,0,0]])\n",
    "\n",
    "R = np.array([[ 0,0,1,0,0,0],\n",
    "               [0,0,0,1,0,0],\n",
    "               [0,0,0,5,0,0]])\n",
    "\n",
    "O = np.array([[  0,0,0,0,1, 0],\n",
    "               [ 0,0,0,0,0, 1],\n",
    "               [-3,1,1,2,0,-1]])\n",
    "\n",
    "x = random.randint(1,1000)\n",
    "y = random.randint(1,1000)\n",
    "\n",
    "# this is our orignal formula\n",
    "out = 3 * x * x * y + 5 * x * y - x- 2*y + 3# the witness vector with the intermediate variables inside\n",
    "v1 = 3*x*x\n",
    "v2 = v1 * y\n",
    "w = np.array([1, out, x, y, v1, v2])\n",
    "\n",
    "result = O.dot(w) == np.multiply(L.dot(w),R.dot(w))\n",
    "assert result.all(), \"result contains an inequality\""
   ]
  },
  {
   "cell_type": "code",
   "execution_count": 31,
   "metadata": {},
   "outputs": [
    {
     "name": "stdout",
     "output_type": "stream",
     "text": [
      "74\n"
     ]
    }
   ],
   "source": [
    "import galois\n",
    "GF = galois.GF(113)\n",
    "\n",
    "L_ = np.array([[0,0,3,0,0,0],\n",
    "               [0,0,0,0,1,0],\n",
    "               [0,0,1,0,0,0]])\n",
    "\n",
    "R_ = np.array([[0,0,1,0,0,0],\n",
    "               [0,0,0,1,0,0],\n",
    "               [0,0,0,5,0,0]])\n",
    "\n",
    "O_ = np.array([[    0,0,0,0,1, 0],\n",
    "               [    0,0,0,0,0, 1],\n",
    "               [113-3,1,1,2,0, 113-1]])\n",
    "\n",
    "x = GF(random.randint(1,112))\n",
    "y = GF(random.randint(1,112))\n",
    "\n",
    "# out = 3 * x * x * y + 5 * x * y - x- 2 * y + 3# the witness vector with the intermediate variables inside\n",
    "v1 = x * x\n",
    "v2 = v1 * y\n",
    "GF(out) == GF(3) * v2 + GF(5) * x * y - x - GF(2) * y + GF(3) # out = 3 * x * x * y + 5 * x * y - x- 2 * y + 3\n",
    "print(out)\n",
    "witness = GF(np.array([1, out, x, y, v1, v2]))\n",
    "\n",
    "Lgf = GF(L_)\n",
    "Rgf = GF(R_)\n",
    "Ogf = GF(O_)"
   ]
  },
  {
   "cell_type": "code",
   "execution_count": 24,
   "metadata": {},
   "outputs": [
    {
     "name": "stdout",
     "output_type": "stream",
     "text": [
      "[Poly(2x^2 + 104x + 10, GF(113)), Poly(112x^2 + 4x + 110, GF(113))]\n"
     ]
    }
   ],
   "source": [
    "L_Polys = [galois.lagrange_poly(GF([1,2,3]),GF([3,0,1])),galois.lagrange_poly(GF([1,2,3]),GF([0,1,0]))]\n",
    "print(L_Polys)"
   ]
  },
  {
   "cell_type": "code",
   "execution_count": 32,
   "metadata": {},
   "outputs": [
    {
     "name": "stdout",
     "output_type": "stream",
     "text": [
      "[Poly(2x^2 + 104x + 10, GF(113)), Poly(112x^2 + 4x + 110, GF(113))]\n",
      "41x^2 + 61x + 14\n",
      "[ 1 74 47 36 62 85]\n"
     ]
    }
   ],
   "source": [
    "from functools import reduce\n",
    "def inner_product_polynomials_with_witness(polys, witness):\n",
    "    mul_ = lambda x, y: x * y\n",
    "    sum_ = lambda x, y: x + y\n",
    "    return reduce(sum_, map(mul_, polys, witness))\n",
    "\n",
    "\n",
    "term_1 = inner_product_polynomials_with_witness(L_Polys, witness)\n",
    "print(L_Polys)\n",
    "print(term_1)\n",
    "print(witness)"
   ]
  },
  {
   "cell_type": "code",
   "execution_count": 8,
   "metadata": {},
   "outputs": [
    {
     "data": {
      "text/plain": [
       "{a: -1, b: 4, c: -3}"
      ]
     },
     "execution_count": 8,
     "metadata": {},
     "output_type": "execute_result"
    }
   ],
   "source": [
    "from sympy import symbols, Eq, solve\n",
    "\n",
    "# Define the symbols\n",
    "a, b, c = symbols('a b c')\n",
    "\n",
    "# Define the equations based on the points\n",
    "eq1 = Eq(a * 1**2 + b * 1 + c, 0)\n",
    "eq2 = Eq(a * 2**2 + b * 2 + c, 1)\n",
    "eq3 = Eq(a * 3**2 + b * 3 + c, 0)\n",
    "\n",
    "# Solve the system of equations\n",
    "solution = solve((eq1, eq2, eq3), (a, b, c))\n",
    "solution"
   ]
  },
  {
   "cell_type": "code",
   "execution_count": 34,
   "metadata": {},
   "outputs": [
    {
     "name": "stdout",
     "output_type": "stream",
     "text": [
      "   2\n",
      "9 x + 4 x - 6\n",
      "    3      2\n",
      "36 x + 34 x - 16 x - 12\n"
     ]
    }
   ],
   "source": [
    "from numpy import poly1d\n",
    "\n",
    "p1 = poly1d([9, 4, -6])\n",
    "p2 = poly1d([4, 2])\n",
    "print(p1)\n",
    "print(p1 * p2)\n",
    "# 36 x^3 + 34 x^2 - 16 x - 12"
   ]
  },
  {
   "cell_type": "code",
   "execution_count": null,
   "metadata": {},
   "outputs": [],
   "source": []
  }
 ],
 "metadata": {
  "kernelspec": {
   "display_name": "base",
   "language": "python",
   "name": "python3"
  },
  "language_info": {
   "codemirror_mode": {
    "name": "ipython",
    "version": 3
   },
   "file_extension": ".py",
   "mimetype": "text/x-python",
   "name": "python",
   "nbconvert_exporter": "python",
   "pygments_lexer": "ipython3",
   "version": "3.11.5"
  }
 },
 "nbformat": 4,
 "nbformat_minor": 2
}
