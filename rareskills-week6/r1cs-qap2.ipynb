{
 "cells": [
  {
   "cell_type": "markdown",
   "metadata": {},
   "source": [
    "# Problem 2: $y = 3x^2y + 5xy - x -2y + 3$"
   ]
  },
  {
   "cell_type": "code",
   "execution_count": 2,
   "metadata": {},
   "outputs": [
    {
     "name": "stdout",
     "output_type": "stream",
     "text": [
      "211325421 422 394 534252 210495288\n"
     ]
    }
   ],
   "source": [
    "import numpy as np\n",
    "import random\n",
    "\n",
    "\n",
    "L = np.array([[ 0,0,3,0,0,0],\n",
    "               [0,0,0,0,1,0],\n",
    "               [0,0,1,0,0,0]])\n",
    "\n",
    "R = np.array([[ 0,0,1,0,0,0],\n",
    "               [0,0,0,1,0,0],\n",
    "               [0,0,0,5,0,0]])\n",
    "\n",
    "O = np.array([[  0,0,0,0,1, 0],\n",
    "               [ 0,0,0,0,0, 1],\n",
    "               [-3,1,1,2,0,-1]])\n",
    "\n",
    "x = random.randint(1,1000)\n",
    "y = random.randint(1,1000)\n",
    "\n",
    "# this is our orignal formula\n",
    "out = 3 * x * x * y + 5 * x * y - x- 2*y + 3# the witness vector with the intermediate variables inside\n",
    "v1 = 3*x*x\n",
    "v2 = v1 * y\n",
    "w = np.array([1, out, x, y, v1, v2])\n",
    "\n",
    "result = O.dot(w) == np.multiply(L.dot(w),R.dot(w))\n",
    "assert result.all(), \"result contains an inequality\""
   ]
  },
  {
   "cell_type": "code",
   "execution_count": 13,
   "metadata": {},
   "outputs": [
    {
     "name": "stdout",
     "output_type": "stream",
     "text": [
      "105\n",
      "[[0 0 3 0 0 0]\n",
      " [0 0 0 0 1 0]\n",
      " [0 0 1 0 0 0]]\n"
     ]
    }
   ],
   "source": [
    "import galois\n",
    "import numpy as np\n",
    "import random\n",
    "GF = galois.GF(113)\n",
    "\n",
    "L_ = np.array([[0,0,3,0,0,0],\n",
    "               [0,0,0,0,1,0],\n",
    "               [0,0,1,0,0,0]])\n",
    "\n",
    "R_ = np.array([[0,0,1,0,0,0],\n",
    "               [0,0,0,1,0,0],\n",
    "               [0,0,0,5,0,0]])\n",
    "\n",
    "O_ = np.array([[    0,0,0,0,1, 0],\n",
    "               [    0,0,0,0,0, 1],\n",
    "               [113-3,1,1,2,0, 113-1]])\n",
    "\n",
    "x = GF(random.randint(1,112))\n",
    "y = GF(random.randint(1,112))\n",
    "\n",
    "# out = 3 * x * x * y + 5 * x * y - x- 2 * y + 3# the witness vector with the intermediate variables inside\n",
    "v1 = x * x\n",
    "v2 = v1 * y\n",
    "out = GF(3) * v2 + GF(5) * x * y - x - GF(2) * y + GF(3) # out = 3 * x * x * y + 5 * x * y - x- 2 * y + 3\n",
    "out = GF(out)\n",
    "print(out)\n",
    "witness = GF(np.array([1, out, x, y, v1, v2]))\n",
    "\n",
    "Lgf = GF(L_)\n",
    "Rgf = GF(R_)\n",
    "Ogf = GF(O_)\n",
    "print(Lgf)"
   ]
  },
  {
   "cell_type": "code",
   "execution_count": 12,
   "metadata": {},
   "outputs": [
    {
     "name": "stdout",
     "output_type": "stream",
     "text": [
      "[Poly(0, GF(113)) Poly(0, GF(113)) Poly(2x^2 + 104x + 10, GF(113))\n",
      " Poly(0, GF(113)) Poly(112x^2 + 4x + 110, GF(113)) Poly(0, GF(113))]\n"
     ]
    }
   ],
   "source": [
    "# interpolate each matrix column at x=1, x=2, x=3. This gives us the polynomials\n",
    "# galois.lagrange_poly takes 2 GFarray input. [1,2,3] and [f(1),f(2),f(3)]\n",
    "target = GF(np.array([1,2,3]))\n",
    "def interpolate_columns(column):\n",
    "    return galois.lagrange_poly(target, column)\n",
    "\n",
    "Lpoly = np.apply_along_axis(interpolate_columns, 0, Lgf)\n",
    "Rpoly = np.apply_along_axis(interpolate_columns, 0, Rgf)\n",
    "Opoly = np.apply_along_axis(interpolate_columns, 0, Ogf)\n",
    "\n",
    "print(Lpoly)\n"
   ]
  },
  {
   "cell_type": "markdown",
   "metadata": {},
   "source": [
    "### We now interpolate each column of the L matrix by selecting x values 1,2,3 arbitrarily\n",
    "```\n",
    "L Matrix\n",
    "[0 0 3 0 0 0]\n",
    "[0 0 0 0 1 0]\n",
    "[0 0 1 0 0 0]\n",
    "```\n",
    "\n",
    "### Create equation for points on the curve\n",
    "```\n",
    "[0,0,0] = (1,0),(2,0),(3,0) = 0\n",
    "[0,0,0] = (1,0),(2,0),(3,0) = 0\n",
    "[3,0,1] = (1,3),(2,0),(3,1)\n",
    "[0,0,0] = (1,0),(2,0),(3,0) = 0\n",
    "[0,1,0] = (1,0),(2,1),(3,0)\n",
    "[0,0,0] = (1,0),(2,0),(3,0) = 0\n",
    "```\n",
    "\n",
    "For \n",
    "[3,0,1] = (1,3),(2,0),(3,1)  \n",
    "3 points = degree 2 quadratic i.e. $y = ax^2 + bx + c$ that passes through these points  \n",
    "First point (1,3):   $f(1) = a(1)^2 + b(1) + c = 3$  \n",
    "Second point (2,0):  $f(2) = a(1)^2 + b(1) + c = 0$  \n",
    "Third point (3,1):   $f(3) = a(1)^2 + b(1) + c = 1$  \n",
    "\n",
    "Line equation is $2x^2 -9x + 10$ which in Galois Field is $2x^2 +(104)x + 10$  \n",
    "\n",
    "Repeat for all columns. Here is the result  \n",
    "```\n",
    "Poly(0, GF(113)) \n",
    "Poly(0, GF(113)) \n",
    "Poly(2x^2 + 104x + 10, GF(113))\n",
    "Poly(0, GF(113)) \n",
    "Poly(112x^2 + 4x + 110, GF(113)) \n",
    "Poly(0, GF(113))\n",
    "```\n",
    "\n",
    "We can now Hadamard Product the polynomials with the witness vector [1, out, x, y, v1, v2]  \n",
    "```\n",
    "1 * Poly(0, GF(113)) +                \n",
    "out * Poly(0, GF(113)) +                \n",
    "x * Poly(2x^2 + 104x + 10, GF(113)) +\n",
    "y * Poly(0, GF(113)) + \n",
    "v1 * Poly(112x^2 + 4x + 110, GF(113)) + \n",
    "v2 * Poly(0, GF(113))\n",
    "```\n",
    "i.e. $xValue * (2x^2 + 104x + 10)$ + $v1Value * (112x^2 + 4x + 110)$  \n",
    "\n",
    "Finally we have 1 polynomial representing the entire L matrix and witness"
   ]
  },
  {
   "cell_type": "code",
   "execution_count": 14,
   "metadata": {},
   "outputs": [
    {
     "data": {
      "text/plain": [
       "{a: 2, b: -9, c: 10}"
      ]
     },
     "execution_count": 14,
     "metadata": {},
     "output_type": "execute_result"
    }
   ],
   "source": [
    "from sympy import symbols, Eq, solve\n",
    "\n",
    "# Define the symbols\n",
    "a, b, c = symbols('a b c')\n",
    "\n",
    "# Define the equations based on the points\n",
    "eq1 = Eq(a * 1**2 + b * 1 + c, 3)\n",
    "eq2 = Eq(a * 2**2 + b * 2 + c, 0)\n",
    "eq3 = Eq(a * 3**2 + b * 3 + c, 1)\n",
    "\n",
    "# Solve the system of equations\n",
    "solution = solve((eq1, eq2, eq3), (a, b, c))\n",
    "solution # {a: 2, b: -9, c: 10}"
   ]
  },
  {
   "cell_type": "code",
   "execution_count": 11,
   "metadata": {},
   "outputs": [
    {
     "name": "stdout",
     "output_type": "stream",
     "text": [
      "51x^2 + 38x + 89\n",
      "68x^2 + 51x + 91\n",
      "60x^2 + 67x + 16\n"
     ]
    }
   ],
   "source": [
    "from functools import reduce\n",
    "def inner_product_polynomials_with_witness(polys, witness):\n",
    "    mul_ = lambda x, y: x * y\n",
    "    sum_ = lambda x, y: x + y\n",
    "    return reduce(sum_, map(mul_, polys, witness))\n",
    "\n",
    "term_1 = inner_product_polynomials_with_witness(Lpoly, witness)\n",
    "term_2 = inner_product_polynomials_with_witness(Rpoly, witness)\n",
    "term_3 = inner_product_polynomials_with_witness(Opoly, witness)\n",
    "\n",
    "print(term_1)\n",
    "print(term_2)\n",
    "print(term_3)"
   ]
  },
  {
   "cell_type": "code",
   "execution_count": 24,
   "metadata": {},
   "outputs": [
    {
     "name": "stdout",
     "output_type": "stream",
     "text": [
      "x^3 + 107x^2 + 11x + 107\n",
      "78x + 3\n",
      "78x^4 + 100x^3 + 49x^2 + 17x + 95\n",
      "78x^4 + 100x^3 + 88x^2 + 87x + 76\n",
      "78x^4 + 100x^3 + 109x^2 + 84x + 111\n"
     ]
    }
   ],
   "source": [
    "# t = (x-1)(x-2)(x-3)\n",
    "# h = (term_1 * term_2 - term_3) // t\n",
    "t = galois.Poly([1,112],field=GF) * galois.Poly([1,111],field=GF) * galois.Poly([1,110],field=GF)\n",
    "\n",
    "h = (term_1 * term_2 - term_3) // t\n",
    "\n",
    "print(t)\n",
    "print(h)\n",
    "print(h *t) # 78x^4 + 100x^3 + 49x^2 + 17x + 95\n",
    "print(term_1 * term_2)\n",
    "print(term_3 + h * t)\n",
    "\n",
    "# assert term_1 * term_2 == term_3 + h * t, \"division has a remainder\""
   ]
  },
  {
   "cell_type": "code",
   "execution_count": null,
   "metadata": {},
   "outputs": [],
   "source": []
  }
 ],
 "metadata": {
  "kernelspec": {
   "display_name": "base",
   "language": "python",
   "name": "python3"
  },
  "language_info": {
   "codemirror_mode": {
    "name": "ipython",
    "version": 3
   },
   "file_extension": ".py",
   "mimetype": "text/x-python",
   "name": "python",
   "nbconvert_exporter": "python",
   "pygments_lexer": "ipython3",
   "version": "3.11.5"
  }
 },
 "nbformat": 4,
 "nbformat_minor": 2
}
