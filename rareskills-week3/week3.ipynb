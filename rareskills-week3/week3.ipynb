{
 "cells": [
  {
   "cell_type": "code",
   "execution_count": 5,
   "metadata": {},
   "outputs": [],
   "source": [
    "# pip install web3 py-solc-x\n",
    "# pip install eth-tester\n",
    "# pip install --upgrade py-evm\n",
    "# pip install PyQtWebEngine\n",
    "\n",
    "from solcx import compile_standard\n",
    "from web3 import Web3"
   ]
  },
  {
   "cell_type": "code",
   "execution_count": 6,
   "metadata": {},
   "outputs": [
    {
     "ename": "ContextualVersionConflict",
     "evalue": "(mypy-extensions 0.4.3 (/Users/spolgar/anaconda3/lib/python3.11/site-packages), Requirement.parse('mypy-extensions>=1.0.0'), {'py-evm'})",
     "output_type": "error",
     "traceback": [
      "\u001b[0;31m---------------------------------------------------------------------------\u001b[0m",
      "\u001b[0;31mContextualVersionConflict\u001b[0m                 Traceback (most recent call last)",
      "\u001b[1;32m/Users/spolgar/Documents/projects/zk-path/rareskills-week3/week3.ipynb Cell 2\u001b[0m line \u001b[0;36m1\n\u001b[0;32m----> <a href='vscode-notebook-cell:/Users/spolgar/Documents/projects/zk-path/rareskills-week3/week3.ipynb#W1sZmlsZQ%3D%3D?line=0'>1</a>\u001b[0m w3 \u001b[39m=\u001b[39m Web3(Web3\u001b[39m.\u001b[39mEthereumTesterProvider())\n",
      "File \u001b[0;32m~/anaconda3/lib/python3.11/site-packages/web3/providers/eth_tester/main.py:107\u001b[0m, in \u001b[0;36mEthereumTesterProvider.__init__\u001b[0;34m(self, ethereum_tester, api_endpoints)\u001b[0m\n\u001b[1;32m    102\u001b[0m \u001b[39mfrom\u001b[39;00m \u001b[39meth_tester\u001b[39;00m\u001b[39m.\u001b[39;00m\u001b[39mbackends\u001b[39;00m\u001b[39m.\u001b[39;00m\u001b[39mbase\u001b[39;00m \u001b[39mimport\u001b[39;00m (\n\u001b[1;32m    103\u001b[0m     BaseChainBackend,\n\u001b[1;32m    104\u001b[0m )\n\u001b[1;32m    106\u001b[0m \u001b[39mif\u001b[39;00m ethereum_tester \u001b[39mis\u001b[39;00m \u001b[39mNone\u001b[39;00m:\n\u001b[0;32m--> 107\u001b[0m     \u001b[39mself\u001b[39m\u001b[39m.\u001b[39methereum_tester \u001b[39m=\u001b[39m EthereumTester()\n\u001b[1;32m    108\u001b[0m \u001b[39melif\u001b[39;00m \u001b[39misinstance\u001b[39m(ethereum_tester, EthereumTester):\n\u001b[1;32m    109\u001b[0m     \u001b[39mself\u001b[39m\u001b[39m.\u001b[39methereum_tester \u001b[39m=\u001b[39m ethereum_tester\n",
      "File \u001b[0;32m~/anaconda3/lib/python3.11/site-packages/eth_tester/main.py:121\u001b[0m, in \u001b[0;36mEthereumTester.__init__\u001b[0;34m(self, backend, validator, normalizer, auto_mine_transactions)\u001b[0m\n\u001b[1;32m    117\u001b[0m \u001b[39mdef\u001b[39;00m \u001b[39m__init__\u001b[39m(\n\u001b[1;32m    118\u001b[0m     \u001b[39mself\u001b[39m, backend\u001b[39m=\u001b[39m\u001b[39mNone\u001b[39;00m, validator\u001b[39m=\u001b[39m\u001b[39mNone\u001b[39;00m, normalizer\u001b[39m=\u001b[39m\u001b[39mNone\u001b[39;00m, auto_mine_transactions\u001b[39m=\u001b[39m\u001b[39mTrue\u001b[39;00m\n\u001b[1;32m    119\u001b[0m ):\n\u001b[1;32m    120\u001b[0m     \u001b[39mif\u001b[39;00m backend \u001b[39mis\u001b[39;00m \u001b[39mNone\u001b[39;00m:\n\u001b[0;32m--> 121\u001b[0m         backend \u001b[39m=\u001b[39m get_chain_backend()\n\u001b[1;32m    123\u001b[0m     \u001b[39mif\u001b[39;00m validator \u001b[39mis\u001b[39;00m \u001b[39mNone\u001b[39;00m:\n\u001b[1;32m    124\u001b[0m         validator \u001b[39m=\u001b[39m get_validator()\n",
      "File \u001b[0;32m~/anaconda3/lib/python3.11/site-packages/eth_tester/backends/__init__.py:46\u001b[0m, in \u001b[0;36mget_chain_backend\u001b[0;34m(backend_class)\u001b[0m\n\u001b[1;32m     44\u001b[0m \u001b[39mdef\u001b[39;00m \u001b[39mget_chain_backend\u001b[39m(backend_class\u001b[39m=\u001b[39m\u001b[39mNone\u001b[39;00m):\n\u001b[1;32m     45\u001b[0m     \u001b[39mif\u001b[39;00m backend_class \u001b[39mis\u001b[39;00m \u001b[39mNone\u001b[39;00m:\n\u001b[0;32m---> 46\u001b[0m         backend_class \u001b[39m=\u001b[39m get_chain_backend_class()\n\u001b[1;32m     47\u001b[0m     \u001b[39mreturn\u001b[39;00m backend_class()\n",
      "File \u001b[0;32m~/anaconda3/lib/python3.11/site-packages/eth_tester/backends/__init__.py:24\u001b[0m, in \u001b[0;36mget_chain_backend_class\u001b[0;34m(backend_import_path)\u001b[0m\n\u001b[1;32m     22\u001b[0m \u001b[39mif\u001b[39;00m \u001b[39m\"\u001b[39m\u001b[39mETHEREUM_TESTER_CHAIN_BACKEND\u001b[39m\u001b[39m\"\u001b[39m \u001b[39min\u001b[39;00m os\u001b[39m.\u001b[39menviron:\n\u001b[1;32m     23\u001b[0m     backend_import_path \u001b[39m=\u001b[39m os\u001b[39m.\u001b[39menviron[\u001b[39m\"\u001b[39m\u001b[39mETHEREUM_TESTER_CHAIN_BACKEND\u001b[39m\u001b[39m\"\u001b[39m]\n\u001b[0;32m---> 24\u001b[0m \u001b[39melif\u001b[39;00m is_supported_pyevm_version_available():\n\u001b[1;32m     25\u001b[0m     vi \u001b[39m=\u001b[39m sys\u001b[39m.\u001b[39mversion_info\n\u001b[1;32m     26\u001b[0m     \u001b[39mif\u001b[39;00m vi\u001b[39m.\u001b[39mmajor \u001b[39m!=\u001b[39m \u001b[39m3\u001b[39m \u001b[39mor\u001b[39;00m vi\u001b[39m.\u001b[39mminor \u001b[39m<\u001b[39m \u001b[39m5\u001b[39m:\n",
      "File \u001b[0;32m~/anaconda3/lib/python3.11/site-packages/eth_tester/backends/pyevm/utils.py:21\u001b[0m, in \u001b[0;36mis_supported_pyevm_version_available\u001b[0;34m()\u001b[0m\n\u001b[1;32m     20\u001b[0m \u001b[39mdef\u001b[39;00m \u001b[39mis_supported_pyevm_version_available\u001b[39m():\n\u001b[0;32m---> 21\u001b[0m     version \u001b[39m=\u001b[39m get_pyevm_version()\n\u001b[1;32m     22\u001b[0m     \u001b[39mreturn\u001b[39;00m version \u001b[39mand\u001b[39;00m version \u001b[39m>\u001b[39m\u001b[39m=\u001b[39m Version(\u001b[39m\"\u001b[39m\u001b[39m0.5.0\u001b[39m\u001b[39m\"\u001b[39m)\n",
      "File \u001b[0;32m~/anaconda3/lib/python3.11/site-packages/eth_tester/backends/pyevm/utils.py:13\u001b[0m, in \u001b[0;36mget_pyevm_version\u001b[0;34m()\u001b[0m\n\u001b[1;32m     10\u001b[0m \u001b[39mdef\u001b[39;00m \u001b[39mget_pyevm_version\u001b[39m():\n\u001b[1;32m     11\u001b[0m     \u001b[39mtry\u001b[39;00m:\n\u001b[1;32m     12\u001b[0m         base_version \u001b[39m=\u001b[39m pkg_resources\u001b[39m.\u001b[39mparse_version(\n\u001b[0;32m---> 13\u001b[0m             pkg_resources\u001b[39m.\u001b[39mget_distribution(\u001b[39m\"\u001b[39m\u001b[39mpy-evm\u001b[39m\u001b[39m\"\u001b[39m)\u001b[39m.\u001b[39mversion\n\u001b[1;32m     14\u001b[0m         )\u001b[39m.\u001b[39mbase_version\n\u001b[1;32m     15\u001b[0m         \u001b[39mreturn\u001b[39;00m Version(base_version)\n\u001b[1;32m     16\u001b[0m     \u001b[39mexcept\u001b[39;00m pkg_resources\u001b[39m.\u001b[39mDistributionNotFound:\n",
      "File \u001b[0;32m~/anaconda3/lib/python3.11/site-packages/pkg_resources/__init__.py:528\u001b[0m, in \u001b[0;36mget_distribution\u001b[0;34m(dist)\u001b[0m\n\u001b[1;32m    526\u001b[0m     dist \u001b[39m=\u001b[39m Requirement\u001b[39m.\u001b[39mparse(dist)\n\u001b[1;32m    527\u001b[0m \u001b[39mif\u001b[39;00m \u001b[39misinstance\u001b[39m(dist, Requirement):\n\u001b[0;32m--> 528\u001b[0m     dist \u001b[39m=\u001b[39m get_provider(dist)\n\u001b[1;32m    529\u001b[0m \u001b[39mif\u001b[39;00m \u001b[39mnot\u001b[39;00m \u001b[39misinstance\u001b[39m(dist, Distribution):\n\u001b[1;32m    530\u001b[0m     \u001b[39mraise\u001b[39;00m \u001b[39mTypeError\u001b[39;00m(\u001b[39m\"\u001b[39m\u001b[39mExpected string, Requirement, or Distribution\u001b[39m\u001b[39m\"\u001b[39m, dist)\n",
      "File \u001b[0;32m~/anaconda3/lib/python3.11/site-packages/pkg_resources/__init__.py:400\u001b[0m, in \u001b[0;36mget_provider\u001b[0;34m(moduleOrReq)\u001b[0m\n\u001b[1;32m    398\u001b[0m \u001b[39m\u001b[39m\u001b[39m\"\"\"Return an IResourceProvider for the named module or requirement\"\"\"\u001b[39;00m\n\u001b[1;32m    399\u001b[0m \u001b[39mif\u001b[39;00m \u001b[39misinstance\u001b[39m(moduleOrReq, Requirement):\n\u001b[0;32m--> 400\u001b[0m     \u001b[39mreturn\u001b[39;00m working_set\u001b[39m.\u001b[39mfind(moduleOrReq) \u001b[39mor\u001b[39;00m require(\u001b[39mstr\u001b[39m(moduleOrReq))[\u001b[39m0\u001b[39m]\n\u001b[1;32m    401\u001b[0m \u001b[39mtry\u001b[39;00m:\n\u001b[1;32m    402\u001b[0m     module \u001b[39m=\u001b[39m sys\u001b[39m.\u001b[39mmodules[moduleOrReq]\n",
      "File \u001b[0;32m~/anaconda3/lib/python3.11/site-packages/pkg_resources/__init__.py:968\u001b[0m, in \u001b[0;36mWorkingSet.require\u001b[0;34m(self, *requirements)\u001b[0m\n\u001b[1;32m    959\u001b[0m \u001b[39mdef\u001b[39;00m \u001b[39mrequire\u001b[39m(\u001b[39mself\u001b[39m, \u001b[39m*\u001b[39mrequirements):\n\u001b[1;32m    960\u001b[0m \u001b[39m    \u001b[39m\u001b[39m\"\"\"Ensure that distributions matching `requirements` are activated\u001b[39;00m\n\u001b[1;32m    961\u001b[0m \n\u001b[1;32m    962\u001b[0m \u001b[39m    `requirements` must be a string or a (possibly-nested) sequence\u001b[39;00m\n\u001b[0;32m   (...)\u001b[0m\n\u001b[1;32m    966\u001b[0m \u001b[39m    included, even if they were already activated in this working set.\u001b[39;00m\n\u001b[1;32m    967\u001b[0m \u001b[39m    \"\"\"\u001b[39;00m\n\u001b[0;32m--> 968\u001b[0m     needed \u001b[39m=\u001b[39m \u001b[39mself\u001b[39m\u001b[39m.\u001b[39mresolve(parse_requirements(requirements))\n\u001b[1;32m    970\u001b[0m     \u001b[39mfor\u001b[39;00m dist \u001b[39min\u001b[39;00m needed:\n\u001b[1;32m    971\u001b[0m         \u001b[39mself\u001b[39m\u001b[39m.\u001b[39madd(dist)\n",
      "File \u001b[0;32m~/anaconda3/lib/python3.11/site-packages/pkg_resources/__init__.py:829\u001b[0m, in \u001b[0;36mWorkingSet.resolve\u001b[0;34m(self, requirements, env, installer, replace_conflicting, extras)\u001b[0m\n\u001b[1;32m    826\u001b[0m \u001b[39mif\u001b[39;00m \u001b[39mnot\u001b[39;00m req_extras\u001b[39m.\u001b[39mmarkers_pass(req, extras):\n\u001b[1;32m    827\u001b[0m     \u001b[39mcontinue\u001b[39;00m\n\u001b[0;32m--> 829\u001b[0m dist \u001b[39m=\u001b[39m \u001b[39mself\u001b[39m\u001b[39m.\u001b[39m_resolve_dist(\n\u001b[1;32m    830\u001b[0m     req, best, replace_conflicting, env, installer, required_by, to_activate\n\u001b[1;32m    831\u001b[0m )\n\u001b[1;32m    833\u001b[0m \u001b[39m# push the new requirements onto the stack\u001b[39;00m\n\u001b[1;32m    834\u001b[0m new_requirements \u001b[39m=\u001b[39m dist\u001b[39m.\u001b[39mrequires(req\u001b[39m.\u001b[39mextras)[::\u001b[39m-\u001b[39m\u001b[39m1\u001b[39m]\n",
      "File \u001b[0;32m~/anaconda3/lib/python3.11/site-packages/pkg_resources/__init__.py:875\u001b[0m, in \u001b[0;36mWorkingSet._resolve_dist\u001b[0;34m(self, req, best, replace_conflicting, env, installer, required_by, to_activate)\u001b[0m\n\u001b[1;32m    872\u001b[0m \u001b[39mif\u001b[39;00m dist \u001b[39mnot\u001b[39;00m \u001b[39min\u001b[39;00m req:\n\u001b[1;32m    873\u001b[0m     \u001b[39m# Oops, the \"best\" so far conflicts with a dependency\u001b[39;00m\n\u001b[1;32m    874\u001b[0m     dependent_req \u001b[39m=\u001b[39m required_by[req]\n\u001b[0;32m--> 875\u001b[0m     \u001b[39mraise\u001b[39;00m VersionConflict(dist, req)\u001b[39m.\u001b[39mwith_context(dependent_req)\n\u001b[1;32m    876\u001b[0m \u001b[39mreturn\u001b[39;00m dist\n",
      "\u001b[0;31mContextualVersionConflict\u001b[0m: (mypy-extensions 0.4.3 (/Users/spolgar/anaconda3/lib/python3.11/site-packages), Requirement.parse('mypy-extensions>=1.0.0'), {'py-evm'})"
     ]
    }
   ],
   "source": [
    "w3 = Web3(Web3.EthereumTesterProvider())\n",
    "# from eth_tester import EthereumTester, PyEVMBackend"
   ]
  },
  {
   "cell_type": "code",
   "execution_count": null,
   "metadata": {},
   "outputs": [],
   "source": []
  }
 ],
 "metadata": {
  "kernelspec": {
   "display_name": "Python 3",
   "language": "python",
   "name": "python3"
  },
  "language_info": {
   "codemirror_mode": {
    "name": "ipython",
    "version": 3
   },
   "file_extension": ".py",
   "mimetype": "text/x-python",
   "name": "python",
   "nbconvert_exporter": "python",
   "pygments_lexer": "ipython3",
   "version": "3.11.4"
  },
  "orig_nbformat": 4
 },
 "nbformat": 4,
 "nbformat_minor": 2
}
