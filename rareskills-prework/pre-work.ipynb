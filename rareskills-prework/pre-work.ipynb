{
 "cells": [
  {
   "cell_type": "markdown",
   "id": "e2e9b44c",
   "metadata": {},
   "source": [
    "# Numpy warmup\n",
    "Make sure you have numpy installed."
   ]
  },
  {
   "cell_type": "code",
   "execution_count": 2,
   "id": "01753a08",
   "metadata": {
    "tags": []
   },
   "outputs": [
    {
     "name": "stdout",
     "output_type": "stream",
     "text": [
      "Requirement already satisfied: numpy in /Users/spol2078/anaconda3/lib/python3.11/site-packages (1.24.3)\r\n"
     ]
    }
   ],
   "source": [
    "!python -m pip install numpy````"
   ]
  },
  {
   "cell_type": "markdown",
   "id": "17250340",
   "metadata": {},
   "source": [
    "You might need to restart the notebook after running the command above"
   ]
  },
  {
   "cell_type": "code",
   "execution_count": 16,
   "id": "8866afe4",
   "metadata": {
    "tags": []
   },
   "outputs": [],
   "source": [
    "import numpy as np"
   ]
  },
  {
   "cell_type": "markdown",
   "id": "9e2c9e49",
   "metadata": {},
   "source": [
    "## Exercise 1, add two arrays together\n",
    "We have two arrays: A and B\n",
    "\n",
    "`A = [[1,2,3],[4,5,6],[7,8,9]]`\n",
    "\n",
    "`B = [[1,1,1],[2,2,2],[3,3,3]]`\n",
    "\n",
    "`C = [[2,3,4],[6,7,8],[10,11,12]]`\n",
    "\n",
    "Your code should work for general matrices, not just the ones above. Use `np.array`, not `np.matrix`. Your function will need to cast the above to np.arrays. If you get stuck ask chatGPT!"
   ]
  },
  {
   "cell_type": "code",
   "execution_count": 6,
   "id": "9cbe865f",
   "metadata": {},
   "outputs": [],
   "source": [
    "A = [[1,2,3],[4,5,6],[7,8,9]]\n",
    "B = [[1,1,1],[2,2,2],[3,3,3]]\n",
    "C = [[2,3,4],[6,7,8],[10,11,12]]"
   ]
  },
  {
   "cell_type": "code",
   "execution_count": 83,
   "id": "1ab01269",
   "metadata": {},
   "outputs": [],
   "source": [
    "def add_arrays(A, B):\n",
    "    C = []\n",
    "    for i in range(len(A)):\n",
    "        temp = []\n",
    "        C.append(temp)\n",
    "        for j in range(len(A[i])):\n",
    "            temp.append(A[i][j] + B[i][j])\n",
    "    return C"
   ]
  },
  {
   "cell_type": "code",
   "execution_count": 84,
   "id": "097983dc",
   "metadata": {},
   "outputs": [],
   "source": [
    "assert (add_arrays(A, B) == np.array(C)).all()"
   ]
  },
  {
   "cell_type": "markdown",
   "id": "f6f903e5",
   "metadata": {},
   "source": [
    "What does the `.all()` do? The above operation does an elementwise equality check. It checks that every item in the array is `True`."
   ]
  },
  {
   "cell_type": "code",
   "execution_count": 18,
   "id": "550e56d2",
   "metadata": {},
   "outputs": [
    {
     "name": "stdout",
     "output_type": "stream",
     "text": [
      "True\n",
      "False\n"
     ]
    }
   ],
   "source": [
    "print(np.array([True, True, True]).all())\n",
    "print(np.array([False, True, True]).all())"
   ]
  },
  {
   "cell_type": "markdown",
   "id": "49157f37",
   "metadata": {},
   "source": [
    "## Exercise 2, element-wise and matrix multiplication\n",
    "When dealing with numpy arrays, we need to be clear if we are doing matrix multiplication or elementwise multiplication.\n",
    "\n",
    "Your task is to write functions for both. Numpy supports both, figure out how it does it. Don't implement it manually"
   ]
  },
  {
   "cell_type": "markdown",
   "id": "a9a97d21",
   "metadata": {},
   "source": [
    "Elementwise = multiplying each element positiion with each other. "
   ]
  },
  {
   "cell_type": "code",
   "execution_count": null,
   "id": "c2982bc1",
   "metadata": {},
   "outputs": [],
   "source": [
    "def matrix_multiply(A, B):\n",
    "    return np.dot(A,B)"
   ]
  },
  {
   "cell_type": "code",
   "execution_count": 37,
   "id": "6c367224",
   "metadata": {},
   "outputs": [
    {
     "name": "stdout",
     "output_type": "stream",
     "text": [
      "[[ 0.  0.  0.  0.  0.]\n",
      " [ 0. 24.  0.  0.  0.]\n",
      " [ 0.  0. 48.  0.  0.]\n",
      " [ 0.  0.  0. 72.  0.]\n",
      " [ 0.  0.  0.  0. 96.]]\n",
      "gap\n",
      "[[ 0.  4.  8. 12. 16.]\n",
      " [20. 24. 28. 32. 36.]\n",
      " [40. 44. 48. 52. 56.]\n",
      " [60. 64. 68. 72. 76.]\n",
      " [80. 84. 88. 92. 96.]]\n",
      "gap\n",
      "[[ 0.  4.  8. 12. 16.]\n",
      " [20. 24. 28. 32. 36.]\n",
      " [40. 44. 48. 52. 56.]\n",
      " [60. 64. 68. 72. 76.]\n",
      " [80. 84. 88. 92. 96.]]\n"
     ]
    }
   ],
   "source": [
    "x, y = np.arange(0,50,2).reshape(5,5), 2*np.eye(5)\n",
    "print(np.multiply(x,y))\n",
    "print(\"gap\")\n",
    "print(np.dot(x,y))\n",
    "print(\"gap\")\n",
    "print(np.matmul(x,y))"
   ]
  },
  {
   "cell_type": "code",
   "execution_count": null,
   "id": "8dc13c41",
   "metadata": {},
   "outputs": [],
   "source": [
    "def element_wise_multiply(A, B):\n",
    "    return np.multiply(A,B)"
   ]
  },
  {
   "cell_type": "markdown",
   "id": "eca881d3",
   "metadata": {},
   "source": [
    "To avoid giving hints, we won't supply the test case here. But you can check your work online!"
   ]
  },
  {
   "cell_type": "markdown",
   "id": "96feaeb5",
   "metadata": {},
   "source": [
    "## Exercise 3, the dot product\n",
    "The dot product is another kind of multiplication.\n",
    "\n",
    "We expect [1,2,3,4] $\\cdot$ [1,2,3,4] to be equal (1 * 1) + (2 * 2) + (3 * 3) + (4 * 4) = 1 + 4 + 9 + 16 = 20\n",
    "\n",
    "Figure out numpy's implementation and do it. Don't implement it manually."
   ]
  },
  {
   "cell_type": "code",
   "execution_count": null,
   "id": "79d94f9d",
   "metadata": {},
   "outputs": [],
   "source": [
    "def dot_product(A, B):\n",
    "    return np.dot(A,B)"
   ]
  },
  {
   "cell_type": "code",
   "execution_count": 47,
   "id": "0df1b054",
   "metadata": {},
   "outputs": [
    {
     "name": "stdout",
     "output_type": "stream",
     "text": [
      "Product: [ 5 10 15 20 25]\n"
     ]
    }
   ],
   "source": [
    "# Vectors = Arrays in python\n",
    "vector_from_list = np.array([1, 2, 3, 4, 5])\n",
    "# print(\"Vector from list:\", vector_from_list)\n",
    "\n",
    "zero_vector = np.zeros(5)\n",
    "# print(\"Zero vector:\", zero_vector)\n",
    "\n",
    "ones_vector = np.ones(5)\n",
    "# print(\"Ones vector:\", ones_vector)\n",
    "\n",
    "range_vector = np.arange(0, 10, 2)  # Start, stop, step\n",
    "# print(\"Range vector:\", range_vector)\n",
    "\n",
    "# # Elementwise addition\n",
    "# sum_vector = vector_from_list + ones_vector\n",
    "# print(\"Sum:\", sum_vector)\n",
    "\n",
    "# # Elementwise subtraction\n",
    "# diff_vector = vector_from_list - ones_vector\n",
    "# print(\"Difference:\", diff_vector)\n",
    "\n",
    "# Elementwise multiplication\n",
    "product_vector = vector_from_list * 5\n",
    "print(\"Product:\", product_vector)"
   ]
  },
  {
   "cell_type": "markdown",
   "id": "d5d6b6eb",
   "metadata": {},
   "source": [
    "## Exercise 4, linear combinations\n",
    "\n",
    "A linear combination is a Vector multiplied by a constant plus another Vector multiplied by a constant.\n",
    "\n",
    "Aa + Bb = C (A, B, C are vectors, a and b are scalars)\n",
    "\n",
    "Compute the linear combination in the general case."
   ]
  },
  {
   "cell_type": "code",
   "execution_count": 4,
   "id": "6b7aefb5",
   "metadata": {},
   "outputs": [],
   "source": [
    "def linearCombination(A, B, a, b):\n",
    "    alinear = np.multiply(A,a)\n",
    "    blinear = np.multiply(B,b)\n",
    "    return alinear + blinear\n",
    "    pass"
   ]
  },
  {
   "cell_type": "code",
   "execution_count": 5,
   "id": "d3f6a236",
   "metadata": {},
   "outputs": [],
   "source": [
    "vector1 = np.array([1,2])\n",
    "vector2 = np.array([5,6])\n",
    "scalar1 = 3\n",
    "scalar2 = 10\n",
    "\n",
    "assert (np.array([53, 66]) == linearCombination(vector1, vector2, scalar1, scalar2)).all()"
   ]
  },
  {
   "cell_type": "markdown",
   "id": "9aef33f9",
   "metadata": {},
   "source": [
    "## Exercise 5, modular arithmetic\n",
    "Modular arithmetic is important in cryptography. The challenge here is to compute the modular inverse of 15 % 1223. \n",
    "\n",
    "That is 5 * x % 1223 == 1.\n",
    "\n",
    "The basic syntax for this is the same as other languages"
   ]
  },
  {
   "cell_type": "code",
   "execution_count": null,
   "id": "677158cf",
   "metadata": {},
   "outputs": [],
   "source": [
    "(5 * 16) % 1223"
   ]
  },
  {
   "cell_type": "code",
   "execution_count": null,
   "id": "45cb06b9",
   "metadata": {},
   "outputs": [],
   "source": [
    "(5 + 1219) % 1223"
   ]
  },
  {
   "cell_type": "markdown",
   "id": "65e93812",
   "metadata": {},
   "source": [
    "Be very careful, because the mod operator sometimes takes precedence!"
   ]
  },
  {
   "cell_type": "markdown",
   "id": "9bbe7483",
   "metadata": {},
   "source": [
    "Hint: Python 3.8 has a very nice way to do this"
   ]
  },
  {
   "cell_type": "code",
   "execution_count": 7,
   "id": "1af66df8",
   "metadata": {},
   "outputs": [
    {
     "name": "stdout",
     "output_type": "stream",
     "text": [
      "The modular multiplicative inverse of 5 modulo 1223 is: 734\n",
      "Verification successful: 5 * x % 1223 = 1\n"
     ]
    }
   ],
   "source": [
    "# Compute the modular multiplicative inverse of 5 modulo 1223\n",
    "x = pow(5, -1, 1223)\n",
    "\n",
    "# Print the result\n",
    "print(\"The modular multiplicative inverse of 5 modulo 1223 is:\", x)\n",
    "\n",
    "# Verify the result\n",
    "if (5 * x) % 1223 == 1:\n",
    "    print(\"Verification successful: 5 * x % 1223 = 1\")\n",
    "else:\n",
    "    print(\"Verification failed\")\n"
   ]
  },
  {
   "cell_type": "markdown",
   "id": "d434b6cd",
   "metadata": {},
   "source": [
    "## Exercise 6, Column and Row Slicing\n",
    "\n",
    "Numpy let's you select rows and columns from matrices. For example, given\n",
    "\n",
    "```\n",
    "[[1,2,3],\n",
    " [4,5,6],\n",
    " [7,8,9]] \n",
    "```\n",
    " \n",
    "you can retrive [2,5,8] or [7,8,9] conveniently. Implement those below:"
   ]
  },
  {
   "cell_type": "code",
   "execution_count": null,
   "id": "105440ef",
   "metadata": {},
   "outputs": [],
   "source": []
  },
  {
   "cell_type": "code",
   "execution_count": 63,
   "id": "399f2287",
   "metadata": {},
   "outputs": [],
   "source": [
    "def get_column_as_1d(A, col_number):\n",
    "    data = np.array(A)\n",
    "    return data[:, col_number:col_number+1]\n",
    "    pass\n",
    "\n",
    "def get_row_as_1d(A, row_number):\n",
    "    data = np.array(A)\n",
    "    return data[row_number:row_number+1]\n",
    "    pass"
   ]
  },
  {
   "cell_type": "code",
   "execution_count": 2,
   "id": "f59f1e4e",
   "metadata": {},
   "outputs": [],
   "source": [
    "A = [[1,2,3],[4,5,6],[7,8,9]] "
   ]
  },
  {
   "cell_type": "code",
   "execution_count": 64,
   "id": "2e611192",
   "metadata": {},
   "outputs": [
    {
     "name": "stdout",
     "output_type": "stream",
     "text": [
      "[[2]\n",
      " [5]\n",
      " [8]]\n"
     ]
    }
   ],
   "source": [
    "print(get_column_as_1d(A, 1)) # [2,5,8]"
   ]
  },
  {
   "cell_type": "code",
   "execution_count": 62,
   "id": "445ddc25",
   "metadata": {},
   "outputs": [
    {
     "name": "stdout",
     "output_type": "stream",
     "text": [
      "[[7 8 9]]\n"
     ]
    }
   ],
   "source": [
    "print(get_row_as_1d(A, 2)) # [7,8,9]"
   ]
  }
 ],
 "metadata": {
  "kernelspec": {
   "display_name": "Python 3 (ipykernel)",
   "language": "python",
   "name": "python3"
  },
  "language_info": {
   "codemirror_mode": {
    "name": "ipython",
    "version": 3
   },
   "file_extension": ".py",
   "mimetype": "text/x-python",
   "name": "python",
   "nbconvert_exporter": "python",
   "pygments_lexer": "ipython3",
   "version": "3.11.4"
  }
 },
 "nbformat": 4,
 "nbformat_minor": 5
}
