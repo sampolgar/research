{
 "cells": [
  {
   "cell_type": "markdown",
   "metadata": {},
   "source": [
    "let p = 7\n",
    "What generator points g are valid?"
   ]
  },
  {
   "cell_type": "code",
   "execution_count": 54,
   "metadata": {},
   "outputs": [
    {
     "name": "stdout",
     "output_type": "stream",
     "text": [
      "p: 97\n",
      "Primitive roots: [5, 7, 10, 13, 14, 15, 17, 21, 23, 26, 29, 37, 38, 39, 40, 41, 56, 57, 58, 59, 60, 68, 71, 74, 76, 80, 82, 83, 84, 87, 90, 92]\n",
      "Non-primitive roots: [1, 2, 3, 4, 6, 8, 9, 11, 12, 16, 18, 19, 20, 22, 24, 25, 27, 28, 30, 31, 32, 33, 34, 35, 36, 42, 43, 44, 45, 46, 47, 48, 49, 50, 51, 52, 53, 54, 55, 61, 62, 63, 64, 65, 66, 67, 69, 70, 72, 73, 75, 77, 78, 79, 81, 85, 86, 88, 89, 91, 93, 94, 95, 96]\n"
     ]
    }
   ],
   "source": [
    "def getG(p):\n",
    "    primitive_roots = []\n",
    "    non_primitive_roots = []\n",
    "    for g in range(1, p):\n",
    "        seen = set()\n",
    "        for exp in range(1, p):\n",
    "            Y = pow(g, exp, p)  # Calculate Y = g^exp mod p\n",
    "            if Y in seen:\n",
    "                non_primitive_roots.append(g)\n",
    "                break\n",
    "            seen.add(Y)\n",
    "        \n",
    "        if len(seen) == p - 1:\n",
    "            primitive_roots.append(g)\n",
    "    \n",
    "    return primitive_roots, non_primitive_roots\n",
    "\n",
    "p = 97\n",
    "print(\"p:\", p)\n",
    "# print(\"Values for g^x mod p:\")\n",
    "(primitive_roots, non_primitive_roots) = getG(p)\n",
    "print(\"Primitive roots:\", primitive_roots)\n",
    "print(\"Non-primitive roots:\", non_primitive_roots)"
   ]
  },
  {
   "cell_type": "code",
   "execution_count": 112,
   "metadata": {},
   "outputs": [
    {
     "name": "stdout",
     "output_type": "stream",
     "text": [
      "prime q: 97 ...generator g: 5 ...private witness: 3 ...public_h: 28\n",
      "prover generates random r and sends a = g^r mod q: 75\n",
      "verifier generates a challenge e: 68\n",
      "prover's response z: 276\n",
      "lhs: 47\n",
      "rhs: 47\n",
      "Verification successful!\n"
     ]
    }
   ],
   "source": [
    "import random\n",
    "\n",
    "def zero_knowledge_proof():\n",
    "    # Initialize constants\n",
    "    w = 3  # Prover's private witness\n",
    "    g = 5  # Generator\n",
    "    q = 97  # Prime number\n",
    "\n",
    "    # Prover generates \"public key\"\n",
    "    h = pow(g, w, q)  # h = g^w mod q\n",
    "    print(f\"prime q: {q} ...generator g: {g} ...private witness: {w} ...public_h: {h}\")\n",
    "\n",
    "    # Prover generates \"random r\"\n",
    "    r1 = random.randint(1, q-1)\n",
    "    a = pow(g, r1, q)  # a = g^r mod q\n",
    "    print(f\"prover generates random r and sends a = g^r mod q: {a}\")\n",
    "\n",
    "    # Verifier generates \"challenge\"\n",
    "    e = random.randint(1, q-1)\n",
    "    print(f\"verifier generates a challenge e: {e}\")\n",
    "\n",
    "    # Prover generates \"response\" for verifier\n",
    "    z = (r1 + e * w)\n",
    "    print(f\"prover's response z: {z}\")\n",
    "\n",
    "    # Verifier does equality check\n",
    "    lhs = pow(g, z, q)  # lhs = g^z mod q\n",
    "    rhs = (a * pow(h, e, q)) % q  # rhs = a * h^e mod qa\n",
    "\n",
    "    print(f\"lhs: {lhs}\")\n",
    "    print(f\"rhs: {rhs}\")\n",
    "\n",
    "    if lhs == rhs:\n",
    "        print(\"Verification successful!\")\n",
    "    else:\n",
    "        print(\"Verification failed!\")\n",
    "\n",
    "# Run the zero-knowledge proof\n",
    "zero_knowledge_proof()\n"
   ]
  },
  {
   "cell_type": "markdown",
   "metadata": {},
   "source": [
    "Honest Verifier \n",
    "Apply Fiat Shamir - perfect zero knowledge\n",
    "Special Soundness\n",
    "Given 2 transcripts with the same first message"
   ]
  },
  {
   "cell_type": "markdown",
   "metadata": {},
   "source": [
    "# Schnorr NIZK"
   ]
  },
  {
   "cell_type": "code",
   "execution_count": 116,
   "metadata": {},
   "outputs": [
    {
     "name": "stdout",
     "output_type": "stream",
     "text": [
      "prime q: 97 ...generator g: 5 ...private witness: 3 ...public_h: 28\n",
      "prover generates a challenge e using hash: 39\n",
      "prover's response z: 212\n",
      "lhs: 93\n",
      "rhs: 93\n",
      "Verification successful!\n"
     ]
    }
   ],
   "source": [
    "import random\n",
    "import hashlib\n",
    "\n",
    "def hash_message(message):\n",
    "    return int(hashlib.sha256(message).hexdigest(), 16)\n",
    "\n",
    "def non_interactive_zero_knowledge_proof():\n",
    "    # Initialize constants\n",
    "    w = 3  # Prover's private witness\n",
    "    g = 5  # Generator\n",
    "    q = 97  # Prime number\n",
    "\n",
    "    # Prover generates \"public key\"\n",
    "    h = pow(g, w, q)  # h = g^w mod q\n",
    "    print(f\"prime q: {q} ...generator g: {g} ...private witness: {w} ...public_h: {h}\")\n",
    "\n",
    "    # Prover generates \"random r\"\n",
    "    r1 = random.randint(1, q-1)\n",
    "    a = pow(g, r1, q)  # a = g^r mod q\n",
    "\n",
    "    # Prover generates \"challenge\" using a hash function\n",
    "    e = hash_message((str(a) + str(g) + str(q) + str(h)).encode('utf-8')) % q\n",
    "    print(f\"prover generates a challenge e using hash: {e}\")\n",
    "\n",
    "    # Prover generates \"response\" for verifier\n",
    "    z = (r1 + e * w)\n",
    "    print(f\"prover's response z: {z}\")\n",
    "\n",
    "    # Verifier does equality check\n",
    "    lhs = pow(g, z, q)  # lhs = g^z mod q\n",
    "    rhs = (a * pow(h, e, q)) % q  # rhs = a * h^e mod q\n",
    "\n",
    "    print(f\"lhs: {lhs}\")\n",
    "    print(f\"rhs: {rhs}\")\n",
    "\n",
    "    if lhs == rhs:\n",
    "        print(\"Verification successful!\")\n",
    "    else:\n",
    "        print(\"Verification failed!\")\n",
    "\n",
    "# Run the non-interactive zero-knowledge proof\n",
    "non_interactive_zero_knowledge_proof()\n"
   ]
  },
  {
   "cell_type": "markdown",
   "metadata": {},
   "source": [
    "# zk-SNARK - Discrete log additive homomorphism"
   ]
  },
  {
   "cell_type": "code",
   "execution_count": 13,
   "metadata": {},
   "outputs": [
    {
     "name": "stdout",
     "output_type": "stream",
     "text": [
      "prime:  101  generator:  3  answer:  7  x:  3  y:  4\n",
      "g^x modp= 27\n",
      "g^y modp= 81\n",
      "E1= 66\n",
      "E2= 66\n",
      "E3= 66\n",
      "Alice has proven she knows the sum is  7\n"
     ]
    }
   ],
   "source": [
    "import sys\n",
    "import random\n",
    "\n",
    "p=101\n",
    "g= 3\n",
    "\n",
    "x = 3\n",
    "y = 4\n",
    "\n",
    "ans=7\n",
    "\n",
    "\n",
    "E1= g**( (x+y) % (n-1)) % p\n",
    "\n",
    "E2= (g**x * g**y) % p\n",
    "\n",
    "E3 = g**(ans) % p\n",
    "\n",
    "print(\"prime: \", p, \" generator: \", g, \" answer: \", ans, \" x: \", x, \" y: \", y)\n",
    "\n",
    "print('g^x modp=',(g**x) % p)\n",
    "print('g^y modp=',(g**y) % p)\n",
    "\n",
    "print('E1=',E1)\n",
    "print('E2=',E2)\n",
    "print('E3=',E3)\n",
    "\n",
    "if (E2==E3):\n",
    "\tprint('Alice has proven she knows the sum is ',ans)\n",
    "else:\n",
    "\tprint('Alice has proven she does not know the sum is ',ans)"
   ]
  },
  {
   "cell_type": "markdown",
   "metadata": {},
   "source": [
    "# zk-SNARK Discrete Log Polynomial Commitment"
   ]
  },
  {
   "cell_type": "code",
   "execution_count": null,
   "metadata": {},
   "outputs": [],
   "source": [
    "import sys\n",
    "import random\n",
    "\n",
    "n=101\n",
    "g= 3\n",
    "\n",
    "x=5\n",
    "\n",
    "a = 3\n",
    "b = 4\n",
    "\n",
    "# eqn = ax + b x^2\n",
    "\n",
    "\n",
    "E1= pow(g,( a *x ) ,n)\n",
    "\n",
    "E2= pow(g,(b*x*x),n)\n",
    "\n",
    "E3 = (E1 * E2) % n\n",
    "E4 = pow(g,(a*x + b*x*x) , n)\n",
    "\n",
    "\n",
    "\n",
    "print('======Agreed parameters============')\n",
    "print('P=',n,'\\t(Prime number)')\n",
    "print('G=',g,'\\t(Generator)')\n",
    "print('a=',a)\n",
    "print('b=',b)\n",
    "print('x=',x,'\\t(Eqn= ax + bx^2)')\n",
    "\n",
    "\n",
    "print('======zkSnark====================')\n",
    "\n",
    "print('E3=',E3)\n",
    "print('E4=',E4)\n",
    "\n",
    "if (E3==E4):\n",
    "\tprint('Alice has computed the result')\n",
    "else:\n",
    "\tprint('Alice has proven she does not know result')"
   ]
  },
  {
   "cell_type": "markdown",
   "metadata": {},
   "source": [
    "zk-SNARK\n",
    "\n",
    "1. **Trusted Setup**: A one-time setup phase that generates public parameters for the prover and verifier.\n",
    "2. **Proving**: The prover generates a proof $\\pi$ using their secret $x$ and the public parameters.\n",
    "3. **Verification**: The verifier uses $\\pi$ and the public parameters to verify the proof, without learning anything about $x$."
   ]
  },
  {
   "cell_type": "code",
   "execution_count": 5,
   "metadata": {},
   "outputs": [
    {
     "name": "stdout",
     "output_type": "stream",
     "text": [
      "Collecting py_ecc\n",
      "  Downloading py_ecc-6.0.0-py3-none-any.whl (43 kB)\n",
      "\u001b[2K     \u001b[90m━━━━━━━━━━━━━━━━━━━━━━━━━━━━━━━━━━━━━━━━\u001b[0m \u001b[32m43.4/43.4 kB\u001b[0m \u001b[31m4.3 MB/s\u001b[0m eta \u001b[36m0:00:00\u001b[0m\n",
      "\u001b[?25hCollecting eth-typing<4,>=3.0.0 (from py_ecc)\n",
      "  Obtaining dependency information for eth-typing<4,>=3.0.0 from https://files.pythonhosted.org/packages/fb/af/81d015a76d45172bf097e92af9902a847738d931acdadf54603c1446009d/eth_typing-3.4.0-py3-none-any.whl.metadata\n",
      "  Downloading eth_typing-3.4.0-py3-none-any.whl.metadata (4.7 kB)\n",
      "Collecting eth-utils<3,>=2.0.0 (from py_ecc)\n",
      "  Obtaining dependency information for eth-utils<3,>=2.0.0 from https://files.pythonhosted.org/packages/cf/df/e7fbb9c29790f87e7981c29a78a8d9bff379ce5cb146aa6b9861d7fdf1d0/eth_utils-2.2.0-py3-none-any.whl.metadata\n",
      "  Downloading eth_utils-2.2.0-py3-none-any.whl.metadata (5.2 kB)\n",
      "Requirement already satisfied: mypy-extensions>=0.4.1 in /Users/spol2078/anaconda3/lib/python3.11/site-packages (from py_ecc) (0.4.3)\n",
      "Collecting cached-property<2,>=1.5.1 (from py_ecc)\n",
      "  Downloading cached_property-1.5.2-py2.py3-none-any.whl (7.6 kB)\n",
      "Collecting eth-hash>=0.3.1 (from eth-utils<3,>=2.0.0->py_ecc)\n",
      "  Obtaining dependency information for eth-hash>=0.3.1 from https://files.pythonhosted.org/packages/eb/cd/afecfb3d0d0096338fee1cf7d57678eab49a69d5ff775e2052f81261efd0/eth_hash-0.5.2-py3-none-any.whl.metadata\n",
      "  Downloading eth_hash-0.5.2-py3-none-any.whl.metadata (5.8 kB)\n",
      "Requirement already satisfied: cytoolz>=0.10.1 in /Users/spol2078/anaconda3/lib/python3.11/site-packages (from eth-utils<3,>=2.0.0->py_ecc) (0.12.0)\n",
      "Requirement already satisfied: toolz>=0.8.0 in /Users/spol2078/anaconda3/lib/python3.11/site-packages (from cytoolz>=0.10.1->eth-utils<3,>=2.0.0->py_ecc) (0.12.0)\n",
      "Downloading eth_typing-3.4.0-py3-none-any.whl (6.0 kB)\n",
      "Downloading eth_utils-2.2.0-py3-none-any.whl (23 kB)\n",
      "Downloading eth_hash-0.5.2-py3-none-any.whl (8.6 kB)\n",
      "Installing collected packages: cached-property, eth-typing, eth-hash, eth-utils, py_ecc\n",
      "Successfully installed cached-property-1.5.2 eth-hash-0.5.2 eth-typing-3.4.0 eth-utils-2.2.0 py_ecc-6.0.0\n",
      "Note: you may need to restart the kernel to use updated packages.\n"
     ]
    }
   ],
   "source": [
    "pip install py_ecc"
   ]
  },
  {
   "cell_type": "code",
   "execution_count": 3,
   "metadata": {},
   "outputs": [
    {
     "name": "stdout",
     "output_type": "stream",
     "text": [
      "Generated Proof: proof_for_x_1\n"
     ]
    }
   ],
   "source": [
    "# Simulated Proving\n",
    "def generate_proof(secret_x, params):\n",
    "    proof = \"proof_for_x_\" + str(secret_x)\n",
    "    return proof\n",
    "\n",
    "secret_x = 1  # The prover knows a secret value of x that satisfies f(x) = 0\n",
    "proof = generate_proof(secret_x, params)\n",
    "print(\"Generated Proof:\", proof)\n"
   ]
  },
  {
   "cell_type": "code",
   "execution_count": 119,
   "metadata": {},
   "outputs": [
    {
     "name": "stdout",
     "output_type": "stream",
     "text": [
      "Proof verified: True\n"
     ]
    }
   ],
   "source": [
    "# Simulated Verification\n",
    "def verify_proof(proof, params):\n",
    "    # Verification logic here\n",
    "    return True if \"proof_for_x_1\" in proof else False\n",
    "\n",
    "result = verify_proof(proof, params)\n",
    "print(\"Proof verified:\", result)\n"
   ]
  }
 ],
 "metadata": {
  "kernelspec": {
   "display_name": "Python 3 (ipykernel)",
   "language": "python",
   "name": "python3"
  },
  "language_info": {
   "codemirror_mode": {
    "name": "ipython",
    "version": 3
   },
   "file_extension": ".py",
   "mimetype": "text/x-python",
   "name": "python",
   "nbconvert_exporter": "python",
   "pygments_lexer": "ipython3",
   "version": "3.11.4"
  }
 },
 "nbformat": 4,
 "nbformat_minor": 2
}
