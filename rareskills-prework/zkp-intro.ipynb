{
 "cells": [
  {
   "cell_type": "markdown",
   "metadata": {},
   "source": [
    "let p = 7\n",
    "What generator points g are valid?"
   ]
  },
  {
   "cell_type": "code",
   "execution_count": 54,
   "metadata": {},
   "outputs": [
    {
     "name": "stdout",
     "output_type": "stream",
     "text": [
      "p: 97\n",
      "Primitive roots: [5, 7, 10, 13, 14, 15, 17, 21, 23, 26, 29, 37, 38, 39, 40, 41, 56, 57, 58, 59, 60, 68, 71, 74, 76, 80, 82, 83, 84, 87, 90, 92]\n",
      "Non-primitive roots: [1, 2, 3, 4, 6, 8, 9, 11, 12, 16, 18, 19, 20, 22, 24, 25, 27, 28, 30, 31, 32, 33, 34, 35, 36, 42, 43, 44, 45, 46, 47, 48, 49, 50, 51, 52, 53, 54, 55, 61, 62, 63, 64, 65, 66, 67, 69, 70, 72, 73, 75, 77, 78, 79, 81, 85, 86, 88, 89, 91, 93, 94, 95, 96]\n"
     ]
    }
   ],
   "source": [
    "def getG(p):\n",
    "    primitive_roots = []\n",
    "    non_primitive_roots = []\n",
    "    for g in range(1, p):\n",
    "        seen = set()\n",
    "        for exp in range(1, p):\n",
    "            Y = pow(g, exp, p)  # Calculate Y = g^exp mod p\n",
    "            if Y in seen:\n",
    "                non_primitive_roots.append(g)\n",
    "                break\n",
    "            seen.add(Y)\n",
    "        \n",
    "        if len(seen) == p - 1:\n",
    "            primitive_roots.append(g)\n",
    "    \n",
    "    return primitive_roots, non_primitive_roots\n",
    "\n",
    "p = 97\n",
    "print(\"p:\", p)\n",
    "# print(\"Values for g^x mod p:\")\n",
    "(primitive_roots, non_primitive_roots) = getG(p)\n",
    "print(\"Primitive roots:\", primitive_roots)\n",
    "print(\"Non-primitive roots:\", non_primitive_roots)"
   ]
  },
  {
   "cell_type": "code",
   "execution_count": 112,
   "metadata": {},
   "outputs": [
    {
     "name": "stdout",
     "output_type": "stream",
     "text": [
      "prime q: 97 ...generator g: 5 ...private witness: 3 ...public_h: 28\n",
      "prover generates random r and sends a = g^r mod q: 75\n",
      "verifier generates a challenge e: 68\n",
      "prover's response z: 276\n",
      "lhs: 47\n",
      "rhs: 47\n",
      "Verification successful!\n"
     ]
    }
   ],
   "source": [
    "import random\n",
    "\n",
    "def zero_knowledge_proof():\n",
    "    # Initialize constants\n",
    "    w = 3  # Prover's private witness\n",
    "    g = 5  # Generator\n",
    "    q = 97  # Prime number\n",
    "\n",
    "    # Prover generates \"public key\"\n",
    "    h = pow(g, w, q)  # h = g^w mod q\n",
    "    print(f\"prime q: {q} ...generator g: {g} ...private witness: {w} ...public_h: {h}\")\n",
    "\n",
    "    # Prover generates \"random r\"\n",
    "    r1 = random.randint(1, q-1)\n",
    "    a = pow(g, r1, q)  # a = g^r mod q\n",
    "    print(f\"prover generates random r and sends a = g^r mod q: {a}\")\n",
    "\n",
    "    # Verifier generates \"challenge\"\n",
    "    e = random.randint(1, q-1)\n",
    "    print(f\"verifier generates a challenge e: {e}\")\n",
    "\n",
    "    # Prover generates \"response\" for verifier\n",
    "    z = (r1 + e * w)\n",
    "    print(f\"prover's response z: {z}\")\n",
    "\n",
    "    # Verifier does equality check\n",
    "    lhs = pow(g, z, q)  # lhs = g^z mod q\n",
    "    rhs = (a * pow(h, e, q)) % q  # rhs = a * h^e mod qa\n",
    "\n",
    "    print(f\"lhs: {lhs}\")\n",
    "    print(f\"rhs: {rhs}\")\n",
    "\n",
    "    if lhs == rhs:\n",
    "        print(\"Verification successful!\")\n",
    "    else:\n",
    "        print(\"Verification failed!\")\n",
    "\n",
    "# Run the zero-knowledge proof\n",
    "zero_knowledge_proof()\n"
   ]
  },
  {
   "cell_type": "markdown",
   "metadata": {},
   "source": [
    "Honest Verifier \n",
    "Apply Fiat Shamir - perfect zero knowledge\n",
    "Special Soundness\n",
    "Given 2 transcripts with the same first message"
   ]
  },
  {
   "cell_type": "code",
   "execution_count": 113,
   "metadata": {},
   "outputs": [
    {
     "name": "stdout",
     "output_type": "stream",
     "text": [
      "prime q: 97 ...generator g: 5 ...private witness: 3 ...public_h: 28\n",
      "prover generates a challenge e using hash: 44\n",
      "prover's response z: 80\n",
      "lhs: 62\n",
      "rhs: 19\n",
      "Verification failed!\n"
     ]
    }
   ],
   "source": [
    "import random\n",
    "import hashlib\n",
    "\n",
    "def hash_message(message):\n",
    "    return int(hashlib.sha256(message).hexdigest(), 16)\n",
    "\n",
    "def non_interactive_zero_knowledge_proof():\n",
    "    # Initialize constants\n",
    "    w = 3  # Prover's private witness\n",
    "    g = 5  # Generator\n",
    "    q = 97  # Prime number\n",
    "\n",
    "    # Prover generates \"public key\"\n",
    "    h = pow(g, w, q)  # h = g^w mod q\n",
    "    print(f\"prime q: {q} ...generator g: {g} ...private witness: {w} ...public_h: {h}\")\n",
    "\n",
    "    # Prover generates \"random r\"\n",
    "    r1 = random.randint(1, q-1)\n",
    "    a = pow(g, r1, q)  # a = g^r mod q\n",
    "\n",
    "    # Prover generates \"challenge\" using a hash function\n",
    "    e = hash_message((str(a) + str(g) + str(q) + str(h)).encode('utf-8')) % q\n",
    "    print(f\"prover generates a challenge e using hash: {e}\")\n",
    "\n",
    "    # Prover generates \"response\" for verifier\n",
    "    z = (r1 + e * w) % q\n",
    "    print(f\"prover's response z: {z}\")\n",
    "\n",
    "    # Verifier does equality check\n",
    "    lhs = pow(g, z, q)  # lhs = g^z mod q\n",
    "    rhs = (a * pow(h, e, q)) % q  # rhs = a * h^e mod q\n",
    "\n",
    "    print(f\"lhs: {lhs}\")\n",
    "    print(f\"rhs: {rhs}\")\n",
    "\n",
    "    if lhs == rhs:\n",
    "        print(\"Verification successful!\")\n",
    "    else:\n",
    "        print(\"Verification failed!\")\n",
    "\n",
    "# Run the non-interactive zero-knowledge proof\n",
    "non_interactive_zero_knowledge_proof()\n"
   ]
  }
 ],
 "metadata": {
  "kernelspec": {
   "display_name": "Python 3 (ipykernel)",
   "language": "python",
   "name": "python3"
  },
  "language_info": {
   "codemirror_mode": {
    "name": "ipython",
    "version": 3
   },
   "file_extension": ".py",
   "mimetype": "text/x-python",
   "name": "python",
   "nbconvert_exporter": "python",
   "pygments_lexer": "ipython3",
   "version": "3.11.4"
  }
 },
 "nbformat": 4,
 "nbformat_minor": 2
}
