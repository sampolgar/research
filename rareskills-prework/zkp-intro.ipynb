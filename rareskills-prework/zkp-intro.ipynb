{
 "cells": [
  {
   "cell_type": "markdown",
   "metadata": {},
   "source": [
    "let p = 7\n",
    "What generator points g are valid?"
   ]
  },
  {
   "cell_type": "code",
   "execution_count": 32,
   "metadata": {},
   "outputs": [
    {
     "name": "stdout",
     "output_type": "stream",
     "text": [
      "p: 7\n",
      "Primitive roots: [3, 5]\n",
      "Non-primitive roots: [1, 2, 4, 6]\n"
     ]
    }
   ],
   "source": [
    "def getG(p):\n",
    "    primitive_roots = []\n",
    "    non_primitive_roots = []\n",
    "    for g in range(1, p):\n",
    "        seen = set()\n",
    "        for exp in range(1, p):\n",
    "            Y = pow(g, exp, p)  # Calculate Y = g^exp mod p\n",
    "            if Y in seen:\n",
    "                non_primitive_roots.append(g)\n",
    "                break\n",
    "            seen.add(Y)\n",
    "        \n",
    "        if len(seen) == p - 1:\n",
    "            primitive_roots.append(g)\n",
    "    \n",
    "    return primitive_roots, non_primitive_roots\n",
    "\n",
    "p = 7\n",
    "print(\"p:\", p)\n",
    "# print(\"Values for g^x mod p:\")\n",
    "(primitive_roots, non_primitive_roots) = getG(p)\n",
    "print(\"Primitive roots:\", primitive_roots)\n",
    "print(\"Non-primitive roots:\", non_primitive_roots)"
   ]
  },
  {
   "cell_type": "code",
   "execution_count": 33,
   "metadata": {},
   "outputs": [
    {
     "name": "stdout",
     "output_type": "stream",
     "text": [
      "w: 3\n",
      "g: 5\n",
      "p: 97\n",
      "x: 91\n",
      "y: 37\n"
     ]
    }
   ],
   "source": [
    "import random\n",
    "import sys\n",
    "\n",
    "private_w = 3\n",
    "g = 5\n",
    "q = 97\n",
    "\n",
    "r = g**random.randint(1, p - 1) # generator point to the power of a random integer,  used by Prover\n",
    "c = random.randint(q, p - 1) #random challenge used by Verifier\n",
    "\n",
    "# Prover\n",
    "public_h = pow(g, private_w, q) #h = g^w mod q\n",
    "\n",
    "\n"
   ]
  }
 ],
 "metadata": {
  "kernelspec": {
   "display_name": "Python 3 (ipykernel)",
   "language": "python",
   "name": "python3"
  },
  "language_info": {
   "codemirror_mode": {
    "name": "ipython",
    "version": 3
   },
   "file_extension": ".py",
   "mimetype": "text/x-python",
   "name": "python",
   "nbconvert_exporter": "python",
   "pygments_lexer": "ipython3",
   "version": "3.11.4"
  }
 },
 "nbformat": 4,
 "nbformat_minor": 2
}
