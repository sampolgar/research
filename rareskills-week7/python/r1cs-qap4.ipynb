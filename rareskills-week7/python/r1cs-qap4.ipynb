{
 "cells": [
  {
   "cell_type": "code",
   "execution_count": 1,
   "metadata": {},
   "outputs": [],
   "source": [
    "from py_ecc.bn128 import G1, G2, multiply, add, curve_order, eq, Z1, pairing, neg\n",
    "import numpy as np\n",
    "import galois   "
   ]
  },
  {
   "cell_type": "code",
   "execution_count": 2,
   "metadata": {},
   "outputs": [],
   "source": [
    "GF = galois.GF(curve_order)\n",
    "# takes about 2 minutes"
   ]
  },
  {
   "cell_type": "code",
   "execution_count": 3,
   "metadata": {},
   "outputs": [
    {
     "name": "stdout",
     "output_type": "stream",
     "text": [
      "1 97 5 10 25 125 100 1250\n"
     ]
    }
   ],
   "source": [
    "x = GF(5)#random.randint(1,10)\n",
    "y = GF(10)#random.randint(1,15)\n",
    "\n",
    "v1 = x * x\n",
    "v2 = v1 * x\n",
    "v3 = y * y\n",
    "v4 = v2 * y\n",
    "out = v2 + GF(2) * v4 - GF(5) * x * v3 - GF(3) * y + GF(2)\n",
    "print(1,out,x,y,v1,v2,v3,v4)\n",
    "\n",
    "Lgf = GF(np.array([\n",
    "    [0,0,1,0,0,0,0,0],\n",
    "    [0,0,0,0,1,0,0,0],\n",
    "    [0,0,0,1,0,0,0,0],\n",
    "    [0,0,0,0,0,1,0,0],\n",
    "    [0,0,curve_order - 5,0,0,0,0,0] # 113 - 5 = 108\n",
    "    ]))\n",
    "\n",
    "Rgf = GF(np.array([\n",
    "    [0,0,1,0,0,0,0,0],\n",
    "    [0,0,1,0,0,0,0,0],\n",
    "    [0,0,0,1,0,0,0,0],\n",
    "    [0,0,0,1,0,0,0,0],\n",
    "    [0,0,0,0,0,0,1,0]\n",
    "    ]))\n",
    "\n",
    "Ogf = GF(np.array([\n",
    "    [0,0,0,0,1,0,0,0],\n",
    "    [0,0,0,0,0,1,0,0],\n",
    "    [0,0,0,0,0,0,1,0],\n",
    "    [0,0,0,0,0,0,0,1],\n",
    "    [curve_order-2,1,0,3,0,curve_order-1,0,curve_order-2] # 113 - 2 = 111\n",
    "    ]))\n",
    "\n",
    "wgf = GF(np.array([GF(1),out,x,y,v1,v2,v3,v4]))\n",
    "\n",
    "# assert all(np.multiply(np.dot(L,w), np.dot(R,w)) == np.dot(O,w)), \"result contains an inequality\"\n",
    "result = Ogf.dot(wgf) == np.multiply(Lgf.dot(wgf),Rgf.dot(wgf))\n",
    "assert result.all(), \"result contains an inequality\"\n"
   ]
  },
  {
   "cell_type": "code",
   "execution_count": 5,
   "metadata": {},
   "outputs": [],
   "source": [
    "target_poly = GF(np.array([1,2,3,4,5]))\n",
    "# for each column in the matrix, compute the lagrange polynomial, resulting in a vector of polynomials\n",
    "def interpolate_columns(column):\n",
    "    return galois.lagrange_poly(target_poly,column)\n",
    "\n",
    "L_vector_of_poly = np.apply_along_axis(interpolate_columns, 0, Lgf)\n",
    "R_vector_of_poly = np.apply_along_axis(interpolate_columns, 0, Rgf)\n",
    "O_vector_of_poly = np.apply_along_axis(interpolate_columns, 0, Ogf)\n",
    "# print(L_vector_of_poly)"
   ]
  },
  {
   "cell_type": "code",
   "execution_count": 11,
   "metadata": {},
   "outputs": [
    {
     "name": "stdout",
     "output_type": "stream",
     "text": [
      "7296080957279758407415468581752425029516121466805344781232734728858602831849x^4 + 3648040478639879203707734290876212514758060733402672390616367364429301416197x^3 + 3648040478639879203707734290876212514758060733402672390616367364429301414937x^2 + 7296080957279758407415468581752425029516121466805344781232734728858602833414x + 21888242871839275222246405745257275088548364400416034343698204186575808494842\n",
      "<class 'galois.Poly'>\n",
      "13680151794899547013904003590785796930342727750260021464811377616609880309765x^4 + 9120101196599698009269335727190531286895151833506680976540918411073253539795x^3 + 8208091076939728208342402154471478158205636650156012878886826569965928186022x^2 + 12768141675239577212977070018066743801653212566909353367157285775502554955532x + 125\n",
      "6384070837619788606488535009033371900826606283454676683578642887751277477581x^4 + 9120101196599698009269335727190531286895151833506680976540918411073253543130x^3 + 15504172034219486615757870736223903187721758116961357660119561298824531005611x^2 + 12768141675239577212977070018066743801653212566909353367157285775502554973812x + 21888242871839275222246405745257275088548364400416034343698204186575808486742\n"
     ]
    }
   ],
   "source": [
    "def reduce_polynomials_to_1(vector_of_poly, witness):\n",
    "    sum = GF(0)\n",
    "    for i in range(len(vector_of_poly)):\n",
    "        sum += vector_of_poly[i]*witness[i]\n",
    "    return sum\n",
    "\n",
    "Ux = reduce_polynomials_to_1(L_vector_of_poly,wgf)\n",
    "Vx = reduce_polynomials_to_1(R_vector_of_poly,wgf)\n",
    "Wx = reduce_polynomials_to_1(O_vector_of_poly,wgf)\n",
    "print(Ux)\n",
    "print(Vx)\n",
    "print(Wx)\n"
   ]
  },
  {
   "cell_type": "code",
   "execution_count": 38,
   "metadata": {},
   "outputs": [
    {
     "name": "stdout",
     "output_type": "stream",
     "text": [
      "8\n",
      "8\n"
     ]
    }
   ],
   "source": [
    "from numpy import poly1d\n",
    "UxVx = Ux*Vx\n",
    "Tx = galois.Poly(np.flip(np.polynomial.polynomial.polyfromroots([1,2,3,4])).astype(int),  field=GF)\n",
    "Hx, remainder = divmod(((Ux*Vx) - Wx), Tx)\n",
    "assert remainder == 0, \"remainder is not 0\"\n",
    "\n",
    "# Check Tx and Hx balances the polynomial correctly\n",
    "lhs = Ux*Vx\n",
    "rhs = Hx*Tx + Wx\n",
    "assert lhs == rhs, \"result is not balanced across LHS and RHS\"\n",
    "print(lhs.degree)\n",
    "print(rhs.degree)"
   ]
  },
  {
   "cell_type": "code",
   "execution_count": 44,
   "metadata": {},
   "outputs": [
    {
     "name": "stdout",
     "output_type": "stream",
     "text": [
      "powersof tau [(1, 2), (3932705576657793550893430333273221375907985235130430286685735064194643946083, 18813763293032256545937756946359266117037834559191913266454084342712532869153), (3038550774229452338520305302102289389514246337232061005890017890741294374174, 15141682980524414268395793955952745969090858569447644602853115000426078794031), (4984738864408846448122946991881270567934799929102957515975298722324975735310, 8135649404535862270392482273326866042495778524130546252655172794877351695768), (13721099569423026850923337433982403324505725722819852841792898815211399675129, 16601117477696701067583705645824781346940621151880261081973621651314412226347), (9208386993051892177335369820310458420607744149206035860894646524860829999878, 18695762335637817852703346829643869609254204312777564041846271910522619336243), (14085668685909000265845055923607520415074994542993112460394640169285368383196, 67455695127176899340925270178711227793792312906705759372679399934293384248), (2425089678886677421315134513106803677200918333925577980040405187406577906504, 5741330096330822656679644638302710433234586396006296360068429001221473928425), (1517984417743022530234609899904090959954672821011176237179919621317155140687, 2484111906930210476904913760802052334953446731202359906610489179245683544898)]\n",
      "Ux coeffs 7296080957279758407415468581752425029516121466805344781232734728858602831849x^4 + 3648040478639879203707734290876212514758060733402672390616367364429301416197x^3 + 3648040478639879203707734290876212514758060733402672390616367364429301414937x^2 + 7296080957279758407415468581752425029516121466805344781232734728858602833414x + 21888242871839275222246405745257275088548364400416034343698204186575808494842\n",
      "A_1 (13527477456085109312640567849011309280230034958612307995388555689357305809351, 7525207318525385058322753737466449351003089494584840064205050684086286284697)\n",
      "B_2 ((291469710533800792430555546632147866669476440755149660054253913908421898389, 17327100362998277806780197026819180092629486233277481398848307260265195121334), (4559541677478572801680286476360807403554006591937159423389670228949604171423, 2634442859388890668625019069551052881250914523873788544276881570523813551967))\n",
      "C (17666861774280580605930009141810677507314353965939661161140276315843798285631, 827366636340285433035331784757119123356854334789380478286757504891293427366)\n",
      "A1 <class 'tuple'> B2 <class 'tuple'> C <class 'tuple'>\n",
      "true\n",
      "(13527477456085109312640567849011309280230034958612307995388555689357305809351, 14363035553313890163923652007790825737693221662712983598483987210558939923886)\n"
     ]
    }
   ],
   "source": [
    "# Compute Generator points and add together\n",
    "# Uses py_ecc to scale both G1 and G2 points\n",
    "\n",
    "from functools import reduce\n",
    "import random\n",
    "\n",
    "tau = GF(8)\n",
    "# tau = GF(random.randint(1,curve_order-1))\n",
    "\n",
    "\n",
    "def generate_powers_of_tau_G1(tau, degree):\n",
    "    \"\"\"\n",
    "    tau is a random num between 1 and curve_order, degree is the highest d of the polynomial\n",
    "    this generates the powers of tau, i.e. tau^0, tau^1, tau^2, tau^3, tau^4, tau^5\n",
    "    \"\"\"\n",
    "    return [multiply(G1, int(tau ** i)) for i in range(degree + 1)]\n",
    "\n",
    "def generate_powers_of_tau_G2(tau, degree):\n",
    "    \"\"\"\n",
    "    same for G2\n",
    "    \"\"\"\n",
    "    return [multiply(G2, int(tau ** i)) for i in range(degree + 1)]\n",
    "\n",
    "def inner_product(ec_points, coeffs):\n",
    "    \"\"\"\n",
    "    ec_points is the powers of tao, i.e. [G1, tau*G1, tau^2*G1, tau^3*G1, ...]\n",
    "    coeffs are the coefficients of the polynomial after lagrange\n",
    "    this computes the inner product of the 2 vectors i.e. Ux[0] * tau^0 + Ux[1] + tau^1..\n",
    "    the result is 1 point on the curve representing the whole polynomial\n",
    "    Z1 is the identity element\n",
    "    \"\"\"\n",
    "    return reduce(add, (multiply(point, int(coeff)) for point, coeff in zip(ec_points, coeffs)), Z1)\n",
    "\n",
    "# evaluate then convert\n",
    "powers_of_tau_G1 = generate_powers_of_tau_G1(tau, 2 * Tx.degree)\n",
    "print(\"powersof tau\",powers_of_tau_G1)\n",
    "print(\"Ux coeffs\",Ux)\n",
    "powers_of_tau_G2 = generate_powers_of_tau_G2(tau, 2 * Tx.degree)\n",
    "\n",
    "A_1 = inner_product(powers_of_tau_G1, Ux.coeffs[::-1]) #\n",
    "B_2 = inner_product(powers_of_tau_G2, Vx.coeffs[::-1])\n",
    "C_1prime = inner_product(powers_of_tau_G1, Wx.coeffs[::-1])\n",
    "HxTx = Hx * Tx\n",
    "HT_1 = inner_product(powers_of_tau_G1, HxTx.coeffs[::-1])\n",
    "C = add(C_1prime, HT_1)\n",
    "\n",
    "print(\"A_1\",A_1)\n",
    "print(\"B_2\",B_2)\n",
    "print(\"C\",C)\n",
    "\n",
    "print(\"A1\",type(A_1), \"B2\",type(B_2), \"C\",type(C))\n",
    "\n",
    "# print(type(A_1))\n",
    "\n",
    "# # print(G2)\n",
    "\n",
    "if(eq(pairing(B_2, A_1), pairing(G2, C))):\n",
    "    print(\"true\")\n",
    "else:\n",
    "    print(\"false\")\n",
    "print(neg(A_1))"
   ]
  },
  {
   "cell_type": "code",
   "execution_count": null,
   "metadata": {},
   "outputs": [],
   "source": []
  }
 ],
 "metadata": {
  "kernelspec": {
   "display_name": "base",
   "language": "python",
   "name": "python3"
  },
  "language_info": {
   "codemirror_mode": {
    "name": "ipython",
    "version": 3
   },
   "file_extension": ".py",
   "mimetype": "text/x-python",
   "name": "python",
   "nbconvert_exporter": "python",
   "pygments_lexer": "ipython3",
   "version": "3.11.5"
  }
 },
 "nbformat": 4,
 "nbformat_minor": 2
}
