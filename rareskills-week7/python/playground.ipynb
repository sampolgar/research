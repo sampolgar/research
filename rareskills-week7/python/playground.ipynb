{
 "cells": [
  {
   "cell_type": "code",
   "execution_count": 2,
   "metadata": {},
   "outputs": [
    {
     "name": "stdout",
     "output_type": "stream",
     "text": [
      "   2\n",
      "2 x - 15 x - 50\n",
      "   3     2\n",
      "1 x - 6 x + 11 x - 6\n"
     ]
    }
   ],
   "source": [
    "from numpy import poly1d\n",
    "h = poly1d([1, -10])*poly1d([2, 5])\n",
    "t = poly1d([1, -1])*poly1d([1, -2])*poly1d([1, -3])\n",
    "\n",
    "print(h)\n",
    "print(t)\n",
    "\n",
    "tau = 14\n",
    "# our algorithm evaluates using the method of the last element, but in encrypted form\n",
    "assert (h*t)(tau) == h(tau)*t(tau) == poly1d(t(tau) * h)(tau)"
   ]
  },
  {
   "cell_type": "code",
   "execution_count": null,
   "metadata": {},
   "outputs": [],
   "source": []
  }
 ],
 "metadata": {
  "kernelspec": {
   "display_name": "base",
   "language": "python",
   "name": "python3"
  },
  "language_info": {
   "codemirror_mode": {
    "name": "ipython",
    "version": 3
   },
   "file_extension": ".py",
   "mimetype": "text/x-python",
   "name": "python",
   "nbconvert_exporter": "python",
   "pygments_lexer": "ipython3",
   "version": "3.11.5"
  }
 },
 "nbformat": 4,
 "nbformat_minor": 2
}
