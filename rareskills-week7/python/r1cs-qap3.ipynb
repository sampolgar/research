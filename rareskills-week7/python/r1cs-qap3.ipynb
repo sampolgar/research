{
 "cells": [
  {
   "cell_type": "markdown",
   "metadata": {},
   "source": [
    "$y = x^3 + 2x^2y -5xy^2 -3y +2$"
   ]
  },
  {
   "cell_type": "markdown",
   "metadata": {},
   "source": [
    "Step 1. R1CS real numbers to test"
   ]
  },
  {
   "cell_type": "code",
   "execution_count": 31,
   "metadata": {},
   "outputs": [
    {
     "name": "stdout",
     "output_type": "stream",
     "text": [
      "1 97 5 10 25 125 100 1250\n"
     ]
    }
   ],
   "source": [
    "import numpy as np\n",
    "import random\n",
    "x = 5#random.randint(1,10)\n",
    "y = 10#random.randint(1,15)\n",
    "\n",
    "v1 = x * x\n",
    "v2 = v1 * x\n",
    "v3 = y * y\n",
    "v4 = v2 * y\n",
    "out = v2 + 2 * v4 - 5 * x * v3 - 3 * y + 2\n",
    "print(1,out,x,y,v1,v2,v3,v4)\n",
    "\n",
    "L = np.array([\n",
    "    [0,0,1,0,0,0,0,0],\n",
    "    [0,0,0,0,1,0,0,0],\n",
    "    [0,0,0,1,0,0,0,0],\n",
    "    [0,0,0,0,0,1,0,0],\n",
    "    [0,0,-5,0,0,0,0,0]\n",
    "    ])\n",
    "\n",
    "R = np.array([\n",
    "    [0,0,1,0,0,0,0,0],\n",
    "    [0,0,1,0,0,0,0,0],\n",
    "    [0,0,0,1,0,0,0,0],\n",
    "    [0,0,0,1,0,0,0,0],\n",
    "    [0,0,0,0,0,0,1,0]\n",
    "    ])\n",
    "\n",
    "O = np.array([\n",
    "    [0,0,0,0,1,0,0,0],\n",
    "    [0,0,0,0,0,1,0,0],\n",
    "    [0,0,0,0,0,0,1,0],\n",
    "    [0,0,0,0,0,0,0,1],\n",
    "    [-2,1,0,3,0,-1,0,-2]\n",
    "    ])\n",
    "\n",
    "w = np.array([1,out,x,y,v1,v2,v3,v4])\n",
    "\n",
    "# assert all(np.multiply(np.dot(L,w), np.dot(R,w)) == np.dot(O,w)), \"result contains an inequality\"\n",
    "result = O.dot(w) == np.multiply(L.dot(w),R.dot(w))\n",
    "assert result.all(), \"result contains an inequality\""
   ]
  },
  {
   "cell_type": "markdown",
   "metadata": {},
   "source": [
    "Step 2. R1CS over Finite Field"
   ]
  },
  {
   "cell_type": "code",
   "execution_count": 159,
   "metadata": {},
   "outputs": [
    {
     "name": "stdout",
     "output_type": "stream",
     "text": [
      "1 97 5 10 25 125 100 1250\n"
     ]
    },
    {
     "ename": "AssertionError",
     "evalue": "result contains an inequality",
     "output_type": "error",
     "traceback": [
      "\u001b[0;31m---------------------------------------------------------------------------\u001b[0m",
      "\u001b[0;31mAssertionError\u001b[0m                            Traceback (most recent call last)",
      "\u001b[1;32m/Users/spolgar/Documents/projects/research/rareskills-week6/r1cs-qap3.ipynb Cell 5\u001b[0m line \u001b[0;36m4\n\u001b[1;32m     <a href='vscode-notebook-cell:/Users/spolgar/Documents/projects/research/rareskills-week6/r1cs-qap3.ipynb#W5sZmlsZQ%3D%3D?line=39'>40</a>\u001b[0m \u001b[39m# assert all(np.multiply(np.dot(L,w), np.dot(R,w)) == np.dot(O,w)), \"result contains an inequality\"\u001b[39;00m\n\u001b[1;32m     <a href='vscode-notebook-cell:/Users/spolgar/Documents/projects/research/rareskills-week6/r1cs-qap3.ipynb#W5sZmlsZQ%3D%3D?line=40'>41</a>\u001b[0m result \u001b[39m=\u001b[39m Ogf\u001b[39m.\u001b[39mdot(wgf) \u001b[39m==\u001b[39m np\u001b[39m.\u001b[39mmultiply(Lgf\u001b[39m.\u001b[39mdot(wgf),Rgf\u001b[39m.\u001b[39mdot(wgf))\n\u001b[0;32m---> <a href='vscode-notebook-cell:/Users/spolgar/Documents/projects/research/rareskills-week6/r1cs-qap3.ipynb#W5sZmlsZQ%3D%3D?line=41'>42</a>\u001b[0m \u001b[39massert\u001b[39;00m result\u001b[39m.\u001b[39mall(), \u001b[39m\"\u001b[39m\u001b[39mresult contains an inequality\u001b[39m\u001b[39m\"\u001b[39m\n",
      "\u001b[0;31mAssertionError\u001b[0m: result contains an inequality"
     ]
    }
   ],
   "source": [
    "from py_ecc.bn128 import G1, multiply, add, curve_order, eq, Z1\n",
    "import galois\n",
    "GF = galois.GF(113)\n",
    "x = GF(5)#random.randint(1,10)\n",
    "y = GF(10)#random.randint(1,15)\n",
    "\n",
    "v1 = x * x\n",
    "v2 = v1 * x\n",
    "v3 = y * y\n",
    "v4 = v2 * y\n",
    "out = v2 + GF(2) * v4 - GF(5) * x * v3 - GF(3) * y + GF(2)\n",
    "print(1,out,x,y,v1,v2,v3,v4)\n",
    "\n",
    "Lgf = GF(np.array([\n",
    "    [0,0,1,0,0,0,0,0],\n",
    "    [0,0,0,0,1,0,0,0],\n",
    "    [0,0,0,1,0,0,0,0],\n",
    "    [0,0,0,0,0,1,0,0],\n",
    "    [0,0,108,0,0,0,0,0] # 113 - 5 = 108\n",
    "    ]))\n",
    "\n",
    "Rgf = GF(np.array([\n",
    "    [0,0,1,0,0,0,0,0],\n",
    "    [0,0,1,0,0,0,0,0],\n",
    "    [0,0,0,1,0,0,0,0],\n",
    "    [0,0,0,1,0,0,0,0],\n",
    "    [0,0,0,0,0,0,1,0]\n",
    "    ]))\n",
    "\n",
    "Ogf = GF(np.array([\n",
    "    [0,0,0,0,1,0,0,0],\n",
    "    [0,0,0,0,0,1,0,0],\n",
    "    [0,0,0,0,0,0,1,0],\n",
    "    [0,0,0,0,0,0,0,1],\n",
    "    [111,1,0,3,0,GF(112),0,GF(111)] # 113 - 2 = 111\n",
    "    ]))\n",
    "\n",
    "wgf = GF(np.array([GF(1),out,x,y,v1,v2,v3,v4]))\n",
    "\n",
    "# assert all(np.multiply(np.dot(L,w), np.dot(R,w)) == np.dot(O,w)), \"result contains an inequality\"\n",
    "result = Ogf.dot(wgf) == np.multiply(Lgf.dot(wgf),Rgf.dot(wgf))\n",
    "assert result.all(), \"result contains an inequality\"\n"
   ]
  },
  {
   "cell_type": "markdown",
   "metadata": {},
   "source": [
    "Step 3. Interpolate columns. "
   ]
  },
  {
   "cell_type": "code",
   "execution_count": 106,
   "metadata": {},
   "outputs": [
    {
     "name": "stdout",
     "output_type": "stream",
     "text": [
      "[Poly(0, GF(113)) Poly(0, GF(113))\n",
      " Poly(94x^4 + 58x^3 + 71x^2 + 4x, GF(113))\n",
      " Poly(85x^4 + 110x^3 + 97x^2 + 37x + 10, GF(113))\n",
      " Poly(94x^4 + 21x^3 + 9x^2 + 112x + 103, GF(113))\n",
      " Poly(94x^4 + 96x^3 + 12x^2 + 29x + 108, GF(113)) Poly(0, GF(113))\n",
      " Poly(0, GF(113))]\n"
     ]
    }
   ],
   "source": [
    "target_poly = GF(np.array([1,2,3,4,5]))\n",
    "# for each column in the matrix, compute the lagrange polynomial, resulting in a vector of polynomials\n",
    "def interpolate_columns(column):\n",
    "    return galois.lagrange_poly(target_poly,column)\n",
    "\n",
    "L_vector_of_poly = np.apply_along_axis(interpolate_columns, 0, Lgf)\n",
    "R_vector_of_poly = np.apply_along_axis(interpolate_columns, 0, Rgf)\n",
    "O_vector_of_poly = np.apply_along_axis(interpolate_columns, 0, Ogf)\n",
    "print(L_vector_of_poly)"
   ]
  },
  {
   "cell_type": "markdown",
   "metadata": {},
   "source": [
    "Step 4. Reduce m polynomials to 1 by Inner Product of Vector of Polynomials with Witness Vector"
   ]
  },
  {
   "cell_type": "code",
   "execution_count": 120,
   "metadata": {},
   "outputs": [
    {
     "name": "stdout",
     "output_type": "stream",
     "text": [
      "[ 52  16 112  35  16]\n",
      "[75 77 95 85 12]\n",
      "[27 22 91 59 52]\n",
      "      8        7             6             5             4\n",
      "3900 x + 5204 x + 1.457e+04 x + 1.719e+04 x + 1.652e+04 x\n",
      "              3        2\n",
      " + 1.427e+04 x + 5839 x + 1780 x + 192\n",
      "   4      3      2\n",
      "1 x - 10 x + 35 x - 50 x + 24\n"
     ]
    },
    {
     "ename": "TypeError",
     "evalue": "unsupported operand type(s) for //: 'poly1d' and 'poly1d'",
     "output_type": "error",
     "traceback": [
      "\u001b[0;31m---------------------------------------------------------------------------\u001b[0m",
      "\u001b[0;31mTypeError\u001b[0m                                 Traceback (most recent call last)",
      "\u001b[1;32m/Users/spolgar/Documents/projects/research/rareskills-week6/r1cs-qap3.ipynb Cell 9\u001b[0m line \u001b[0;36m2\n\u001b[1;32m     <a href='vscode-notebook-cell:/Users/spolgar/Documents/projects/research/rareskills-week6/r1cs-qap3.ipynb#X14sZmlsZQ%3D%3D?line=22'>23</a>\u001b[0m t \u001b[39m=\u001b[39m poly1d([\u001b[39m1\u001b[39m, \u001b[39m-\u001b[39m\u001b[39m1\u001b[39m])\u001b[39m*\u001b[39mpoly1d([\u001b[39m1\u001b[39m, \u001b[39m-\u001b[39m\u001b[39m2\u001b[39m])\u001b[39m*\u001b[39mpoly1d([\u001b[39m1\u001b[39m, \u001b[39m-\u001b[39m\u001b[39m3\u001b[39m])\u001b[39m*\u001b[39mpoly1d([\u001b[39m1\u001b[39m, \u001b[39m-\u001b[39m\u001b[39m4\u001b[39m])\n\u001b[1;32m     <a href='vscode-notebook-cell:/Users/spolgar/Documents/projects/research/rareskills-week6/r1cs-qap3.ipynb#X14sZmlsZQ%3D%3D?line=23'>24</a>\u001b[0m \u001b[39mprint\u001b[39m(t)\n\u001b[0;32m---> <a href='vscode-notebook-cell:/Users/spolgar/Documents/projects/research/rareskills-week6/r1cs-qap3.ipynb#X14sZmlsZQ%3D%3D?line=24'>25</a>\u001b[0m \u001b[39mprint\u001b[39m((u\u001b[39m*\u001b[39mv\u001b[39m-\u001b[39m w) \u001b[39m/\u001b[39m\u001b[39m/\u001b[39m t)\n",
      "\u001b[0;31mTypeError\u001b[0m: unsupported operand type(s) for //: 'poly1d' and 'poly1d'"
     ]
    }
   ],
   "source": [
    "def reduce_polynomials_to_1(vector_of_poly, witness):\n",
    "    sum = GF(0)\n",
    "    for i in range(len(vector_of_poly)):\n",
    "        sum += vector_of_poly[i]*witness[i]\n",
    "    return sum\n",
    "\n",
    "Ux = reduce_polynomials_to_1(L_vector_of_poly,wgf)\n",
    "Vx = reduce_polynomials_to_1(R_vector_of_poly,wgf)\n",
    "Wx = reduce_polynomials_to_1(O_vector_of_poly,wgf)\n",
    "UxCoeffs = Ux.coeffs\n",
    "VxCoeffs = Vx.coeffs\n",
    "WxCoeffs = Wx.coeffs\n",
    "print(UxCoeffs)\n",
    "print(VxCoeffs)\n",
    "print(WxCoeffs)\n",
    "\n",
    "from numpy import poly1d\n",
    "u = poly1d([ 52,  16, 112,  35,  16])\n",
    "v = poly1d([75, 77, 95, 85, 12])\n",
    "w = poly1d([27, 22, 91, 59, 52])\n",
    "print(u *v)\n",
    "\n",
    "t = poly1d([1, -1])*poly1d([1, -2])*poly1d([1, -3])*poly1d([1, -4])\n",
    "print(t)\n",
    "print((u*v- w) // t)"
   ]
  },
  {
   "cell_type": "markdown",
   "metadata": {},
   "source": [
    "We now have 3 polynomials, U(x), V(x), W(x), i.e. U(x) = sum of L's polynomials inner product with the witness.  \n",
    "U(x) is a direct representation of the Matrix Vector combination from R1CS.  \n",
    "This is our Quadratic Arithmetic Program."
   ]
  },
  {
   "cell_type": "markdown",
   "metadata": {},
   "source": [
    "Notation in G16 paper shows  \n",
    "$(U \\cdot a)$  as     $\\sum_{i=0}^m a_iu_i(X)$\n",
    "- $m$ is the height of the matrix and also length of the witness\n",
    "- $u_i$ is the polynomial output from lagrange interpolation $<u_1,u_2,..>$\n",
    "- $a_i$ is the witness $<a_1,a_2,..>$"
   ]
  },
  {
   "cell_type": "markdown",
   "metadata": {},
   "source": [
    "$(U \\cdot a)\\odot(V \\cdot a) = (W \\cdot a)$"
   ]
  },
  {
   "cell_type": "markdown",
   "metadata": {},
   "source": [
    "$(U \\cdot a) =  52x^4 + 16x^3 + 112x^2 + 35x + 16$ is a degree 4 polynomial  \n",
    "$(V \\cdot a) =  75x^4 + 77x^3 + 95x^2 + 85x + 12$ is a degree 4 polynomial  \n",
    "$(W \\cdot a) =  27x^4 + 22x^3 + 91x^2 + 59x + 52$ is a degree 4 polynomial  \n",
    "Therefore, need to fix W to accomodate the max degree (U * V = 4 + 4 = degree 8)"
   ]
  },
  {
   "cell_type": "markdown",
   "metadata": {},
   "source": [
    "$(U \\cdot a)\\odot(V \\cdot a) = (W \\cdot a)$  = unbalanced  \n",
    "$(U \\cdot a)\\odot(V \\cdot a) = (W \\cdot a) \\square (something) $ == balanced  \n",
    "solution  \n",
    "$(U \\cdot a)\\odot(V \\cdot a) = (W \\cdot a) + 0$"
   ]
  },
  {
   "cell_type": "markdown",
   "metadata": {},
   "source": [
    "What is something that can balance it?\n",
    "A polynomial that interpolates $y=0$ at each x. \n",
    "\n",
    "$(x-1)(x-2)(x-3)(x-4)$ \n",
    "\n",
    "$target \\, polynomial =$ $24x^4 -50x^3  + 35x^2 -10x + 1$"
   ]
  },
  {
   "cell_type": "code",
   "execution_count": 161,
   "metadata": {},
   "outputs": [
    {
     "name": "stdout",
     "output_type": "stream",
     "text": [
      "[ 24. -50.  35. -10.   1.]\n"
     ]
    },
    {
     "ename": "TypeError",
     "evalue": "Valid element-like values are integers and string, not <class 'float'>.",
     "output_type": "error",
     "traceback": [
      "\u001b[0;31m---------------------------------------------------------------------------\u001b[0m",
      "\u001b[0;31mTypeError\u001b[0m                                 Traceback (most recent call last)",
      "\u001b[1;32m/Users/spolgar/Documents/projects/research/rareskills-week6/r1cs-qap3.ipynb Cell 16\u001b[0m line \u001b[0;36m2\n\u001b[1;32m      <a href='vscode-notebook-cell:/Users/spolgar/Documents/projects/research/rareskills-week6/r1cs-qap3.ipynb#X31sZmlsZQ%3D%3D?line=0'>1</a>\u001b[0m \u001b[39mprint\u001b[39m(np\u001b[39m.\u001b[39mpolynomial\u001b[39m.\u001b[39mpolynomial\u001b[39m.\u001b[39mpolyfromroots([\u001b[39m1\u001b[39m,\u001b[39m2\u001b[39m,\u001b[39m3\u001b[39m,\u001b[39m4\u001b[39m]))\n\u001b[0;32m----> <a href='vscode-notebook-cell:/Users/spolgar/Documents/projects/research/rareskills-week6/r1cs-qap3.ipynb#X31sZmlsZQ%3D%3D?line=1'>2</a>\u001b[0m \u001b[39mprint\u001b[39m(galois\u001b[39m.\u001b[39mPoly(np\u001b[39m.\u001b[39mflip(np\u001b[39m.\u001b[39mpolynomial\u001b[39m.\u001b[39mpolynomial\u001b[39m.\u001b[39mpolyfromroots([\u001b[39m1\u001b[39m,\u001b[39m2\u001b[39m,\u001b[39m3\u001b[39m,\u001b[39m4\u001b[39m])),  field\u001b[39m=\u001b[39mGF))\n",
      "File \u001b[0;32m~/anaconda3/lib/python3.11/site-packages/galois/_polys/_poly.py:110\u001b[0m, in \u001b[0;36mPoly.__init__\u001b[0;34m(self, coeffs, field, order)\u001b[0m\n\u001b[1;32m    107\u001b[0m \u001b[39mif\u001b[39;00m \u001b[39mnot\u001b[39;00m order \u001b[39min\u001b[39;00m [\u001b[39m\"\u001b[39m\u001b[39mdesc\u001b[39m\u001b[39m\"\u001b[39m, \u001b[39m\"\u001b[39m\u001b[39masc\u001b[39m\u001b[39m\"\u001b[39m]:\n\u001b[1;32m    108\u001b[0m     \u001b[39mraise\u001b[39;00m \u001b[39mValueError\u001b[39;00m(\u001b[39mf\u001b[39m\u001b[39m\"\u001b[39m\u001b[39mArgument \u001b[39m\u001b[39m'\u001b[39m\u001b[39morder\u001b[39m\u001b[39m'\u001b[39m\u001b[39m must be either \u001b[39m\u001b[39m'\u001b[39m\u001b[39mdesc\u001b[39m\u001b[39m'\u001b[39m\u001b[39m or \u001b[39m\u001b[39m'\u001b[39m\u001b[39masc\u001b[39m\u001b[39m'\u001b[39m\u001b[39m, not \u001b[39m\u001b[39m{\u001b[39;00morder\u001b[39m!r}\u001b[39;00m\u001b[39m.\u001b[39m\u001b[39m\"\u001b[39m)\n\u001b[0;32m--> 110\u001b[0m \u001b[39mself\u001b[39m\u001b[39m.\u001b[39m_coeffs, \u001b[39mself\u001b[39m\u001b[39m.\u001b[39m_field \u001b[39m=\u001b[39m _convert_coeffs(coeffs, field)\n\u001b[1;32m    112\u001b[0m \u001b[39mif\u001b[39;00m \u001b[39mself\u001b[39m\u001b[39m.\u001b[39m_coeffs\u001b[39m.\u001b[39mndim \u001b[39m==\u001b[39m \u001b[39m0\u001b[39m:\n\u001b[1;32m    113\u001b[0m     \u001b[39mself\u001b[39m\u001b[39m.\u001b[39m_coeffs \u001b[39m=\u001b[39m np\u001b[39m.\u001b[39matleast_1d(\u001b[39mself\u001b[39m\u001b[39m.\u001b[39m_coeffs)\n",
      "File \u001b[0;32m~/anaconda3/lib/python3.11/site-packages/galois/_polys/_poly.py:1653\u001b[0m, in \u001b[0;36m_convert_coeffs\u001b[0;34m(coeffs, field)\u001b[0m\n\u001b[1;32m   1651\u001b[0m     coeffs \u001b[39m=\u001b[39m np\u001b[39m.\u001b[39marray(coeffs, dtype\u001b[39m=\u001b[39mfield\u001b[39m.\u001b[39mdtypes[\u001b[39m-\u001b[39m\u001b[39m1\u001b[39m])\n\u001b[1;32m   1652\u001b[0m     sign \u001b[39m=\u001b[39m np\u001b[39m.\u001b[39msign(coeffs)\n\u001b[0;32m-> 1653\u001b[0m     coeffs \u001b[39m=\u001b[39m sign \u001b[39m*\u001b[39m field(np\u001b[39m.\u001b[39mabs(coeffs))\n\u001b[1;32m   1655\u001b[0m \u001b[39mreturn\u001b[39;00m coeffs, field\n",
      "File \u001b[0;32m~/anaconda3/lib/python3.11/site-packages/galois/_fields/_array.py:70\u001b[0m, in \u001b[0;36mFieldArray.__new__\u001b[0;34m(cls, x, dtype, copy, order, ndmin)\u001b[0m\n\u001b[1;32m     64\u001b[0m \u001b[39mif\u001b[39;00m \u001b[39mcls\u001b[39m \u001b[39mis\u001b[39;00m FieldArray:\n\u001b[1;32m     65\u001b[0m     \u001b[39mraise\u001b[39;00m \u001b[39mNotImplementedError\u001b[39;00m(\n\u001b[1;32m     66\u001b[0m         \u001b[39m\"\u001b[39m\u001b[39mFieldArray is an abstract base class that cannot be directly instantiated. \u001b[39m\u001b[39m\"\u001b[39m\n\u001b[1;32m     67\u001b[0m         \u001b[39m\"\u001b[39m\u001b[39mInstead, create a FieldArray subclass for GF(p^m) arithmetic using `GF = galois.GF(p**m)` \u001b[39m\u001b[39m\"\u001b[39m\n\u001b[1;32m     68\u001b[0m         \u001b[39m\"\u001b[39m\u001b[39mand instantiate an array using `x = GF(array_like)`.\u001b[39m\u001b[39m\"\u001b[39m\n\u001b[1;32m     69\u001b[0m     )\n\u001b[0;32m---> 70\u001b[0m \u001b[39mreturn\u001b[39;00m \u001b[39msuper\u001b[39m()\u001b[39m.\u001b[39m\u001b[39m__new__\u001b[39m(\u001b[39mcls\u001b[39m, x, dtype, copy, order, ndmin)\n",
      "File \u001b[0;32m~/anaconda3/lib/python3.11/site-packages/galois/_domains/_array.py:53\u001b[0m, in \u001b[0;36mArray.__new__\u001b[0;34m(cls, x, dtype, copy, order, ndmin)\u001b[0m\n\u001b[1;32m     45\u001b[0m     \u001b[39mraise\u001b[39;00m \u001b[39mNotImplementedError\u001b[39;00m(\n\u001b[1;32m     46\u001b[0m         \u001b[39m\"\u001b[39m\u001b[39mArray is an abstract base class that cannot be directly instantiated. \u001b[39m\u001b[39m\"\u001b[39m\n\u001b[1;32m     47\u001b[0m         \u001b[39m\"\u001b[39m\u001b[39mInstead, create an Array subclass for GF(p^m) arithmetic using `GF = galois.GF(p**m)` \u001b[39m\u001b[39m\"\u001b[39m\n\u001b[1;32m     48\u001b[0m         \u001b[39m\"\u001b[39m\u001b[39mand instantiate an array using `x = GF(array_like)`.\u001b[39m\u001b[39m\"\u001b[39m\n\u001b[1;32m     49\u001b[0m     )\n\u001b[1;32m     51\u001b[0m dtype \u001b[39m=\u001b[39m \u001b[39mcls\u001b[39m\u001b[39m.\u001b[39m_get_dtype(dtype)\n\u001b[0;32m---> 53\u001b[0m x \u001b[39m=\u001b[39m \u001b[39mcls\u001b[39m\u001b[39m.\u001b[39m_verify_array_like_types_and_values(x)\n\u001b[1;32m     54\u001b[0m array \u001b[39m=\u001b[39m np\u001b[39m.\u001b[39marray(x, dtype\u001b[39m=\u001b[39mdtype, copy\u001b[39m=\u001b[39mcopy, order\u001b[39m=\u001b[39morder, ndmin\u001b[39m=\u001b[39mndmin)\n\u001b[1;32m     56\u001b[0m \u001b[39m# Perform view without verification since the elements were verified in _verify_array_like_types_and_values()\u001b[39;00m\n",
      "File \u001b[0;32m~/anaconda3/lib/python3.11/site-packages/galois/_fields/_array.py:146\u001b[0m, in \u001b[0;36mFieldArray._verify_array_like_types_and_values\u001b[0;34m(cls, x)\u001b[0m\n\u001b[1;32m    143\u001b[0m \u001b[39melif\u001b[39;00m \u001b[39misinstance\u001b[39m(x, np\u001b[39m.\u001b[39mndarray):\n\u001b[1;32m    144\u001b[0m     \u001b[39m# If this a NumPy array, but not a FieldArray, verify the array\u001b[39;00m\n\u001b[1;32m    145\u001b[0m     \u001b[39mif\u001b[39;00m x\u001b[39m.\u001b[39mdtype \u001b[39m==\u001b[39m np\u001b[39m.\u001b[39mobject_:\n\u001b[0;32m--> 146\u001b[0m         x \u001b[39m=\u001b[39m \u001b[39mcls\u001b[39m\u001b[39m.\u001b[39m_verify_element_types_and_convert(x, object_\u001b[39m=\u001b[39m\u001b[39mTrue\u001b[39;00m)\n\u001b[1;32m    147\u001b[0m     \u001b[39melif\u001b[39;00m \u001b[39mnot\u001b[39;00m np\u001b[39m.\u001b[39missubdtype(x\u001b[39m.\u001b[39mdtype, np\u001b[39m.\u001b[39minteger):\n\u001b[1;32m    148\u001b[0m         \u001b[39mraise\u001b[39;00m \u001b[39mTypeError\u001b[39;00m(\u001b[39mf\u001b[39m\u001b[39m\"\u001b[39m\u001b[39m{\u001b[39;00m\u001b[39mcls\u001b[39m\u001b[39m.\u001b[39mname\u001b[39m}\u001b[39;00m\u001b[39m arrays must have integer dtypes, not \u001b[39m\u001b[39m{\u001b[39;00mx\u001b[39m.\u001b[39mdtype\u001b[39m}\u001b[39;00m\u001b[39m.\u001b[39m\u001b[39m\"\u001b[39m)\n",
      "File \u001b[0;32m~/anaconda3/lib/python3.11/site-packages/galois/_fields/_array.py:163\u001b[0m, in \u001b[0;36mFieldArray._verify_element_types_and_convert\u001b[0;34m(cls, array, object_)\u001b[0m\n\u001b[1;32m    161\u001b[0m     \u001b[39mreturn\u001b[39;00m array\n\u001b[1;32m    162\u001b[0m \u001b[39mif\u001b[39;00m object_:\n\u001b[0;32m--> 163\u001b[0m     \u001b[39mreturn\u001b[39;00m np\u001b[39m.\u001b[39mvectorize(\u001b[39mcls\u001b[39m\u001b[39m.\u001b[39m_convert_to_element, otypes\u001b[39m=\u001b[39m[\u001b[39mobject\u001b[39m])(array)\n\u001b[1;32m    164\u001b[0m \u001b[39mreturn\u001b[39;00m np\u001b[39m.\u001b[39mvectorize(\u001b[39mcls\u001b[39m\u001b[39m.\u001b[39m_convert_to_element)(array)\n",
      "File \u001b[0;32m~/anaconda3/lib/python3.11/site-packages/numpy/lib/function_base.py:2329\u001b[0m, in \u001b[0;36mvectorize.__call__\u001b[0;34m(self, *args, **kwargs)\u001b[0m\n\u001b[1;32m   2326\u001b[0m     vargs \u001b[39m=\u001b[39m [args[_i] \u001b[39mfor\u001b[39;00m _i \u001b[39min\u001b[39;00m inds]\n\u001b[1;32m   2327\u001b[0m     vargs\u001b[39m.\u001b[39mextend([kwargs[_n] \u001b[39mfor\u001b[39;00m _n \u001b[39min\u001b[39;00m names])\n\u001b[0;32m-> 2329\u001b[0m \u001b[39mreturn\u001b[39;00m \u001b[39mself\u001b[39m\u001b[39m.\u001b[39m_vectorize_call(func\u001b[39m=\u001b[39mfunc, args\u001b[39m=\u001b[39mvargs)\n",
      "File \u001b[0;32m~/anaconda3/lib/python3.11/site-packages/numpy/lib/function_base.py:2412\u001b[0m, in \u001b[0;36mvectorize._vectorize_call\u001b[0;34m(self, func, args)\u001b[0m\n\u001b[1;32m   2409\u001b[0m \u001b[39m# Convert args to object arrays first\u001b[39;00m\n\u001b[1;32m   2410\u001b[0m inputs \u001b[39m=\u001b[39m [asanyarray(a, dtype\u001b[39m=\u001b[39m\u001b[39mobject\u001b[39m) \u001b[39mfor\u001b[39;00m a \u001b[39min\u001b[39;00m args]\n\u001b[0;32m-> 2412\u001b[0m outputs \u001b[39m=\u001b[39m ufunc(\u001b[39m*\u001b[39minputs)\n\u001b[1;32m   2414\u001b[0m \u001b[39mif\u001b[39;00m ufunc\u001b[39m.\u001b[39mnout \u001b[39m==\u001b[39m \u001b[39m1\u001b[39m:\n\u001b[1;32m   2415\u001b[0m     res \u001b[39m=\u001b[39m asanyarray(outputs, dtype\u001b[39m=\u001b[39motypes[\u001b[39m0\u001b[39m])\n",
      "File \u001b[0;32m~/anaconda3/lib/python3.11/site-packages/galois/_fields/_array.py:191\u001b[0m, in \u001b[0;36mFieldArray._convert_to_element\u001b[0;34m(cls, element)\u001b[0m\n\u001b[1;32m    189\u001b[0m     element \u001b[39m=\u001b[39m \u001b[39mint\u001b[39m(element)\n\u001b[1;32m    190\u001b[0m \u001b[39melse\u001b[39;00m:\n\u001b[0;32m--> 191\u001b[0m     \u001b[39mraise\u001b[39;00m \u001b[39mTypeError\u001b[39;00m(\u001b[39mf\u001b[39m\u001b[39m\"\u001b[39m\u001b[39mValid element-like values are integers and string, not \u001b[39m\u001b[39m{\u001b[39;00m\u001b[39mtype\u001b[39m(element)\u001b[39m}\u001b[39;00m\u001b[39m.\u001b[39m\u001b[39m\"\u001b[39m)\n\u001b[1;32m    193\u001b[0m \u001b[39mreturn\u001b[39;00m element\n",
      "\u001b[0;31mTypeError\u001b[0m: Valid element-like values are integers and string, not <class 'float'>."
     ]
    }
   ],
   "source": [
    "print(np.polynomial.polynomial.polyfromroots([1,2,3,4]))\n",
    "# 24x^4 -50x^3  + 35x^2 -10x + 1"
   ]
  },
  {
   "cell_type": "markdown",
   "metadata": {},
   "source": [
    "Is the target polynomial enough to balance it?  (U·a)(V·a) = (W·a) + t(x)"
   ]
  },
  {
   "cell_type": "markdown",
   "metadata": {},
   "source": [
    "Step 5. Balancing the QAP with $h(X)t(X)$ i.e. $(U \\cdot a)\\odot(V \\cdot a) = (W \\cdot a) + h(X)t(X)$"
   ]
  },
  {
   "cell_type": "code",
   "execution_count": 174,
   "metadata": {},
   "outputs": [
    {
     "name": "stdout",
     "output_type": "stream",
     "text": [
      "x^4 + 21888242871839275222246405745257275088548364400416034343698204186575808495607x^3 + 35x^2 + 21888242871839275222246405745257275088548364400416034343698204186575808495567x + 24\n",
      "<class 'galois.Poly'>\n",
      "<class 'galois.Poly'>\n",
      "<class 'galois.GF(21888242871839275222246405745257275088548364400416034343698204186575808495617)'>\n",
      "<class 'galois.GF(113)'>\n"
     ]
    }
   ],
   "source": [
    "# (UxVx - Wx) / Tx = Hx\n",
    "UxVx = Ux*Vx\n",
    "Tx = galois.Poly(np.flip(np.polynomial.polynomial.polyfromroots([1,2,3,4])).astype(int),  field=GF)\n",
    "print(Tx)\n",
    "print(type(Tx))\n",
    "print(type(UxVx))\n",
    "print(Tx.field)\n",
    "print(UxVx.field)\n",
    "# Hx = ((Ux*Vx) - Wx) // Tx\n",
    "\n",
    "# Check Tx and Hx balances the polynomial correctly\n",
    "# lhs = Ux*Vx\n",
    "# rhs = Hx*Tx + Wx\n",
    "# assert lhs == rhs, \"result is not balanced across LHS and RHS\""
   ]
  },
  {
   "cell_type": "code",
   "execution_count": 155,
   "metadata": {},
   "outputs": [
    {
     "name": "stdout",
     "output_type": "stream",
     "text": [
      "Ux:  52x^4 + 16x^3 + 112x^2 + 35x + 16\n",
      "Vx:  75x^4 + 77x^3 + 95x^2 + 85x + 12\n",
      "Wx:  27x^4 + 22x^3 + 91x^2 + 59x + 52\n",
      "Tx:  x^4 + 103x^3 + 35x^2 + 63x + 24\n",
      "Hx:  58x^4 + 21x^3 + 96x^2 + 87x + 100\n"
     ]
    }
   ],
   "source": [
    "# Ux, Vx, Wx, Tx, Hx are all polynomials\n",
    "print(\"Ux: \",Ux)\n",
    "print(\"Vx: \",Vx)\n",
    "print(\"Wx: \",Wx)\n",
    "print(\"Tx: \",Tx)\n",
    "print(\"Hx: \",Hx)"
   ]
  },
  {
   "cell_type": "code",
   "execution_count": 138,
   "metadata": {},
   "outputs": [
    {
     "name": "stdout",
     "output_type": "stream",
     "text": [
      "initializing a large field, this may take a while...\n"
     ]
    }
   ],
   "source": [
    "from py_ecc.bn128 import G1, multiply, add, curve_order, eq, Z1\n",
    "from functools import reduce\n",
    "import galois\n",
    "\n",
    "print(\"initializing a large field, this may take a while...\")\n",
    "# GF = galois.GF(curve_order)"
   ]
  },
  {
   "cell_type": "code",
   "execution_count": 158,
   "metadata": {},
   "outputs": [
    {
     "name": "stdout",
     "output_type": "stream",
     "text": [
      "tau 8\n",
      "ptau x^2 + 21888242871839275222246405745257275088548364400416034343698204186575808495615x + 21888242871839275222246405745257275088548364400416034343698204186575808495609\n",
      "polynomial:  x^2 + 21888242871839275222246405745257275088548364400416034343698204186575808495615x + 21888242871839275222246405745257275088548364400416034343698204186575808495609\n",
      "polynomial coeffs are scalars [21888242871839275222246405745257275088548364400416034343698204186575808495609\n",
      " 21888242871839275222246405745257275088548364400416034343698204186575808495615\n",
      "                                                                             1]\n",
      "power of tau [(1, 2), (3932705576657793550893430333273221375907985235130430286685735064194643946083, 18813763293032256545937756946359266117037834559191913266454084342712532869153), (3038550774229452338520305302102289389514246337232061005890017890741294374174, 15141682980524414268395793955952745969090858569447644602853115000426078794031)]\n",
      "evaluate on ec e.g.:  (1, 2) * 21888242871839275222246405745257275088548364400416034343698204186575808495609 + (3932705576657793550893430333273221375907985235130430286685735064194643946083, 18813763293032256545937756946359266117037834559191913266454084342712532869153) * 21888242871839275222246405745257275088548364400416034343698204186575808495615\n",
      "elliptic curve points are equal\n"
     ]
    }
   ],
   "source": [
    "def inner_product(ec_points, coeffs):\n",
    "    return reduce(add, (multiply(point, int(coeff)) for point, coeff in zip(ec_points, coeffs)), Z1)\n",
    "\n",
    "def generate_powers_of_tau(tau, degree):\n",
    "    return [multiply(G1, int(tau ** i)) for i in range(degree + 1)]\n",
    "\n",
    "# p = (x - 4) * (x + 2)\n",
    "p = galois.Poly([1, -4], field=GF) * galois.Poly([1, 2], field=GF)\n",
    "\n",
    "tau = GF(8)\n",
    "\n",
    "# evaluate then convert\n",
    "powers_of_tau = generate_powers_of_tau(tau, p.degree) # generate as many tau as the degree of the polynomial\n",
    "print(\"tau\",tau)\n",
    "print(\"ptau\",p(tau))\n",
    "evaluate_then_convert_to_ec = multiply(G1, int(p(tau))) #\n",
    "\n",
    "# evaluate via encrypted evaluation# coefficients need to be reversed to match the powers\n",
    "print(\"polynomial: \",p)\n",
    "print(\"polynomial coeffs are scalars\",p.coeffs[::-1])\n",
    "print(\"power of tau\",powers_of_tau)\n",
    "evaluate_on_ec = inner_product(powers_of_tau, p.coeffs[::-1])\n",
    "print(\"evaluate on ec e.g.: \", powers_of_tau[0], \"*\", p.coeffs[::-1][0], \"+\", powers_of_tau[1], \"*\", p.coeffs[::-1][1])\n",
    "\n",
    "if eq(evaluate_then_convert_to_ec, evaluate_on_ec):\n",
    "    print(\"elliptic curve points are equal\")\n"
   ]
  },
  {
   "cell_type": "code",
   "execution_count": null,
   "metadata": {},
   "outputs": [],
   "source": []
  }
 ],
 "metadata": {
  "kernelspec": {
   "display_name": "base",
   "language": "python",
   "name": "python3"
  },
  "language_info": {
   "codemirror_mode": {
    "name": "ipython",
    "version": 3
   },
   "file_extension": ".py",
   "mimetype": "text/x-python",
   "name": "python",
   "nbconvert_exporter": "python",
   "pygments_lexer": "ipython3",
   "version": "3.11.5"
  }
 },
 "nbformat": 4,
 "nbformat_minor": 2
}
