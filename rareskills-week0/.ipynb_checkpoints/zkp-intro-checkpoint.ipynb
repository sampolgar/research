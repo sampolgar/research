{
 "cells": [
  {
   "cell_type": "code",
   "execution_count": 4,
   "metadata": {},
   "outputs": [
    {
     "name": "stdout",
     "output_type": "stream",
     "text": [
      "p: 11\n",
      "Values for g^x mod p:\n",
      "[2, 6, 7, 8]\n"
     ]
    }
   ],
   "source": [
    "def getG(p):\n",
    "    primitive_roots = []\n",
    "    for g in range(1, p):\n",
    "        seen = set()\n",
    "        for exp in range(1, p):\n",
    "            next_val = pow(g, exp, p)  # Calculate g^exp mod p\n",
    "            if next_val in seen:\n",
    "                break\n",
    "            seen.add(next_val)\n",
    "        \n",
    "        if len(seen) == p - 1:\n",
    "            primitive_roots.append(g)\n",
    "    \n",
    "    return primitive_roots\n",
    "\n",
    "p = 11\n",
    "print(\"p:\", p)\n",
    "print(\"Values for g^x mod p:\")\n",
    "print(getG(p))"
   ]
  },
  {
   "cell_type": "code",
   "execution_count": null,
   "metadata": {},
   "outputs": [],
   "source": []
  }
 ],
 "metadata": {
  "kernelspec": {
   "display_name": "Python 3 (ipykernel)",
   "language": "python",
   "name": "python3"
  },
  "language_info": {
   "codemirror_mode": {
    "name": "ipython",
    "version": 3
   },
   "file_extension": ".py",
   "mimetype": "text/x-python",
   "name": "python",
   "nbconvert_exporter": "python",
   "pygments_lexer": "ipython3",
   "version": "3.11.4"
  }
 },
 "nbformat": 4,
 "nbformat_minor": 2
}
