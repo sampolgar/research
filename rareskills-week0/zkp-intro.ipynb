{
  "cells": [
    {
      "cell_type": "markdown",
      "metadata": {},
      "source": [
        "Exercises adapted/copied from https://asecuritysite.com/"
      ]
    },
    {
      "cell_type": "code",
      "execution_count": 1,
      "metadata": {},
      "outputs": [
        {
          "name": "stdout",
          "output_type": "stream",
          "text": [
            "p: 7\n",
            "Primitive roots: [3, 5]\n",
            "Non-primitive roots: [1, 2, 4, 6]\n"
          ]
        }
      ],
      "source": [
        "# let p = 7\n",
        "# What generator points g are valid?\n",
        "\n",
        "def getG(p):\n",
        "    primitive_roots = []\n",
        "    non_primitive_roots = []\n",
        "    for g in range(1, p):\n",
        "        seen = set()\n",
        "        for exp in range(1, p):\n",
        "            Y = pow(g, exp, p)  # Calculate Y = g^exp mod p\n",
        "            if Y in seen:\n",
        "                non_primitive_roots.append(g)\n",
        "                break\n",
        "            seen.add(Y)\n",
        "        \n",
        "        if len(seen) == p - 1:\n",
        "            primitive_roots.append(g)\n",
        "    \n",
        "    return primitive_roots, non_primitive_roots\n",
        "\n",
        "p = 7\n",
        "print(\"p:\", p)\n",
        "# print(\"Values for g^x mod p:\")\n",
        "(primitive_roots, non_primitive_roots) = getG(p)\n",
        "print(\"Primitive roots:\", primitive_roots)\n",
        "print(\"Non-primitive roots:\", non_primitive_roots)"
      ]
    },
    {
      "cell_type": "markdown",
      "metadata": {},
      "source": [
        "# Schnorr interactive zkp"
      ]
    },
    {
      "cell_type": "code",
      "execution_count": 112,
      "metadata": {},
      "outputs": [
        {
          "name": "stdout",
          "output_type": "stream",
          "text": [
            "prime q: 97 ...generator g: 5 ...private witness: 3 ...public_h: 28\n",
            "prover generates random r and sends a = g^r mod q: 75\n",
            "verifier generates a challenge e: 68\n",
            "prover's response z: 276\n",
            "lhs: 47\n",
            "rhs: 47\n",
            "Verification successful!\n"
          ]
        }
      ],
      "source": [
        "import random\n",
        "\n",
        "def zero_knowledge_proof():\n",
        "    # Initialize constants\n",
        "    w = 3  # Prover's private witness\n",
        "    g = 5  # Generator\n",
        "    q = 97  # Prime number\n",
        "\n",
        "    # Prover generates \"public key\"\n",
        "    h = pow(g, w, q)  # h = g^w mod q\n",
        "    print(f\"prime q: {q} ...generator g: {g} ...private witness: {w} ...public_h: {h}\")\n",
        "\n",
        "    # Prover generates \"random r\"\n",
        "    r1 = random.randint(1, q-1)\n",
        "    a = pow(g, r1, q)  # a = g^r mod q\n",
        "    print(f\"prover generates random r and sends a = g^r mod q: {a}\")\n",
        "\n",
        "    # Verifier generates \"challenge\"\n",
        "    e = random.randint(1, q-1)\n",
        "    print(f\"verifier generates a challenge e: {e}\")\n",
        "\n",
        "    # Prover generates \"response\" for verifier\n",
        "    z = (r1 + e * w)\n",
        "    print(f\"prover's response z: {z}\")\n",
        "\n",
        "    # Verifier does equality check\n",
        "    lhs = pow(g, z, q)  # lhs = g^z mod q\n",
        "    rhs = (a * pow(h, e, q)) % q  # rhs = a * h^e mod qa\n",
        "\n",
        "    print(f\"lhs: {lhs}\")\n",
        "    print(f\"rhs: {rhs}\")\n",
        "\n",
        "    if lhs == rhs:\n",
        "        print(\"Verification successful!\")\n",
        "    else:\n",
        "        print(\"Verification failed!\")\n",
        "\n",
        "# Run the zero-knowledge proof\n",
        "zero_knowledge_proof()\n"
      ]
    },
    {
      "cell_type": "markdown",
      "metadata": {},
      "source": [
        "# Schnorr NIZK"
      ]
    },
    {
      "cell_type": "code",
      "execution_count": 7,
      "metadata": {},
      "outputs": [
        {
          "name": "stdout",
          "output_type": "stream",
          "text": [
            "prime q: 97 ...generator g: 5 ...private witness: 3 ...public_h: 28\n",
            "prover generates a challenge e using hash: 1\n",
            "prover's response z: 76\n",
            "lhs: 24\n",
            "rhs: 24\n",
            "Verification successful!\n"
          ]
        }
      ],
      "source": [
        "import random\n",
        "import hashlib\n",
        "\n",
        "def hash_message(message):\n",
        "    return int(hashlib.sha256(message).hexdigest(), 16)\n",
        "\n",
        "def non_interactive_zero_knowledge_proof():\n",
        "    # Initialize constants\n",
        "    w = 3  # Prover's private witness\n",
        "    g = 5  # Generator\n",
        "    q = 97  # Prime number\n",
        "\n",
        "    # Prover generates \"public key\"\n",
        "    h = pow(g, w, q)  # h = g^w mod q\n",
        "    print(f\"prime q: {q} ...generator g: {g} ...private witness: {w} ...public_h: {h}\")\n",
        "\n",
        "    # Prover generates \"random r\"\n",
        "    r1 = random.randint(1, q-1)\n",
        "    a = pow(g, r1, q)  # a = g^r mod q\n",
        "\n",
        "    # Prover generates \"challenge\" using a hash function\n",
        "    #     gap where q is small, error rate is large\n",
        "    # hash into a group is hard\n",
        "    e = hash_message((str(a) + str(g) + str(q) + str(h)).encode('utf-8')) % q\n",
        "    print(f\"prover generates a challenge e using hash: {e}\")\n",
        "\n",
        "    # Prover generates \"response\" for verifier\n",
        "    z = (r1 + e * w)\n",
        "    print(f\"prover's response z: {z}\")\n",
        "\n",
        "    # Verifier does equality check\n",
        "    lhs = pow(g, z, q)  # lhs = g^z mod q\n",
        "    rhs = (a * pow(h, e, q)) % q  # rhs = a * h^e mod q\n",
        "\n",
        "    print(f\"lhs: {lhs}\")\n",
        "    print(f\"rhs: {rhs}\")\n",
        "\n",
        "    if lhs == rhs:\n",
        "        print(\"Verification successful!\")\n",
        "    else:\n",
        "        print(\"Verification failed!\")\n",
        "\n",
        "# Run the non-interactive zero-knowledge proof\n",
        "non_interactive_zero_knowledge_proof()\n"
      ]
    },
    {
      "cell_type": "markdown",
      "metadata": {},
      "source": [
        "# zk-SNARK - Discrete log additive homomorphism"
      ]
    },
    {
      "cell_type": "code",
      "execution_count": 9,
      "metadata": {},
      "outputs": [
        {
          "name": "stdout",
          "output_type": "stream",
          "text": [
            "prime:  101  generator:  3  answer:  7  x:  3  y:  4\n",
            "g^x modp= 27\n",
            "g^y modp= 81\n",
            "E1= 66\n",
            "E2= 66\n",
            "E3= 66\n",
            "Alice has proven she knows the sum is  7\n"
          ]
        }
      ],
      "source": [
        "import sys\n",
        "import random\n",
        "\n",
        "p=101\n",
        "g= 3\n",
        "\n",
        "# implicit assumption that x + y < 100 (smaller than the group -1)\n",
        "# done via range proof in private transaction\n",
        "x = 3\n",
        "y = 4\n",
        "\n",
        "ans=7\n",
        "\n",
        "\n",
        "E1= g**( (x+y) % (p-1)) % p\n",
        "# why p - 1\n",
        "# \n",
        "\n",
        "E2= (g**x * g**y) % p\n",
        "\n",
        "E3 = g**(ans) % p\n",
        "\n",
        "print(\"prime: \", p, \" generator: \", g, \" answer: \", ans, \" x: \", x, \" y: \", y)\n",
        "\n",
        "print('g^x modp=',(g**x) % p)\n",
        "print('g^y modp=',(g**y) % p)\n",
        "\n",
        "print('E1=',E1)\n",
        "print('E2=',E2)\n",
        "print('E3=',E3)\n",
        "\n",
        "if (E2==E3):\n",
        "\tprint('Alice has proven she knows the sum is ',ans)\n",
        "else:\n",
        "\tprint('Alice has proven she does not know the sum is ',ans)"
      ]
    },
    {
      "cell_type": "markdown",
      "metadata": {},
      "source": [
        "# zk-SNARK Discrete Log Polynomial Commitment"
      ]
    },
    {
      "cell_type": "code",
      "execution_count": 16,
      "metadata": {},
      "outputs": [
        {
          "name": "stdout",
          "output_type": "stream",
          "text": [
            "======Agreed parameters============\n",
            "P= 101 \t(Prime number)\n",
            "G= 3 \t(Generator)\n",
            "a= 3\n",
            "b= 4\n",
            "x= 5 \t(Eqn= ax + bx^2)\n",
            "E3= 39\n",
            "E4= 39\n",
            "Alice has computed the result\n"
          ]
        }
      ],
      "source": [
        "import sys\n",
        "import random\n",
        "\n",
        "n=101\n",
        "g= 3\n",
        "\n",
        "# Bob's secret x\n",
        "x=5\n",
        "\n",
        "# Alice's  a and b\n",
        "a = 3\n",
        "b = 4\n",
        "\n",
        "# eqn = ax + b x^2\n",
        "\n",
        "E1= pow(g,( a *x ) ,n)\n",
        "\n",
        "E2= pow(g,(b*x*x),n)\n",
        "\n",
        "E3 = (E1 * E2) % n\n",
        "E4 = pow(g,(a*x + b*x*x) , n)\n",
        "\n",
        "\n",
        "print('======Agreed parameters============')\n",
        "print('P=',n,'\\t(Prime number)')\n",
        "print('G=',g,'\\t(Generator)')\n",
        "print('a=',a)\n",
        "print('b=',b)\n",
        "print('x=',x,'\\t(Eqn= ax + bx^2)')\n",
        "\n",
        "print('E3=',E3)\n",
        "print('E4=',E4)\n",
        "\n",
        "if (E3==E4):\n",
        "\tprint('Alice has computed the result')\n",
        "else:\n",
        "\tprint('Alice has proven she does not know result')"
      ]
    }
  ],
  "metadata": {
    "kernelspec": {
      "display_name": "Python 3 (ipykernel)",
      "language": "python",
      "name": "python3"
    },
    "language_info": {
      "codemirror_mode": {
        "name": "ipython",
        "version": 3
      },
      "file_extension": ".py",
      "mimetype": "text/x-python",
      "name": "python",
      "nbconvert_exporter": "python",
      "pygments_lexer": "ipython3",
      "version": "3.11.0"
    }
  },
  "nbformat": 4,
  "nbformat_minor": 2
}
