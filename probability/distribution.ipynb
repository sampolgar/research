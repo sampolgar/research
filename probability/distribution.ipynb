{
 "cells": [
  {
   "cell_type": "code",
   "execution_count": 2,
   "metadata": {},
   "outputs": [
    {
     "name": "stdout",
     "output_type": "stream",
     "text": [
      "sample space:  [1, 2, 3, 4, 5, 6]\n",
      "pmf:  {1: 0.1, 2: 0.2, 3: 0.2, 4: 0.2, 5: 0.2, 6: 0.1}\n",
      "estimated pmf:  {1: 0.13, 2: 0.189, 3: 0.185, 4: 0.192, 5: 0.197, 6: 0.107}\n"
     ]
    }
   ],
   "source": [
    "import random\n",
    "sample_space = [1,2,3,4,5,6]\n",
    "pmf = {1:0.1, 2:0.2, 3:0.2, 4:0.2, 5:0.2, 6:0.1}\n",
    "\n",
    "\n",
    "# Random Variable Function\n",
    "def sample():\n",
    "    return random.choices(sample_space, weights=[pmf[i] for i in sample_space])[0]\n",
    "\n",
    "samples = [sample() for i in range(1000)]\n",
    "\n",
    "# Estimate the probability distribution based on samples\n",
    "estimated_pmf = {i: samples.count(i)/len(samples) for i in sample_space}\n",
    "\n",
    "print(\"sample space: \", sample_space)\n",
    "print(\"pmf: \", pmf)\n",
    "print(\"estimated pmf: \", estimated_pmf)"
   ]
  },
  {
   "cell_type": "markdown",
   "metadata": {},
   "source": [
    "What is the probability distribution of this function?\n",
    "Based on the samples, we'd estimate the pmf to be {1: 0.13, 2: 0.189, 3: 0.185, 4: 0.192, 5: 0.197, 6: 0.107}\n",
    "Based on the actual pmf, it's {1:0.1, 2:0.2, 3:0.2, 4:0.2, 5:0.2, 6:0.1}"
   ]
  }
 ],
 "metadata": {
  "kernelspec": {
   "display_name": "base",
   "language": "python",
   "name": "python3"
  },
  "language_info": {
   "codemirror_mode": {
    "name": "ipython",
    "version": 3
   },
   "file_extension": ".py",
   "mimetype": "text/x-python",
   "name": "python",
   "nbconvert_exporter": "python",
   "pygments_lexer": "ipython3",
   "version": "3.11.7"
  }
 },
 "nbformat": 4,
 "nbformat_minor": 2
}
