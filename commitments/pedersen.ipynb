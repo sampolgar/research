{
 "cells": [
  {
   "cell_type": "code",
   "execution_count": 1,
   "metadata": {},
   "outputs": [],
   "source": [
    "from py_ecc.bn128 import G1, G2, pairing, add, multiply, neg, curve_order, eq, final_exponentiate, Z1, is_inf"
   ]
  },
  {
   "cell_type": "markdown",
   "metadata": {},
   "source": [
    "$ com \\rightarrow g^s * h^t$"
   ]
  },
  {
   "cell_type": "code",
   "execution_count": 2,
   "metadata": {},
   "outputs": [
    {
     "name": "stdout",
     "output_type": "stream",
     "text": [
      "Expected error caught: commitment opening failed\n",
      "commitment opening verified\n",
      "No error was expected, and none occurred.\n"
     ]
    }
   ],
   "source": [
    "# Pedersen Commitment\n",
    "# prover commits to secret s\n",
    "import random\n",
    "\n",
    "def string_to_int(message):\n",
    "    return int.from_bytes(message, byteorder='big')\n",
    "\n",
    "def scheme_setup():\n",
    "    # h is a random scalar, setup as public parameters \"trusted setup\"\n",
    "    h = random.randint(0, curve_order)\n",
    "    H = multiply(G1, h)\n",
    "    return H\n",
    "\n",
    "def commiter_setup():\n",
    "    # s is the secret message, t is their private randomness\n",
    "    s = string_to_int(b\"hello world\")\n",
    "    t = random.randint(0, curve_order)\n",
    "    return s, t\n",
    "\n",
    "def commit(s, t, H):\n",
    "    # h^t * g^s\n",
    "    c1 = add(multiply(H, t), multiply(G1, s))\n",
    "    return c1\n",
    "\n",
    "def verify(c, s, t, H):\n",
    "    # verify that c = h^t * s\n",
    "    assert(eq(c, add(multiply(H, t), multiply(G1, s)))), \"commitment opening failed\"\n",
    "    print(\"commitment opening verified\")\n",
    "\n",
    "def execute():\n",
    "    H = scheme_setup()\n",
    "    s, t = commiter_setup()\n",
    "    c = commit(s, t, H)\n",
    "    s_prime = string_to_int(b\"hello world fake\")\n",
    "\n",
    "    try:\n",
    "        verify(c, s_prime, t, H)\n",
    "        print(\"An error was expected, but none occurred.\")\n",
    "    except AssertionError as e:\n",
    "        print(\"Expected error caught:\", e)\n",
    "\n",
    "    try:\n",
    "        verify(c, s, t, H)\n",
    "        print(\"No error was expected, and none occurred.\")\n",
    "    except AssertionError as e:\n",
    "        print(\"Unexpected error caught:\", e)\n",
    "\n",
    "execute()"
   ]
  },
  {
   "cell_type": "markdown",
   "metadata": {},
   "source": [
    "Hash based commitment\n",
    "https://link.springer.com/content/pdf/10.1007/3-540-68697-5_16.pdf"
   ]
  },
  {
   "cell_type": "code",
   "execution_count": null,
   "metadata": {},
   "outputs": [],
   "source": []
  }
 ],
 "metadata": {
  "kernelspec": {
   "display_name": "Python 3",
   "language": "python",
   "name": "python3"
  },
  "language_info": {
   "codemirror_mode": {
    "name": "ipython",
    "version": 3
   },
   "file_extension": ".py",
   "mimetype": "text/x-python",
   "name": "python",
   "nbconvert_exporter": "python",
   "pygments_lexer": "ipython3",
   "version": "3.9.6"
  }
 },
 "nbformat": 4,
 "nbformat_minor": 2
}
