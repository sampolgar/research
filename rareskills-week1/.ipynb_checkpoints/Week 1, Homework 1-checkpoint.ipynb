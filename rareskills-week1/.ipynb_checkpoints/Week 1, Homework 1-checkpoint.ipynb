{
 "cells": [
  {
   "cell_type": "markdown",
   "id": "2fda7503",
   "metadata": {},
   "source": [
    "# RareSkills Zero Knowledge Week 1\n",
    "\n",
    "\n",
    "## Modular arithmetic essentials\n",
    "### Benchmarks\n",
    "Here is how you do modular arithmetic in python. Run the two cells below and note how different their execution times are. You should use `pow` instead of doing modular arithmetic with the elementary operators."
   ]
  },
  {
   "cell_type": "code",
   "execution_count": 3,
   "id": "6462ce3c",
   "metadata": {},
   "outputs": [
    {
     "name": "stdout",
     "output_type": "stream",
     "text": [
      "calculating 1590868 took 3.38 seconds\n"
     ]
    }
   ],
   "source": [
    "import time\n",
    "\n",
    "s = time.time()\n",
    "ans = 1002583 ** 939001 % 2003951\n",
    "t = time.time()\n",
    "\n",
    "print(\"calculating {} took {:.2f} seconds\".format(ans, t-s))"
   ]
  },
  {
   "cell_type": "code",
   "execution_count": 7,
   "id": "4d6986d8",
   "metadata": {},
   "outputs": [
    {
     "name": "stdout",
     "output_type": "stream",
     "text": [
      "calculating 1590868 operation took 0.00 seconds\n"
     ]
    }
   ],
   "source": [
    "s = time.time()\n",
    "ans = pow(1002583,939001,2003951)\n",
    "t = time.time()\n",
    "\n",
    "print(\"calculating {} operation took {:.2f} seconds\".format(ans, t - s))"
   ]
  },
  {
   "cell_type": "markdown",
   "id": "78efe55b",
   "metadata": {},
   "source": [
    "### Encrypting a number\n",
    "\n",
    "If we start with a generator `g` and raise it to a power `s` mod `n`, then in general we cannot determine `s` even if `g` and `n` are known. This is the discrete logarithm problem.\n",
    "\n",
    "We can say we \"encrypt\" `s` using the scheme\n",
    "\n",
    "$$ E(s) = g^{s} \\pmod n $$\n",
    "\n",
    "But this means we need to choose `g` and `n` carefully. If `g` is 3, `s` is 2, and `n` is a large number, we can intelligently guess what `s` is in this case. We want to pick `g` and `n` such that all members \"wrap around.\" We won't concern ourselves with this here, but you should be aware of it. The other issue is not picking a sufficiently large `n`. "
   ]
  },
  {
   "cell_type": "markdown",
   "id": "583b81c1",
   "metadata": {},
   "source": [
    "### Computing the discrete logarithm\n",
    "If we do `s_p = g^s mod n`, and make `g` and `n` public, then it is infeasible to compute `s`. But this is only true if `n` is sufficiently large.\n",
    "\n",
    "In the following example, we provide `s_p`, `g`, and `n`. Use python to bruteforce the solution to find `s`."
   ]
  },
  {
   "cell_type": "code",
   "execution_count": 51,
   "id": "cb7eb435",
   "metadata": {},
   "outputs": [],
   "source": [
    "n = 9551\n",
    "g = 5\n",
    "encrypted_number = 5666"
   ]
  },
  {
   "cell_type": "markdown",
   "id": "5dfd12b4",
   "metadata": {},
   "source": [
    "<font color='red'>**Assignment 1: Use python to bruteforce the solution to find `s`**</font>"
   ]
  },
  {
   "cell_type": "code",
   "execution_count": 52,
   "id": "d397aa7e",
   "metadata": {},
   "outputs": [
    {
     "name": "stdout",
     "output_type": "stream",
     "text": [
      "2531\n"
     ]
    }
   ],
   "source": [
    "# Your Solution and Answer Here\n",
    "values = range(10000)\n",
    "student_solution = 0\n",
    "for i in values:\n",
    "    if pow(5,i,9551) == encrypted_number:\n",
    "        student_solution = i\n",
    "        print(i)\n",
    "        break"
   ]
  },
  {
   "cell_type": "code",
   "execution_count": 53,
   "id": "2fb03cf2",
   "metadata": {},
   "outputs": [
    {
     "name": "stdout",
     "output_type": "stream",
     "text": [
      "student_solution is 2531\n"
     ]
    }
   ],
   "source": [
    "assert pow(g, student_solution, n) == encrypted_number\n",
    "print(\"student_solution is {}\".format(student_solution))"
   ]
  },
  {
   "cell_type": "markdown",
   "id": "adef384e",
   "metadata": {},
   "source": [
    "### Computing the discrete logarithm the smart way\n",
    "The smart way to do optimal algorithms is to [copy and paste from stackoverflow](https://stackoverflow.com/a/58665206/2079806). You do not have to understand how the library works\n",
    "\n",
    "<font color='red'>**Assignment 2: Break the cryptography below and obtain the secret number**</font>"
   ]
  },
  {
   "cell_type": "code",
   "execution_count": 43,
   "id": "d15cb7d8",
   "metadata": {},
   "outputs": [],
   "source": [
    "n = 1000004119\n",
    "g = 5\n",
    "encrypted_number = 767805982"
   ]
  },
  {
   "cell_type": "code",
   "execution_count": 49,
   "id": "62cdb28d",
   "metadata": {},
   "outputs": [],
   "source": [
    "from sympy.ntheory import discrete_log\n",
    "student_solution = discrete_log(n,encrypted_number,g)"
   ]
  },
  {
   "cell_type": "code",
   "execution_count": 50,
   "id": "b042bddd",
   "metadata": {},
   "outputs": [
    {
     "name": "stdout",
     "output_type": "stream",
     "text": [
      "student_solution is 420\n"
     ]
    }
   ],
   "source": [
    "assert pow(g, student_solution, n) == encrypted_number\n",
    "print(\"student_solution is {}\".format(student_solution))"
   ]
  },
  {
   "cell_type": "markdown",
   "id": "89ac98bb",
   "metadata": {},
   "source": [
    "## Zero Knowledge Addition\n",
    "The following property is very important. It lets us verify the addition of numbers without knowing the numbers.\n",
    "\n",
    "$$ g^{a}g^{b} = g^{a + b} \\pmod n $$\n",
    "\n",
    "Try a few different values of `a` and `b` yourself to see it in action"
   ]
  },
  {
   "cell_type": "code",
   "execution_count": 63,
   "id": "f8869242",
   "metadata": {},
   "outputs": [
    {
     "name": "stdout",
     "output_type": "stream",
     "text": [
      "941162282\n",
      "310677131\n",
      "196430175\n",
      "False\n",
      "True\n"
     ]
    }
   ],
   "source": [
    "n = 1000004119\n",
    "g = 5\n",
    "a = 7907 # put your own value\n",
    "b = 7919 # put your own value\n",
    "c = a + b\n",
    "print(pow(g, a, n))\n",
    "print(pow(g, b, n))\n",
    "print(pow(g, c, n))\n",
    "# 7907\t7919\n",
    "\n",
    "print(pow(g, a, n) * pow(g, b, n) == pow(g, a+b, n))"
   ]
  },
  {
   "cell_type": "markdown",
   "id": "0545ba6d",
   "metadata": {},
   "source": [
    "Wait what?! That's supposed to be true?\n",
    "\n",
    "<font color='red'>**Assignment 3: The code above has a bug. What is the bug?**</font>"
   ]
  },
  {
   "cell_type": "code",
   "execution_count": 64,
   "id": "bbacb1ae",
   "metadata": {},
   "outputs": [
    {
     "name": "stdout",
     "output_type": "stream",
     "text": [
      "True\n"
     ]
    }
   ],
   "source": [
    "print((pow(g, a) * pow(g, b))%n == pow(g, a+b, n))"
   ]
  },
  {
   "cell_type": "markdown",
   "id": "3063b383",
   "metadata": {},
   "source": [
    "## Zero Knowledge Subtraction\n",
    "We can also encrypt the operation a - b. This is the same as \n",
    "\n",
    "$$ g^{a}g^{-b} = g^{a-b} $$\n",
    "\n",
    "But we can't just stick a negative sign in front of the exponent"
   ]
  },
  {
   "cell_type": "code",
   "execution_count": 65,
   "id": "10c8172d",
   "metadata": {},
   "outputs": [
    {
     "data": {
      "text/plain": [
       "1.6619797259514097e-09"
      ]
     },
     "execution_count": 65,
     "metadata": {},
     "output_type": "execute_result"
    }
   ],
   "source": [
    "g = 57\n",
    "n = 101\n",
    "g ** -5 % n"
   ]
  },
  {
   "cell_type": "markdown",
   "id": "80d0eb92",
   "metadata": {},
   "source": [
    "The above is not an integer! However, python is smart enough to know what you are doing if you use `pow`. To test this, we expect\n",
    "\n",
    "$$ g^{-a}g^{a} = 1 $$\n",
    "\n",
    "because g^0 is 1, and `a - a = 0`."
   ]
  },
  {
   "cell_type": "code",
   "execution_count": 66,
   "id": "dde06b67",
   "metadata": {},
   "outputs": [
    {
     "data": {
      "text/plain": [
       "True"
      ]
     },
     "execution_count": 66,
     "metadata": {},
     "output_type": "execute_result"
    }
   ],
   "source": [
    "a = 22\n",
    "pow(g, a, n) * pow(g, -a, n) % n == 1"
   ]
  },
  {
   "cell_type": "markdown",
   "id": "eba6db1a",
   "metadata": {},
   "source": [
    "So what magic is happening behind the scenes? The formula below is used to compute the modular inverse.\n",
    "\n",
    "$$ a^{-1} = a^{n - 2} \\pmod n $$"
   ]
  },
  {
   "cell_type": "code",
   "execution_count": 67,
   "id": "2ea5a6ba",
   "metadata": {},
   "outputs": [
    {
     "data": {
      "text/plain": [
       "True"
      ]
     },
     "execution_count": 67,
     "metadata": {},
     "output_type": "execute_result"
    }
   ],
   "source": [
    "a_inv = a ** (n - 2) % n\n",
    "a_inv * a % n == 1"
   ]
  },
  {
   "cell_type": "markdown",
   "id": "deadcf09",
   "metadata": {},
   "source": [
    "## Multiplication by a constant\n",
    "Multiplication by a constant is really just (modern zk proof algorithms do not use this technique, this is just for illustration purposes. 4x is really x + x + x + x. In encrypted form, this would be\n",
    "\n",
    "$$ g^{4a} = g^{a} g^{a} g^{a} g^{a} $$\n",
    "\n",
    "This allows us to \"multiply by a constant\" in a zero knowledge fashion."
   ]
  },
  {
   "cell_type": "code",
   "execution_count": 100,
   "id": "21390185",
   "metadata": {},
   "outputs": [
    {
     "data": {
      "text/plain": [
       "True"
      ]
     },
     "execution_count": 100,
     "metadata": {},
     "output_type": "execute_result"
    }
   ],
   "source": [
    "a = 15\n",
    "pow(g, a, n) * pow(g, a, n) * pow(g, a, n) * pow(g, a, n) % n == pow(g, a * 4, n)"
   ]
  },
  {
   "cell_type": "markdown",
   "id": "d8854703",
   "metadata": {},
   "source": [
    "Of course, it would be annoying to multiply like that if you have a big coefficient, so the following is better"
   ]
  },
  {
   "cell_type": "code",
   "execution_count": 69,
   "id": "9704397d",
   "metadata": {},
   "outputs": [
    {
     "data": {
      "text/plain": [
       "True"
      ]
     },
     "execution_count": 69,
     "metadata": {},
     "output_type": "execute_result"
    }
   ],
   "source": [
    "pow(pow(g, a, n), 4 , n) == pow(g, a * 4, n)"
   ]
  },
  {
   "cell_type": "markdown",
   "id": "b4e97353",
   "metadata": {},
   "source": [
    "## I know the solution to a systems of equations\n",
    "\n",
    "Now you should be able to prove to me that you know the solution to in a zero knowledge fashion\n",
    "\n",
    "$$\n",
    "2x + 8y = 7944\\\\\n",
    "5x + 3y = 4764\n",
    "$$\n",
    "\n",
    "<font color='red'>**Assignment 4: Create a zk proof system where you can prove to a verifier (with an agreed upon g and n) that you know the solution to an agreed upon system of equation, without revealing the solution**</font>"
   ]
  },
  {
   "cell_type": "code",
   "execution_count": 101,
   "id": "0c14fef2",
   "metadata": {},
   "outputs": [
    {
     "name": "stdout",
     "output_type": "stream",
     "text": [
      "96072360\n",
      "875807128\n",
      "96072360\n",
      "875807128\n"
     ]
    },
    {
     "data": {
      "text/plain": [
       "False"
      ]
     },
     "execution_count": 101,
     "metadata": {},
     "output_type": "execute_result"
    }
   ],
   "source": [
    "g = 57\n",
    "n = 1000004119\n",
    "x = 840\n",
    "y = 7104\n",
    "result = 7944\n",
    "\n",
    "x2 = 420\n",
    "y2 = 888\n",
    "\n",
    "\n",
    "gxy1 = (pow(g, x) * pow(g, y))%n \n",
    "# gxy2 = (2*pow(g, x2,n) * 8*pow(g, y2,n))%n \n",
    "\n",
    "# print(pow(g, x,n))\n",
    "# print(pow(g, y,n))\n",
    "# print(pow(g, 2*x2,n))\n",
    "# print(pow(g, 8*y2,n))\n",
    "\n",
    "\n",
    "# print(gxy1)\n",
    "# print(gxy2)\n",
    "\n",
    "def verifier(statement, witness):\n",
    "    \n",
    "    return(pow(g, statement, n) == witness)\n",
    "\n",
    "\n",
    "verifier(result, gxy)"
   ]
  },
  {
   "cell_type": "code",
   "execution_count": 130,
   "id": "646890eb",
   "metadata": {},
   "outputs": [
    {
     "data": {
      "text/plain": [
       "True"
      ]
     },
     "execution_count": 130,
     "metadata": {},
     "output_type": "execute_result"
    }
   ],
   "source": [
    "g = 57\n",
    "n = 1000004119\n",
    "x = 420\n",
    "y = 888\n",
    "result1 = 7944\n",
    "result2 = 4764\n",
    "witnessx = pow(g,x,n)\n",
    "witnessy = pow(g,y,n)\n",
    "\n",
    "def verifier(statement1, statement2, witnessx, witnessy):\n",
    "    temp1x = pow(witnessx, 2, n)\n",
    "    temp1y = pow(witnessy, 8, n)\n",
    "    temp2x = pow(witnessx, 5, n)\n",
    "    temp2y = pow(witnessy, 3, n)\n",
    "    \n",
    "    if temp1x * temp1y %n == pow(g,statement1,n) and temp2x * temp2y %n == pow(g, statement2, n):\n",
    "        return True\n",
    "    return False\n",
    "\n",
    "\n",
    "\n",
    "verifier(result1, result2, witnessx, witnessy)"
   ]
  },
  {
   "cell_type": "code",
   "execution_count": 110,
   "id": "b2cdeb4f",
   "metadata": {},
   "outputs": [],
   "source": [
    "# Schnorr Sigma\n",
    "g = 57\n",
    "n = 1000004119\n",
    "r = 98347\n",
    "# "
   ]
  },
  {
   "cell_type": "markdown",
   "id": "0c7a9d38",
   "metadata": {},
   "source": [
    "## The field of rational numbers ℚ is homomorphic to the field ℤp\n",
    "\n",
    "<font color='red'>**Assignment 5: Compute 53/192 + 61/511 (mod 1033) in python. Show your work. You are not required to implement euclid's algorithm.**</font>"
   ]
  },
  {
   "cell_type": "code",
   "execution_count": null,
   "id": "ad9ea620",
   "metadata": {},
   "outputs": [],
   "source": []
  }
 ],
 "metadata": {
  "kernelspec": {
   "display_name": "Python 3 (ipykernel)",
   "language": "python",
   "name": "python3"
  },
  "language_info": {
   "codemirror_mode": {
    "name": "ipython",
    "version": 3
   },
   "file_extension": ".py",
   "mimetype": "text/x-python",
   "name": "python",
   "nbconvert_exporter": "python",
   "pygments_lexer": "ipython3",
   "version": "3.11.4"
  }
 },
 "nbformat": 4,
 "nbformat_minor": 5
}
